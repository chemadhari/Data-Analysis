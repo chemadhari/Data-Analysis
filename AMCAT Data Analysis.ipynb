{
 "cells": [
  {
   "cell_type": "code",
   "execution_count": 1,
   "metadata": {},
   "outputs": [],
   "source": [
    "import numpy as np \n",
    "import pandas as pd\n",
    "import matplotlib.pyplot as plt\n",
    "import seaborn as sna"
   ]
  },
  {
   "cell_type": "markdown",
   "metadata": {},
   "source": [
    "## Loading data"
   ]
  },
  {
   "cell_type": "code",
   "execution_count": 2,
   "metadata": {},
   "outputs": [],
   "source": [
    "df = pd.read_excel('data.xlsx')"
   ]
  },
  {
   "cell_type": "code",
   "execution_count": 3,
   "metadata": {},
   "outputs": [
    {
     "data": {
      "text/html": [
       "<div>\n",
       "<style scoped>\n",
       "    .dataframe tbody tr th:only-of-type {\n",
       "        vertical-align: middle;\n",
       "    }\n",
       "\n",
       "    .dataframe tbody tr th {\n",
       "        vertical-align: top;\n",
       "    }\n",
       "\n",
       "    .dataframe thead th {\n",
       "        text-align: right;\n",
       "    }\n",
       "</style>\n",
       "<table border=\"1\" class=\"dataframe\">\n",
       "  <thead>\n",
       "    <tr style=\"text-align: right;\">\n",
       "      <th></th>\n",
       "      <th>Unnamed: 0</th>\n",
       "      <th>ID</th>\n",
       "      <th>Salary</th>\n",
       "      <th>DOJ</th>\n",
       "      <th>DOL</th>\n",
       "      <th>Designation</th>\n",
       "      <th>JobCity</th>\n",
       "      <th>Gender</th>\n",
       "      <th>DOB</th>\n",
       "      <th>10percentage</th>\n",
       "      <th>...</th>\n",
       "      <th>ComputerScience</th>\n",
       "      <th>MechanicalEngg</th>\n",
       "      <th>ElectricalEngg</th>\n",
       "      <th>TelecomEngg</th>\n",
       "      <th>CivilEngg</th>\n",
       "      <th>conscientiousness</th>\n",
       "      <th>agreeableness</th>\n",
       "      <th>extraversion</th>\n",
       "      <th>nueroticism</th>\n",
       "      <th>openess_to_experience</th>\n",
       "    </tr>\n",
       "  </thead>\n",
       "  <tbody>\n",
       "    <tr>\n",
       "      <td>0</td>\n",
       "      <td>train</td>\n",
       "      <td>203097</td>\n",
       "      <td>420000</td>\n",
       "      <td>2012-06-01</td>\n",
       "      <td>present</td>\n",
       "      <td>senior quality engineer</td>\n",
       "      <td>Bangalore</td>\n",
       "      <td>f</td>\n",
       "      <td>1990-02-19</td>\n",
       "      <td>84.3</td>\n",
       "      <td>...</td>\n",
       "      <td>-1</td>\n",
       "      <td>-1</td>\n",
       "      <td>-1</td>\n",
       "      <td>-1</td>\n",
       "      <td>-1</td>\n",
       "      <td>0.9737</td>\n",
       "      <td>0.8128</td>\n",
       "      <td>0.5269</td>\n",
       "      <td>1.35490</td>\n",
       "      <td>-0.4455</td>\n",
       "    </tr>\n",
       "    <tr>\n",
       "      <td>1</td>\n",
       "      <td>train</td>\n",
       "      <td>579905</td>\n",
       "      <td>500000</td>\n",
       "      <td>2013-09-01</td>\n",
       "      <td>present</td>\n",
       "      <td>assistant manager</td>\n",
       "      <td>Indore</td>\n",
       "      <td>m</td>\n",
       "      <td>1989-10-04</td>\n",
       "      <td>85.4</td>\n",
       "      <td>...</td>\n",
       "      <td>-1</td>\n",
       "      <td>-1</td>\n",
       "      <td>-1</td>\n",
       "      <td>-1</td>\n",
       "      <td>-1</td>\n",
       "      <td>-0.7335</td>\n",
       "      <td>0.3789</td>\n",
       "      <td>1.2396</td>\n",
       "      <td>-0.10760</td>\n",
       "      <td>0.8637</td>\n",
       "    </tr>\n",
       "    <tr>\n",
       "      <td>2</td>\n",
       "      <td>train</td>\n",
       "      <td>810601</td>\n",
       "      <td>325000</td>\n",
       "      <td>2014-06-01</td>\n",
       "      <td>present</td>\n",
       "      <td>systems engineer</td>\n",
       "      <td>Chennai</td>\n",
       "      <td>f</td>\n",
       "      <td>1992-08-03</td>\n",
       "      <td>85.0</td>\n",
       "      <td>...</td>\n",
       "      <td>-1</td>\n",
       "      <td>-1</td>\n",
       "      <td>-1</td>\n",
       "      <td>-1</td>\n",
       "      <td>-1</td>\n",
       "      <td>0.2718</td>\n",
       "      <td>1.7109</td>\n",
       "      <td>0.1637</td>\n",
       "      <td>-0.86820</td>\n",
       "      <td>0.6721</td>\n",
       "    </tr>\n",
       "    <tr>\n",
       "      <td>3</td>\n",
       "      <td>train</td>\n",
       "      <td>267447</td>\n",
       "      <td>1100000</td>\n",
       "      <td>2011-07-01</td>\n",
       "      <td>present</td>\n",
       "      <td>senior software engineer</td>\n",
       "      <td>Gurgaon</td>\n",
       "      <td>m</td>\n",
       "      <td>1989-12-05</td>\n",
       "      <td>85.6</td>\n",
       "      <td>...</td>\n",
       "      <td>-1</td>\n",
       "      <td>-1</td>\n",
       "      <td>-1</td>\n",
       "      <td>-1</td>\n",
       "      <td>-1</td>\n",
       "      <td>0.0464</td>\n",
       "      <td>0.3448</td>\n",
       "      <td>-0.3440</td>\n",
       "      <td>-0.40780</td>\n",
       "      <td>-0.9194</td>\n",
       "    </tr>\n",
       "    <tr>\n",
       "      <td>4</td>\n",
       "      <td>train</td>\n",
       "      <td>343523</td>\n",
       "      <td>200000</td>\n",
       "      <td>2014-03-01</td>\n",
       "      <td>2015-03-01 00:00:00</td>\n",
       "      <td>get</td>\n",
       "      <td>Manesar</td>\n",
       "      <td>m</td>\n",
       "      <td>1991-02-27</td>\n",
       "      <td>78.0</td>\n",
       "      <td>...</td>\n",
       "      <td>-1</td>\n",
       "      <td>-1</td>\n",
       "      <td>-1</td>\n",
       "      <td>-1</td>\n",
       "      <td>-1</td>\n",
       "      <td>-0.8810</td>\n",
       "      <td>-0.2793</td>\n",
       "      <td>-1.0697</td>\n",
       "      <td>0.09163</td>\n",
       "      <td>-0.1295</td>\n",
       "    </tr>\n",
       "  </tbody>\n",
       "</table>\n",
       "<p>5 rows × 39 columns</p>\n",
       "</div>"
      ],
      "text/plain": [
       "  Unnamed: 0      ID   Salary        DOJ                  DOL  \\\n",
       "0      train  203097   420000 2012-06-01              present   \n",
       "1      train  579905   500000 2013-09-01              present   \n",
       "2      train  810601   325000 2014-06-01              present   \n",
       "3      train  267447  1100000 2011-07-01              present   \n",
       "4      train  343523   200000 2014-03-01  2015-03-01 00:00:00   \n",
       "\n",
       "                Designation    JobCity Gender        DOB  10percentage  ...  \\\n",
       "0   senior quality engineer  Bangalore      f 1990-02-19          84.3  ...   \n",
       "1         assistant manager     Indore      m 1989-10-04          85.4  ...   \n",
       "2          systems engineer    Chennai      f 1992-08-03          85.0  ...   \n",
       "3  senior software engineer    Gurgaon      m 1989-12-05          85.6  ...   \n",
       "4                       get    Manesar      m 1991-02-27          78.0  ...   \n",
       "\n",
       "  ComputerScience  MechanicalEngg  ElectricalEngg TelecomEngg  CivilEngg  \\\n",
       "0              -1              -1              -1          -1         -1   \n",
       "1              -1              -1              -1          -1         -1   \n",
       "2              -1              -1              -1          -1         -1   \n",
       "3              -1              -1              -1          -1         -1   \n",
       "4              -1              -1              -1          -1         -1   \n",
       "\n",
       "   conscientiousness agreeableness extraversion  nueroticism  \\\n",
       "0             0.9737        0.8128       0.5269      1.35490   \n",
       "1            -0.7335        0.3789       1.2396     -0.10760   \n",
       "2             0.2718        1.7109       0.1637     -0.86820   \n",
       "3             0.0464        0.3448      -0.3440     -0.40780   \n",
       "4            -0.8810       -0.2793      -1.0697      0.09163   \n",
       "\n",
       "   openess_to_experience  \n",
       "0                -0.4455  \n",
       "1                 0.8637  \n",
       "2                 0.6721  \n",
       "3                -0.9194  \n",
       "4                -0.1295  \n",
       "\n",
       "[5 rows x 39 columns]"
      ]
     },
     "execution_count": 3,
     "metadata": {},
     "output_type": "execute_result"
    }
   ],
   "source": [
    "df.head()"
   ]
  },
  {
   "cell_type": "code",
   "execution_count": 4,
   "metadata": {},
   "outputs": [
    {
     "data": {
      "text/plain": [
       "(3998, 39)"
      ]
     },
     "execution_count": 4,
     "metadata": {},
     "output_type": "execute_result"
    }
   ],
   "source": [
    "df.shape"
   ]
  },
  {
   "cell_type": "code",
   "execution_count": 5,
   "metadata": {},
   "outputs": [
    {
     "name": "stdout",
     "output_type": "stream",
     "text": [
      "<class 'pandas.core.frame.DataFrame'>\n",
      "RangeIndex: 3998 entries, 0 to 3997\n",
      "Data columns (total 39 columns):\n",
      "Unnamed: 0               3998 non-null object\n",
      "ID                       3998 non-null int64\n",
      "Salary                   3998 non-null int64\n",
      "DOJ                      3998 non-null datetime64[ns]\n",
      "DOL                      3998 non-null object\n",
      "Designation              3998 non-null object\n",
      "JobCity                  3998 non-null object\n",
      "Gender                   3998 non-null object\n",
      "DOB                      3998 non-null datetime64[ns]\n",
      "10percentage             3998 non-null float64\n",
      "10board                  3998 non-null object\n",
      "12graduation             3998 non-null int64\n",
      "12percentage             3998 non-null float64\n",
      "12board                  3998 non-null object\n",
      "CollegeID                3998 non-null int64\n",
      "CollegeTier              3998 non-null int64\n",
      "Degree                   3998 non-null object\n",
      "Specialization           3998 non-null object\n",
      "collegeGPA               3998 non-null float64\n",
      "CollegeCityID            3998 non-null int64\n",
      "CollegeCityTier          3998 non-null int64\n",
      "CollegeState             3998 non-null object\n",
      "GraduationYear           3998 non-null int64\n",
      "English                  3998 non-null int64\n",
      "Logical                  3998 non-null int64\n",
      "Quant                    3998 non-null int64\n",
      "Domain                   3998 non-null float64\n",
      "ComputerProgramming      3998 non-null int64\n",
      "ElectronicsAndSemicon    3998 non-null int64\n",
      "ComputerScience          3998 non-null int64\n",
      "MechanicalEngg           3998 non-null int64\n",
      "ElectricalEngg           3998 non-null int64\n",
      "TelecomEngg              3998 non-null int64\n",
      "CivilEngg                3998 non-null int64\n",
      "conscientiousness        3998 non-null float64\n",
      "agreeableness            3998 non-null float64\n",
      "extraversion             3998 non-null float64\n",
      "nueroticism              3998 non-null float64\n",
      "openess_to_experience    3998 non-null float64\n",
      "dtypes: datetime64[ns](2), float64(9), int64(18), object(10)\n",
      "memory usage: 1.2+ MB\n"
     ]
    }
   ],
   "source": [
    "df.info()"
   ]
  },
  {
   "cell_type": "code",
   "execution_count": 6,
   "metadata": {},
   "outputs": [
    {
     "data": {
      "text/html": [
       "<div>\n",
       "<style scoped>\n",
       "    .dataframe tbody tr th:only-of-type {\n",
       "        vertical-align: middle;\n",
       "    }\n",
       "\n",
       "    .dataframe tbody tr th {\n",
       "        vertical-align: top;\n",
       "    }\n",
       "\n",
       "    .dataframe thead th {\n",
       "        text-align: right;\n",
       "    }\n",
       "</style>\n",
       "<table border=\"1\" class=\"dataframe\">\n",
       "  <thead>\n",
       "    <tr style=\"text-align: right;\">\n",
       "      <th></th>\n",
       "      <th>ID</th>\n",
       "      <th>Salary</th>\n",
       "      <th>10percentage</th>\n",
       "      <th>12graduation</th>\n",
       "      <th>12percentage</th>\n",
       "      <th>CollegeID</th>\n",
       "      <th>CollegeTier</th>\n",
       "      <th>collegeGPA</th>\n",
       "      <th>CollegeCityID</th>\n",
       "      <th>CollegeCityTier</th>\n",
       "      <th>...</th>\n",
       "      <th>ComputerScience</th>\n",
       "      <th>MechanicalEngg</th>\n",
       "      <th>ElectricalEngg</th>\n",
       "      <th>TelecomEngg</th>\n",
       "      <th>CivilEngg</th>\n",
       "      <th>conscientiousness</th>\n",
       "      <th>agreeableness</th>\n",
       "      <th>extraversion</th>\n",
       "      <th>nueroticism</th>\n",
       "      <th>openess_to_experience</th>\n",
       "    </tr>\n",
       "  </thead>\n",
       "  <tbody>\n",
       "    <tr>\n",
       "      <td>count</td>\n",
       "      <td>3.998000e+03</td>\n",
       "      <td>3.998000e+03</td>\n",
       "      <td>3998.000000</td>\n",
       "      <td>3998.000000</td>\n",
       "      <td>3998.000000</td>\n",
       "      <td>3998.000000</td>\n",
       "      <td>3998.000000</td>\n",
       "      <td>3998.000000</td>\n",
       "      <td>3998.000000</td>\n",
       "      <td>3998.000000</td>\n",
       "      <td>...</td>\n",
       "      <td>3998.000000</td>\n",
       "      <td>3998.000000</td>\n",
       "      <td>3998.000000</td>\n",
       "      <td>3998.000000</td>\n",
       "      <td>3998.000000</td>\n",
       "      <td>3998.000000</td>\n",
       "      <td>3998.000000</td>\n",
       "      <td>3998.000000</td>\n",
       "      <td>3998.000000</td>\n",
       "      <td>3998.000000</td>\n",
       "    </tr>\n",
       "    <tr>\n",
       "      <td>mean</td>\n",
       "      <td>6.637945e+05</td>\n",
       "      <td>3.076998e+05</td>\n",
       "      <td>77.925443</td>\n",
       "      <td>2008.087544</td>\n",
       "      <td>74.466366</td>\n",
       "      <td>5156.851426</td>\n",
       "      <td>1.925713</td>\n",
       "      <td>71.486171</td>\n",
       "      <td>5156.851426</td>\n",
       "      <td>0.300400</td>\n",
       "      <td>...</td>\n",
       "      <td>90.742371</td>\n",
       "      <td>22.974737</td>\n",
       "      <td>16.478739</td>\n",
       "      <td>31.851176</td>\n",
       "      <td>2.683842</td>\n",
       "      <td>-0.037831</td>\n",
       "      <td>0.146496</td>\n",
       "      <td>0.002763</td>\n",
       "      <td>-0.169033</td>\n",
       "      <td>-0.138110</td>\n",
       "    </tr>\n",
       "    <tr>\n",
       "      <td>std</td>\n",
       "      <td>3.632182e+05</td>\n",
       "      <td>2.127375e+05</td>\n",
       "      <td>9.850162</td>\n",
       "      <td>1.653599</td>\n",
       "      <td>10.999933</td>\n",
       "      <td>4802.261482</td>\n",
       "      <td>0.262270</td>\n",
       "      <td>8.167338</td>\n",
       "      <td>4802.261482</td>\n",
       "      <td>0.458489</td>\n",
       "      <td>...</td>\n",
       "      <td>175.273083</td>\n",
       "      <td>98.123311</td>\n",
       "      <td>87.585634</td>\n",
       "      <td>104.852845</td>\n",
       "      <td>36.658505</td>\n",
       "      <td>1.028666</td>\n",
       "      <td>0.941782</td>\n",
       "      <td>0.951471</td>\n",
       "      <td>1.007580</td>\n",
       "      <td>1.008075</td>\n",
       "    </tr>\n",
       "    <tr>\n",
       "      <td>min</td>\n",
       "      <td>1.124400e+04</td>\n",
       "      <td>3.500000e+04</td>\n",
       "      <td>43.000000</td>\n",
       "      <td>1995.000000</td>\n",
       "      <td>40.000000</td>\n",
       "      <td>2.000000</td>\n",
       "      <td>1.000000</td>\n",
       "      <td>6.450000</td>\n",
       "      <td>2.000000</td>\n",
       "      <td>0.000000</td>\n",
       "      <td>...</td>\n",
       "      <td>-1.000000</td>\n",
       "      <td>-1.000000</td>\n",
       "      <td>-1.000000</td>\n",
       "      <td>-1.000000</td>\n",
       "      <td>-1.000000</td>\n",
       "      <td>-4.126700</td>\n",
       "      <td>-5.781600</td>\n",
       "      <td>-4.600900</td>\n",
       "      <td>-2.643000</td>\n",
       "      <td>-7.375700</td>\n",
       "    </tr>\n",
       "    <tr>\n",
       "      <td>25%</td>\n",
       "      <td>3.342842e+05</td>\n",
       "      <td>1.800000e+05</td>\n",
       "      <td>71.680000</td>\n",
       "      <td>2007.000000</td>\n",
       "      <td>66.000000</td>\n",
       "      <td>494.000000</td>\n",
       "      <td>2.000000</td>\n",
       "      <td>66.407500</td>\n",
       "      <td>494.000000</td>\n",
       "      <td>0.000000</td>\n",
       "      <td>...</td>\n",
       "      <td>-1.000000</td>\n",
       "      <td>-1.000000</td>\n",
       "      <td>-1.000000</td>\n",
       "      <td>-1.000000</td>\n",
       "      <td>-1.000000</td>\n",
       "      <td>-0.713525</td>\n",
       "      <td>-0.287100</td>\n",
       "      <td>-0.604800</td>\n",
       "      <td>-0.868200</td>\n",
       "      <td>-0.669200</td>\n",
       "    </tr>\n",
       "    <tr>\n",
       "      <td>50%</td>\n",
       "      <td>6.396000e+05</td>\n",
       "      <td>3.000000e+05</td>\n",
       "      <td>79.150000</td>\n",
       "      <td>2008.000000</td>\n",
       "      <td>74.400000</td>\n",
       "      <td>3879.000000</td>\n",
       "      <td>2.000000</td>\n",
       "      <td>71.720000</td>\n",
       "      <td>3879.000000</td>\n",
       "      <td>0.000000</td>\n",
       "      <td>...</td>\n",
       "      <td>-1.000000</td>\n",
       "      <td>-1.000000</td>\n",
       "      <td>-1.000000</td>\n",
       "      <td>-1.000000</td>\n",
       "      <td>-1.000000</td>\n",
       "      <td>0.046400</td>\n",
       "      <td>0.212400</td>\n",
       "      <td>0.091400</td>\n",
       "      <td>-0.234400</td>\n",
       "      <td>-0.094300</td>\n",
       "    </tr>\n",
       "    <tr>\n",
       "      <td>75%</td>\n",
       "      <td>9.904800e+05</td>\n",
       "      <td>3.700000e+05</td>\n",
       "      <td>85.670000</td>\n",
       "      <td>2009.000000</td>\n",
       "      <td>82.600000</td>\n",
       "      <td>8818.000000</td>\n",
       "      <td>2.000000</td>\n",
       "      <td>76.327500</td>\n",
       "      <td>8818.000000</td>\n",
       "      <td>1.000000</td>\n",
       "      <td>...</td>\n",
       "      <td>-1.000000</td>\n",
       "      <td>-1.000000</td>\n",
       "      <td>-1.000000</td>\n",
       "      <td>-1.000000</td>\n",
       "      <td>-1.000000</td>\n",
       "      <td>0.702700</td>\n",
       "      <td>0.812800</td>\n",
       "      <td>0.672000</td>\n",
       "      <td>0.526200</td>\n",
       "      <td>0.502400</td>\n",
       "    </tr>\n",
       "    <tr>\n",
       "      <td>max</td>\n",
       "      <td>1.298275e+06</td>\n",
       "      <td>4.000000e+06</td>\n",
       "      <td>97.760000</td>\n",
       "      <td>2013.000000</td>\n",
       "      <td>98.700000</td>\n",
       "      <td>18409.000000</td>\n",
       "      <td>2.000000</td>\n",
       "      <td>99.930000</td>\n",
       "      <td>18409.000000</td>\n",
       "      <td>1.000000</td>\n",
       "      <td>...</td>\n",
       "      <td>715.000000</td>\n",
       "      <td>623.000000</td>\n",
       "      <td>676.000000</td>\n",
       "      <td>548.000000</td>\n",
       "      <td>516.000000</td>\n",
       "      <td>1.995300</td>\n",
       "      <td>1.904800</td>\n",
       "      <td>2.535400</td>\n",
       "      <td>3.352500</td>\n",
       "      <td>1.822400</td>\n",
       "    </tr>\n",
       "  </tbody>\n",
       "</table>\n",
       "<p>8 rows × 27 columns</p>\n",
       "</div>"
      ],
      "text/plain": [
       "                 ID        Salary  10percentage  12graduation  12percentage  \\\n",
       "count  3.998000e+03  3.998000e+03   3998.000000   3998.000000   3998.000000   \n",
       "mean   6.637945e+05  3.076998e+05     77.925443   2008.087544     74.466366   \n",
       "std    3.632182e+05  2.127375e+05      9.850162      1.653599     10.999933   \n",
       "min    1.124400e+04  3.500000e+04     43.000000   1995.000000     40.000000   \n",
       "25%    3.342842e+05  1.800000e+05     71.680000   2007.000000     66.000000   \n",
       "50%    6.396000e+05  3.000000e+05     79.150000   2008.000000     74.400000   \n",
       "75%    9.904800e+05  3.700000e+05     85.670000   2009.000000     82.600000   \n",
       "max    1.298275e+06  4.000000e+06     97.760000   2013.000000     98.700000   \n",
       "\n",
       "          CollegeID  CollegeTier   collegeGPA  CollegeCityID  CollegeCityTier  \\\n",
       "count   3998.000000  3998.000000  3998.000000    3998.000000      3998.000000   \n",
       "mean    5156.851426     1.925713    71.486171    5156.851426         0.300400   \n",
       "std     4802.261482     0.262270     8.167338    4802.261482         0.458489   \n",
       "min        2.000000     1.000000     6.450000       2.000000         0.000000   \n",
       "25%      494.000000     2.000000    66.407500     494.000000         0.000000   \n",
       "50%     3879.000000     2.000000    71.720000    3879.000000         0.000000   \n",
       "75%     8818.000000     2.000000    76.327500    8818.000000         1.000000   \n",
       "max    18409.000000     2.000000    99.930000   18409.000000         1.000000   \n",
       "\n",
       "       ...  ComputerScience  MechanicalEngg  ElectricalEngg  TelecomEngg  \\\n",
       "count  ...      3998.000000     3998.000000     3998.000000  3998.000000   \n",
       "mean   ...        90.742371       22.974737       16.478739    31.851176   \n",
       "std    ...       175.273083       98.123311       87.585634   104.852845   \n",
       "min    ...        -1.000000       -1.000000       -1.000000    -1.000000   \n",
       "25%    ...        -1.000000       -1.000000       -1.000000    -1.000000   \n",
       "50%    ...        -1.000000       -1.000000       -1.000000    -1.000000   \n",
       "75%    ...        -1.000000       -1.000000       -1.000000    -1.000000   \n",
       "max    ...       715.000000      623.000000      676.000000   548.000000   \n",
       "\n",
       "         CivilEngg  conscientiousness  agreeableness  extraversion  \\\n",
       "count  3998.000000        3998.000000    3998.000000   3998.000000   \n",
       "mean      2.683842          -0.037831       0.146496      0.002763   \n",
       "std      36.658505           1.028666       0.941782      0.951471   \n",
       "min      -1.000000          -4.126700      -5.781600     -4.600900   \n",
       "25%      -1.000000          -0.713525      -0.287100     -0.604800   \n",
       "50%      -1.000000           0.046400       0.212400      0.091400   \n",
       "75%      -1.000000           0.702700       0.812800      0.672000   \n",
       "max     516.000000           1.995300       1.904800      2.535400   \n",
       "\n",
       "       nueroticism  openess_to_experience  \n",
       "count  3998.000000            3998.000000  \n",
       "mean     -0.169033              -0.138110  \n",
       "std       1.007580               1.008075  \n",
       "min      -2.643000              -7.375700  \n",
       "25%      -0.868200              -0.669200  \n",
       "50%      -0.234400              -0.094300  \n",
       "75%       0.526200               0.502400  \n",
       "max       3.352500               1.822400  \n",
       "\n",
       "[8 rows x 27 columns]"
      ]
     },
     "execution_count": 6,
     "metadata": {},
     "output_type": "execute_result"
    }
   ],
   "source": [
    "df.describe()"
   ]
  },
  {
   "cell_type": "code",
   "execution_count": null,
   "metadata": {},
   "outputs": [],
   "source": []
  },
  {
   "cell_type": "code",
   "execution_count": 7,
   "metadata": {},
   "outputs": [
    {
     "data": {
      "text/plain": [
       "(3998, 38)"
      ]
     },
     "execution_count": 7,
     "metadata": {},
     "output_type": "execute_result"
    }
   ],
   "source": [
    "# dropping the 1st column\n",
    "\n",
    "df.drop('Unnamed: 0', axis = 1, inplace = True)\n",
    "df.shape"
   ]
  },
  {
   "cell_type": "code",
   "execution_count": 8,
   "metadata": {},
   "outputs": [
    {
     "data": {
      "text/html": [
       "<div>\n",
       "<style scoped>\n",
       "    .dataframe tbody tr th:only-of-type {\n",
       "        vertical-align: middle;\n",
       "    }\n",
       "\n",
       "    .dataframe tbody tr th {\n",
       "        vertical-align: top;\n",
       "    }\n",
       "\n",
       "    .dataframe thead th {\n",
       "        text-align: right;\n",
       "    }\n",
       "</style>\n",
       "<table border=\"1\" class=\"dataframe\">\n",
       "  <thead>\n",
       "    <tr style=\"text-align: right;\">\n",
       "      <th></th>\n",
       "      <th>ID</th>\n",
       "      <th>Salary</th>\n",
       "      <th>DOJ</th>\n",
       "      <th>DOL</th>\n",
       "      <th>Designation</th>\n",
       "      <th>JobCity</th>\n",
       "      <th>Gender</th>\n",
       "      <th>DOB</th>\n",
       "      <th>10percentage</th>\n",
       "      <th>10board</th>\n",
       "      <th>...</th>\n",
       "      <th>ComputerScience</th>\n",
       "      <th>MechanicalEngg</th>\n",
       "      <th>ElectricalEngg</th>\n",
       "      <th>TelecomEngg</th>\n",
       "      <th>CivilEngg</th>\n",
       "      <th>conscientiousness</th>\n",
       "      <th>agreeableness</th>\n",
       "      <th>extraversion</th>\n",
       "      <th>nueroticism</th>\n",
       "      <th>openess_to_experience</th>\n",
       "    </tr>\n",
       "  </thead>\n",
       "  <tbody>\n",
       "    <tr>\n",
       "      <td>0</td>\n",
       "      <td>203097</td>\n",
       "      <td>420000</td>\n",
       "      <td>2012-06-01</td>\n",
       "      <td>present</td>\n",
       "      <td>senior quality engineer</td>\n",
       "      <td>Bangalore</td>\n",
       "      <td>f</td>\n",
       "      <td>1990-02-19</td>\n",
       "      <td>84.3</td>\n",
       "      <td>board ofsecondary education,ap</td>\n",
       "      <td>...</td>\n",
       "      <td>-1</td>\n",
       "      <td>-1</td>\n",
       "      <td>-1</td>\n",
       "      <td>-1</td>\n",
       "      <td>-1</td>\n",
       "      <td>0.9737</td>\n",
       "      <td>0.8128</td>\n",
       "      <td>0.5269</td>\n",
       "      <td>1.35490</td>\n",
       "      <td>-0.4455</td>\n",
       "    </tr>\n",
       "    <tr>\n",
       "      <td>1</td>\n",
       "      <td>579905</td>\n",
       "      <td>500000</td>\n",
       "      <td>2013-09-01</td>\n",
       "      <td>present</td>\n",
       "      <td>assistant manager</td>\n",
       "      <td>Indore</td>\n",
       "      <td>m</td>\n",
       "      <td>1989-10-04</td>\n",
       "      <td>85.4</td>\n",
       "      <td>cbse</td>\n",
       "      <td>...</td>\n",
       "      <td>-1</td>\n",
       "      <td>-1</td>\n",
       "      <td>-1</td>\n",
       "      <td>-1</td>\n",
       "      <td>-1</td>\n",
       "      <td>-0.7335</td>\n",
       "      <td>0.3789</td>\n",
       "      <td>1.2396</td>\n",
       "      <td>-0.10760</td>\n",
       "      <td>0.8637</td>\n",
       "    </tr>\n",
       "    <tr>\n",
       "      <td>2</td>\n",
       "      <td>810601</td>\n",
       "      <td>325000</td>\n",
       "      <td>2014-06-01</td>\n",
       "      <td>present</td>\n",
       "      <td>systems engineer</td>\n",
       "      <td>Chennai</td>\n",
       "      <td>f</td>\n",
       "      <td>1992-08-03</td>\n",
       "      <td>85.0</td>\n",
       "      <td>cbse</td>\n",
       "      <td>...</td>\n",
       "      <td>-1</td>\n",
       "      <td>-1</td>\n",
       "      <td>-1</td>\n",
       "      <td>-1</td>\n",
       "      <td>-1</td>\n",
       "      <td>0.2718</td>\n",
       "      <td>1.7109</td>\n",
       "      <td>0.1637</td>\n",
       "      <td>-0.86820</td>\n",
       "      <td>0.6721</td>\n",
       "    </tr>\n",
       "    <tr>\n",
       "      <td>3</td>\n",
       "      <td>267447</td>\n",
       "      <td>1100000</td>\n",
       "      <td>2011-07-01</td>\n",
       "      <td>present</td>\n",
       "      <td>senior software engineer</td>\n",
       "      <td>Gurgaon</td>\n",
       "      <td>m</td>\n",
       "      <td>1989-12-05</td>\n",
       "      <td>85.6</td>\n",
       "      <td>cbse</td>\n",
       "      <td>...</td>\n",
       "      <td>-1</td>\n",
       "      <td>-1</td>\n",
       "      <td>-1</td>\n",
       "      <td>-1</td>\n",
       "      <td>-1</td>\n",
       "      <td>0.0464</td>\n",
       "      <td>0.3448</td>\n",
       "      <td>-0.3440</td>\n",
       "      <td>-0.40780</td>\n",
       "      <td>-0.9194</td>\n",
       "    </tr>\n",
       "    <tr>\n",
       "      <td>4</td>\n",
       "      <td>343523</td>\n",
       "      <td>200000</td>\n",
       "      <td>2014-03-01</td>\n",
       "      <td>2015-03-01 00:00:00</td>\n",
       "      <td>get</td>\n",
       "      <td>Manesar</td>\n",
       "      <td>m</td>\n",
       "      <td>1991-02-27</td>\n",
       "      <td>78.0</td>\n",
       "      <td>cbse</td>\n",
       "      <td>...</td>\n",
       "      <td>-1</td>\n",
       "      <td>-1</td>\n",
       "      <td>-1</td>\n",
       "      <td>-1</td>\n",
       "      <td>-1</td>\n",
       "      <td>-0.8810</td>\n",
       "      <td>-0.2793</td>\n",
       "      <td>-1.0697</td>\n",
       "      <td>0.09163</td>\n",
       "      <td>-0.1295</td>\n",
       "    </tr>\n",
       "  </tbody>\n",
       "</table>\n",
       "<p>5 rows × 38 columns</p>\n",
       "</div>"
      ],
      "text/plain": [
       "       ID   Salary        DOJ                  DOL               Designation  \\\n",
       "0  203097   420000 2012-06-01              present   senior quality engineer   \n",
       "1  579905   500000 2013-09-01              present         assistant manager   \n",
       "2  810601   325000 2014-06-01              present          systems engineer   \n",
       "3  267447  1100000 2011-07-01              present  senior software engineer   \n",
       "4  343523   200000 2014-03-01  2015-03-01 00:00:00                       get   \n",
       "\n",
       "     JobCity Gender        DOB  10percentage                         10board  \\\n",
       "0  Bangalore      f 1990-02-19          84.3  board ofsecondary education,ap   \n",
       "1     Indore      m 1989-10-04          85.4                            cbse   \n",
       "2    Chennai      f 1992-08-03          85.0                            cbse   \n",
       "3    Gurgaon      m 1989-12-05          85.6                            cbse   \n",
       "4    Manesar      m 1991-02-27          78.0                            cbse   \n",
       "\n",
       "   ...  ComputerScience  MechanicalEngg ElectricalEngg  TelecomEngg  \\\n",
       "0  ...               -1              -1             -1           -1   \n",
       "1  ...               -1              -1             -1           -1   \n",
       "2  ...               -1              -1             -1           -1   \n",
       "3  ...               -1              -1             -1           -1   \n",
       "4  ...               -1              -1             -1           -1   \n",
       "\n",
       "   CivilEngg conscientiousness agreeableness  extraversion  nueroticism  \\\n",
       "0         -1            0.9737        0.8128        0.5269      1.35490   \n",
       "1         -1           -0.7335        0.3789        1.2396     -0.10760   \n",
       "2         -1            0.2718        1.7109        0.1637     -0.86820   \n",
       "3         -1            0.0464        0.3448       -0.3440     -0.40780   \n",
       "4         -1           -0.8810       -0.2793       -1.0697      0.09163   \n",
       "\n",
       "   openess_to_experience  \n",
       "0                -0.4455  \n",
       "1                 0.8637  \n",
       "2                 0.6721  \n",
       "3                -0.9194  \n",
       "4                -0.1295  \n",
       "\n",
       "[5 rows x 38 columns]"
      ]
     },
     "execution_count": 8,
     "metadata": {},
     "output_type": "execute_result"
    }
   ],
   "source": [
    "df.head()"
   ]
  },
  {
   "cell_type": "code",
   "execution_count": 9,
   "metadata": {},
   "outputs": [
    {
     "name": "stdout",
     "output_type": "stream",
     "text": [
      "<class 'pandas.core.frame.DataFrame'>\n",
      "RangeIndex: 3998 entries, 0 to 3997\n",
      "Data columns (total 38 columns):\n",
      "ID                       3998 non-null int64\n",
      "Salary                   3998 non-null int64\n",
      "DOJ                      3998 non-null datetime64[ns]\n",
      "DOL                      3998 non-null object\n",
      "Designation              3998 non-null object\n",
      "JobCity                  3998 non-null object\n",
      "Gender                   3998 non-null object\n",
      "DOB                      3998 non-null datetime64[ns]\n",
      "10percentage             3998 non-null float64\n",
      "10board                  3998 non-null object\n",
      "12graduation             3998 non-null int64\n",
      "12percentage             3998 non-null float64\n",
      "12board                  3998 non-null object\n",
      "CollegeID                3998 non-null int64\n",
      "CollegeTier              3998 non-null int64\n",
      "Degree                   3998 non-null object\n",
      "Specialization           3998 non-null object\n",
      "collegeGPA               3998 non-null float64\n",
      "CollegeCityID            3998 non-null int64\n",
      "CollegeCityTier          3998 non-null int64\n",
      "CollegeState             3998 non-null object\n",
      "GraduationYear           3998 non-null int64\n",
      "English                  3998 non-null int64\n",
      "Logical                  3998 non-null int64\n",
      "Quant                    3998 non-null int64\n",
      "Domain                   3998 non-null float64\n",
      "ComputerProgramming      3998 non-null int64\n",
      "ElectronicsAndSemicon    3998 non-null int64\n",
      "ComputerScience          3998 non-null int64\n",
      "MechanicalEngg           3998 non-null int64\n",
      "ElectricalEngg           3998 non-null int64\n",
      "TelecomEngg              3998 non-null int64\n",
      "CivilEngg                3998 non-null int64\n",
      "conscientiousness        3998 non-null float64\n",
      "agreeableness            3998 non-null float64\n",
      "extraversion             3998 non-null float64\n",
      "nueroticism              3998 non-null float64\n",
      "openess_to_experience    3998 non-null float64\n",
      "dtypes: datetime64[ns](2), float64(9), int64(18), object(9)\n",
      "memory usage: 1.2+ MB\n"
     ]
    }
   ],
   "source": [
    "df.info()"
   ]
  },
  {
   "cell_type": "code",
   "execution_count": 10,
   "metadata": {},
   "outputs": [
    {
     "data": {
      "text/html": [
       "<div>\n",
       "<style scoped>\n",
       "    .dataframe tbody tr th:only-of-type {\n",
       "        vertical-align: middle;\n",
       "    }\n",
       "\n",
       "    .dataframe tbody tr th {\n",
       "        vertical-align: top;\n",
       "    }\n",
       "\n",
       "    .dataframe thead th {\n",
       "        text-align: right;\n",
       "    }\n",
       "</style>\n",
       "<table border=\"1\" class=\"dataframe\">\n",
       "  <thead>\n",
       "    <tr style=\"text-align: right;\">\n",
       "      <th></th>\n",
       "      <th>ID</th>\n",
       "      <th>Salary</th>\n",
       "      <th>DOJ</th>\n",
       "      <th>DOL</th>\n",
       "      <th>Designation</th>\n",
       "      <th>JobCity</th>\n",
       "      <th>Gender</th>\n",
       "      <th>DOB</th>\n",
       "      <th>10percentage</th>\n",
       "      <th>10board</th>\n",
       "      <th>...</th>\n",
       "      <th>ComputerScience</th>\n",
       "      <th>MechanicalEngg</th>\n",
       "      <th>ElectricalEngg</th>\n",
       "      <th>TelecomEngg</th>\n",
       "      <th>CivilEngg</th>\n",
       "      <th>conscientiousness</th>\n",
       "      <th>agreeableness</th>\n",
       "      <th>extraversion</th>\n",
       "      <th>nueroticism</th>\n",
       "      <th>openess_to_experience</th>\n",
       "    </tr>\n",
       "  </thead>\n",
       "  <tbody>\n",
       "    <tr>\n",
       "      <td>0</td>\n",
       "      <td>203097</td>\n",
       "      <td>420000</td>\n",
       "      <td>2012-06-01</td>\n",
       "      <td>present</td>\n",
       "      <td>senior quality engineer</td>\n",
       "      <td>Bangalore</td>\n",
       "      <td>f</td>\n",
       "      <td>1990-02-19</td>\n",
       "      <td>84.3</td>\n",
       "      <td>board ofsecondary education,ap</td>\n",
       "      <td>...</td>\n",
       "      <td>-1</td>\n",
       "      <td>-1</td>\n",
       "      <td>-1</td>\n",
       "      <td>-1</td>\n",
       "      <td>-1</td>\n",
       "      <td>0.9737</td>\n",
       "      <td>0.8128</td>\n",
       "      <td>0.5269</td>\n",
       "      <td>1.35490</td>\n",
       "      <td>-0.4455</td>\n",
       "    </tr>\n",
       "    <tr>\n",
       "      <td>1</td>\n",
       "      <td>579905</td>\n",
       "      <td>500000</td>\n",
       "      <td>2013-09-01</td>\n",
       "      <td>present</td>\n",
       "      <td>assistant manager</td>\n",
       "      <td>Indore</td>\n",
       "      <td>m</td>\n",
       "      <td>1989-10-04</td>\n",
       "      <td>85.4</td>\n",
       "      <td>cbse</td>\n",
       "      <td>...</td>\n",
       "      <td>-1</td>\n",
       "      <td>-1</td>\n",
       "      <td>-1</td>\n",
       "      <td>-1</td>\n",
       "      <td>-1</td>\n",
       "      <td>-0.7335</td>\n",
       "      <td>0.3789</td>\n",
       "      <td>1.2396</td>\n",
       "      <td>-0.10760</td>\n",
       "      <td>0.8637</td>\n",
       "    </tr>\n",
       "    <tr>\n",
       "      <td>2</td>\n",
       "      <td>810601</td>\n",
       "      <td>325000</td>\n",
       "      <td>2014-06-01</td>\n",
       "      <td>present</td>\n",
       "      <td>systems engineer</td>\n",
       "      <td>Chennai</td>\n",
       "      <td>f</td>\n",
       "      <td>1992-08-03</td>\n",
       "      <td>85.0</td>\n",
       "      <td>cbse</td>\n",
       "      <td>...</td>\n",
       "      <td>-1</td>\n",
       "      <td>-1</td>\n",
       "      <td>-1</td>\n",
       "      <td>-1</td>\n",
       "      <td>-1</td>\n",
       "      <td>0.2718</td>\n",
       "      <td>1.7109</td>\n",
       "      <td>0.1637</td>\n",
       "      <td>-0.86820</td>\n",
       "      <td>0.6721</td>\n",
       "    </tr>\n",
       "    <tr>\n",
       "      <td>3</td>\n",
       "      <td>267447</td>\n",
       "      <td>1100000</td>\n",
       "      <td>2011-07-01</td>\n",
       "      <td>present</td>\n",
       "      <td>senior software engineer</td>\n",
       "      <td>Gurgaon</td>\n",
       "      <td>m</td>\n",
       "      <td>1989-12-05</td>\n",
       "      <td>85.6</td>\n",
       "      <td>cbse</td>\n",
       "      <td>...</td>\n",
       "      <td>-1</td>\n",
       "      <td>-1</td>\n",
       "      <td>-1</td>\n",
       "      <td>-1</td>\n",
       "      <td>-1</td>\n",
       "      <td>0.0464</td>\n",
       "      <td>0.3448</td>\n",
       "      <td>-0.3440</td>\n",
       "      <td>-0.40780</td>\n",
       "      <td>-0.9194</td>\n",
       "    </tr>\n",
       "    <tr>\n",
       "      <td>4</td>\n",
       "      <td>343523</td>\n",
       "      <td>200000</td>\n",
       "      <td>2014-03-01</td>\n",
       "      <td>2015-03-01 00:00:00</td>\n",
       "      <td>get</td>\n",
       "      <td>Manesar</td>\n",
       "      <td>m</td>\n",
       "      <td>1991-02-27</td>\n",
       "      <td>78.0</td>\n",
       "      <td>cbse</td>\n",
       "      <td>...</td>\n",
       "      <td>-1</td>\n",
       "      <td>-1</td>\n",
       "      <td>-1</td>\n",
       "      <td>-1</td>\n",
       "      <td>-1</td>\n",
       "      <td>-0.8810</td>\n",
       "      <td>-0.2793</td>\n",
       "      <td>-1.0697</td>\n",
       "      <td>0.09163</td>\n",
       "      <td>-0.1295</td>\n",
       "    </tr>\n",
       "  </tbody>\n",
       "</table>\n",
       "<p>5 rows × 38 columns</p>\n",
       "</div>"
      ],
      "text/plain": [
       "       ID   Salary        DOJ                  DOL               Designation  \\\n",
       "0  203097   420000 2012-06-01              present   senior quality engineer   \n",
       "1  579905   500000 2013-09-01              present         assistant manager   \n",
       "2  810601   325000 2014-06-01              present          systems engineer   \n",
       "3  267447  1100000 2011-07-01              present  senior software engineer   \n",
       "4  343523   200000 2014-03-01  2015-03-01 00:00:00                       get   \n",
       "\n",
       "     JobCity Gender        DOB  10percentage                         10board  \\\n",
       "0  Bangalore      f 1990-02-19          84.3  board ofsecondary education,ap   \n",
       "1     Indore      m 1989-10-04          85.4                            cbse   \n",
       "2    Chennai      f 1992-08-03          85.0                            cbse   \n",
       "3    Gurgaon      m 1989-12-05          85.6                            cbse   \n",
       "4    Manesar      m 1991-02-27          78.0                            cbse   \n",
       "\n",
       "   ...  ComputerScience  MechanicalEngg ElectricalEngg  TelecomEngg  \\\n",
       "0  ...               -1              -1             -1           -1   \n",
       "1  ...               -1              -1             -1           -1   \n",
       "2  ...               -1              -1             -1           -1   \n",
       "3  ...               -1              -1             -1           -1   \n",
       "4  ...               -1              -1             -1           -1   \n",
       "\n",
       "   CivilEngg conscientiousness agreeableness  extraversion  nueroticism  \\\n",
       "0         -1            0.9737        0.8128        0.5269      1.35490   \n",
       "1         -1           -0.7335        0.3789        1.2396     -0.10760   \n",
       "2         -1            0.2718        1.7109        0.1637     -0.86820   \n",
       "3         -1            0.0464        0.3448       -0.3440     -0.40780   \n",
       "4         -1           -0.8810       -0.2793       -1.0697      0.09163   \n",
       "\n",
       "   openess_to_experience  \n",
       "0                -0.4455  \n",
       "1                 0.8637  \n",
       "2                 0.6721  \n",
       "3                -0.9194  \n",
       "4                -0.1295  \n",
       "\n",
       "[5 rows x 38 columns]"
      ]
     },
     "execution_count": 10,
     "metadata": {},
     "output_type": "execute_result"
    }
   ],
   "source": [
    "df.head()"
   ]
  },
  {
   "cell_type": "code",
   "execution_count": 11,
   "metadata": {},
   "outputs": [
    {
     "data": {
      "text/html": [
       "<div>\n",
       "<style scoped>\n",
       "    .dataframe tbody tr th:only-of-type {\n",
       "        vertical-align: middle;\n",
       "    }\n",
       "\n",
       "    .dataframe tbody tr th {\n",
       "        vertical-align: top;\n",
       "    }\n",
       "\n",
       "    .dataframe thead th {\n",
       "        text-align: right;\n",
       "    }\n",
       "</style>\n",
       "<table border=\"1\" class=\"dataframe\">\n",
       "  <thead>\n",
       "    <tr style=\"text-align: right;\">\n",
       "      <th></th>\n",
       "      <th>ID</th>\n",
       "      <th>Salary</th>\n",
       "      <th>DOJ</th>\n",
       "      <th>DOL</th>\n",
       "      <th>Designation</th>\n",
       "      <th>JobCity</th>\n",
       "      <th>Gender</th>\n",
       "      <th>DOB</th>\n",
       "      <th>10percentage</th>\n",
       "      <th>10board</th>\n",
       "      <th>...</th>\n",
       "      <th>ComputerScience</th>\n",
       "      <th>MechanicalEngg</th>\n",
       "      <th>ElectricalEngg</th>\n",
       "      <th>TelecomEngg</th>\n",
       "      <th>CivilEngg</th>\n",
       "      <th>conscientiousness</th>\n",
       "      <th>agreeableness</th>\n",
       "      <th>extraversion</th>\n",
       "      <th>nueroticism</th>\n",
       "      <th>openess_to_experience</th>\n",
       "    </tr>\n",
       "  </thead>\n",
       "  <tbody>\n",
       "    <tr>\n",
       "      <td>0</td>\n",
       "      <td>203097</td>\n",
       "      <td>420000</td>\n",
       "      <td>2012-06-01</td>\n",
       "      <td>2024-02-23</td>\n",
       "      <td>senior quality engineer</td>\n",
       "      <td>Bangalore</td>\n",
       "      <td>f</td>\n",
       "      <td>1990-02-19</td>\n",
       "      <td>84.3</td>\n",
       "      <td>board ofsecondary education,ap</td>\n",
       "      <td>...</td>\n",
       "      <td>-1</td>\n",
       "      <td>-1</td>\n",
       "      <td>-1</td>\n",
       "      <td>-1</td>\n",
       "      <td>-1</td>\n",
       "      <td>0.9737</td>\n",
       "      <td>0.8128</td>\n",
       "      <td>0.5269</td>\n",
       "      <td>1.35490</td>\n",
       "      <td>-0.4455</td>\n",
       "    </tr>\n",
       "    <tr>\n",
       "      <td>1</td>\n",
       "      <td>579905</td>\n",
       "      <td>500000</td>\n",
       "      <td>2013-09-01</td>\n",
       "      <td>2024-02-23</td>\n",
       "      <td>assistant manager</td>\n",
       "      <td>Indore</td>\n",
       "      <td>m</td>\n",
       "      <td>1989-10-04</td>\n",
       "      <td>85.4</td>\n",
       "      <td>cbse</td>\n",
       "      <td>...</td>\n",
       "      <td>-1</td>\n",
       "      <td>-1</td>\n",
       "      <td>-1</td>\n",
       "      <td>-1</td>\n",
       "      <td>-1</td>\n",
       "      <td>-0.7335</td>\n",
       "      <td>0.3789</td>\n",
       "      <td>1.2396</td>\n",
       "      <td>-0.10760</td>\n",
       "      <td>0.8637</td>\n",
       "    </tr>\n",
       "    <tr>\n",
       "      <td>2</td>\n",
       "      <td>810601</td>\n",
       "      <td>325000</td>\n",
       "      <td>2014-06-01</td>\n",
       "      <td>2024-02-23</td>\n",
       "      <td>systems engineer</td>\n",
       "      <td>Chennai</td>\n",
       "      <td>f</td>\n",
       "      <td>1992-08-03</td>\n",
       "      <td>85.0</td>\n",
       "      <td>cbse</td>\n",
       "      <td>...</td>\n",
       "      <td>-1</td>\n",
       "      <td>-1</td>\n",
       "      <td>-1</td>\n",
       "      <td>-1</td>\n",
       "      <td>-1</td>\n",
       "      <td>0.2718</td>\n",
       "      <td>1.7109</td>\n",
       "      <td>0.1637</td>\n",
       "      <td>-0.86820</td>\n",
       "      <td>0.6721</td>\n",
       "    </tr>\n",
       "    <tr>\n",
       "      <td>3</td>\n",
       "      <td>267447</td>\n",
       "      <td>1100000</td>\n",
       "      <td>2011-07-01</td>\n",
       "      <td>2024-02-23</td>\n",
       "      <td>senior software engineer</td>\n",
       "      <td>Gurgaon</td>\n",
       "      <td>m</td>\n",
       "      <td>1989-12-05</td>\n",
       "      <td>85.6</td>\n",
       "      <td>cbse</td>\n",
       "      <td>...</td>\n",
       "      <td>-1</td>\n",
       "      <td>-1</td>\n",
       "      <td>-1</td>\n",
       "      <td>-1</td>\n",
       "      <td>-1</td>\n",
       "      <td>0.0464</td>\n",
       "      <td>0.3448</td>\n",
       "      <td>-0.3440</td>\n",
       "      <td>-0.40780</td>\n",
       "      <td>-0.9194</td>\n",
       "    </tr>\n",
       "    <tr>\n",
       "      <td>4</td>\n",
       "      <td>343523</td>\n",
       "      <td>200000</td>\n",
       "      <td>2014-03-01</td>\n",
       "      <td>2015-03-01</td>\n",
       "      <td>get</td>\n",
       "      <td>Manesar</td>\n",
       "      <td>m</td>\n",
       "      <td>1991-02-27</td>\n",
       "      <td>78.0</td>\n",
       "      <td>cbse</td>\n",
       "      <td>...</td>\n",
       "      <td>-1</td>\n",
       "      <td>-1</td>\n",
       "      <td>-1</td>\n",
       "      <td>-1</td>\n",
       "      <td>-1</td>\n",
       "      <td>-0.8810</td>\n",
       "      <td>-0.2793</td>\n",
       "      <td>-1.0697</td>\n",
       "      <td>0.09163</td>\n",
       "      <td>-0.1295</td>\n",
       "    </tr>\n",
       "  </tbody>\n",
       "</table>\n",
       "<p>5 rows × 38 columns</p>\n",
       "</div>"
      ],
      "text/plain": [
       "       ID   Salary        DOJ         DOL               Designation  \\\n",
       "0  203097   420000 2012-06-01  2024-02-23   senior quality engineer   \n",
       "1  579905   500000 2013-09-01  2024-02-23         assistant manager   \n",
       "2  810601   325000 2014-06-01  2024-02-23          systems engineer   \n",
       "3  267447  1100000 2011-07-01  2024-02-23  senior software engineer   \n",
       "4  343523   200000 2014-03-01  2015-03-01                       get   \n",
       "\n",
       "     JobCity Gender        DOB  10percentage                         10board  \\\n",
       "0  Bangalore      f 1990-02-19          84.3  board ofsecondary education,ap   \n",
       "1     Indore      m 1989-10-04          85.4                            cbse   \n",
       "2    Chennai      f 1992-08-03          85.0                            cbse   \n",
       "3    Gurgaon      m 1989-12-05          85.6                            cbse   \n",
       "4    Manesar      m 1991-02-27          78.0                            cbse   \n",
       "\n",
       "   ...  ComputerScience  MechanicalEngg ElectricalEngg  TelecomEngg  \\\n",
       "0  ...               -1              -1             -1           -1   \n",
       "1  ...               -1              -1             -1           -1   \n",
       "2  ...               -1              -1             -1           -1   \n",
       "3  ...               -1              -1             -1           -1   \n",
       "4  ...               -1              -1             -1           -1   \n",
       "\n",
       "   CivilEngg conscientiousness agreeableness  extraversion  nueroticism  \\\n",
       "0         -1            0.9737        0.8128        0.5269      1.35490   \n",
       "1         -1           -0.7335        0.3789        1.2396     -0.10760   \n",
       "2         -1            0.2718        1.7109        0.1637     -0.86820   \n",
       "3         -1            0.0464        0.3448       -0.3440     -0.40780   \n",
       "4         -1           -0.8810       -0.2793       -1.0697      0.09163   \n",
       "\n",
       "   openess_to_experience  \n",
       "0                -0.4455  \n",
       "1                 0.8637  \n",
       "2                 0.6721  \n",
       "3                -0.9194  \n",
       "4                -0.1295  \n",
       "\n",
       "[5 rows x 38 columns]"
      ]
     },
     "execution_count": 11,
     "metadata": {},
     "output_type": "execute_result"
    }
   ],
   "source": [
    "import datetime as dt\n",
    "df[\"DOL\"].replace(\"present\",dt.datetime.today(),inplace=True)\n",
    "df['DOL'] = pd.to_datetime(df['DOL']).dt.date\n",
    "df.head(5)"
   ]
  },
  {
   "cell_type": "code",
   "execution_count": 12,
   "metadata": {},
   "outputs": [
    {
     "name": "stdout",
     "output_type": "stream",
     "text": [
      "<class 'pandas.core.frame.DataFrame'>\n",
      "RangeIndex: 3998 entries, 0 to 3997\n",
      "Data columns (total 38 columns):\n",
      "ID                       3998 non-null int64\n",
      "Salary                   3998 non-null int64\n",
      "DOJ                      3998 non-null datetime64[ns]\n",
      "DOL                      3998 non-null object\n",
      "Designation              3998 non-null object\n",
      "JobCity                  3998 non-null object\n",
      "Gender                   3998 non-null object\n",
      "DOB                      3998 non-null datetime64[ns]\n",
      "10percentage             3998 non-null float64\n",
      "10board                  3998 non-null object\n",
      "12graduation             3998 non-null int64\n",
      "12percentage             3998 non-null float64\n",
      "12board                  3998 non-null object\n",
      "CollegeID                3998 non-null int64\n",
      "CollegeTier              3998 non-null int64\n",
      "Degree                   3998 non-null object\n",
      "Specialization           3998 non-null object\n",
      "collegeGPA               3998 non-null float64\n",
      "CollegeCityID            3998 non-null int64\n",
      "CollegeCityTier          3998 non-null int64\n",
      "CollegeState             3998 non-null object\n",
      "GraduationYear           3998 non-null int64\n",
      "English                  3998 non-null int64\n",
      "Logical                  3998 non-null int64\n",
      "Quant                    3998 non-null int64\n",
      "Domain                   3998 non-null float64\n",
      "ComputerProgramming      3998 non-null int64\n",
      "ElectronicsAndSemicon    3998 non-null int64\n",
      "ComputerScience          3998 non-null int64\n",
      "MechanicalEngg           3998 non-null int64\n",
      "ElectricalEngg           3998 non-null int64\n",
      "TelecomEngg              3998 non-null int64\n",
      "CivilEngg                3998 non-null int64\n",
      "conscientiousness        3998 non-null float64\n",
      "agreeableness            3998 non-null float64\n",
      "extraversion             3998 non-null float64\n",
      "nueroticism              3998 non-null float64\n",
      "openess_to_experience    3998 non-null float64\n",
      "dtypes: datetime64[ns](2), float64(9), int64(18), object(9)\n",
      "memory usage: 1.2+ MB\n"
     ]
    }
   ],
   "source": [
    "df.info()"
   ]
  },
  {
   "cell_type": "markdown",
   "metadata": {},
   "source": [
    "## Fixing the Data Type of columns"
   ]
  },
  {
   "cell_type": "code",
   "execution_count": 13,
   "metadata": {},
   "outputs": [
    {
     "name": "stdout",
     "output_type": "stream",
     "text": [
      "<class 'pandas.core.frame.DataFrame'>\n",
      "RangeIndex: 3998 entries, 0 to 3997\n",
      "Data columns (total 38 columns):\n",
      "ID                       3998 non-null int64\n",
      "Salary                   3998 non-null int64\n",
      "DOJ                      3998 non-null datetime64[ns]\n",
      "DOL                      3998 non-null datetime64[ns]\n",
      "Designation              3998 non-null object\n",
      "JobCity                  3998 non-null object\n",
      "Gender                   3998 non-null object\n",
      "DOB                      3998 non-null datetime64[ns]\n",
      "10percentage             3998 non-null float64\n",
      "10board                  3998 non-null object\n",
      "12graduation             3998 non-null int64\n",
      "12percentage             3998 non-null float64\n",
      "12board                  3998 non-null object\n",
      "CollegeID                3998 non-null int64\n",
      "CollegeTier              3998 non-null int64\n",
      "Degree                   3998 non-null object\n",
      "Specialization           3998 non-null object\n",
      "collegeGPA               3998 non-null float64\n",
      "CollegeCityID            3998 non-null int64\n",
      "CollegeCityTier          3998 non-null int64\n",
      "CollegeState             3998 non-null object\n",
      "GraduationYear           3998 non-null int64\n",
      "English                  3998 non-null int64\n",
      "Logical                  3998 non-null int64\n",
      "Quant                    3998 non-null int64\n",
      "Domain                   3998 non-null float64\n",
      "ComputerProgramming      3998 non-null int64\n",
      "ElectronicsAndSemicon    3998 non-null int64\n",
      "ComputerScience          3998 non-null int64\n",
      "MechanicalEngg           3998 non-null int64\n",
      "ElectricalEngg           3998 non-null int64\n",
      "TelecomEngg              3998 non-null int64\n",
      "CivilEngg                3998 non-null int64\n",
      "conscientiousness        3998 non-null float64\n",
      "agreeableness            3998 non-null float64\n",
      "extraversion             3998 non-null float64\n",
      "nueroticism              3998 non-null float64\n",
      "openess_to_experience    3998 non-null float64\n",
      "dtypes: datetime64[ns](3), float64(9), int64(18), object(8)\n",
      "memory usage: 1.2+ MB\n"
     ]
    }
   ],
   "source": [
    "df['DOJ'] = pd.to_datetime(df['DOJ'])\n",
    "df['DOL'] = pd.to_datetime(df['DOL'])\n",
    "\n",
    "df.info()"
   ]
  },
  {
   "cell_type": "code",
   "execution_count": 14,
   "metadata": {},
   "outputs": [
    {
     "data": {
      "text/plain": [
       "ID                       0\n",
       "Salary                   0\n",
       "DOJ                      0\n",
       "DOL                      0\n",
       "Designation              0\n",
       "JobCity                  0\n",
       "Gender                   0\n",
       "DOB                      0\n",
       "10percentage             0\n",
       "10board                  0\n",
       "12graduation             0\n",
       "12percentage             0\n",
       "12board                  0\n",
       "CollegeID                0\n",
       "CollegeTier              0\n",
       "Degree                   0\n",
       "Specialization           0\n",
       "collegeGPA               0\n",
       "CollegeCityID            0\n",
       "CollegeCityTier          0\n",
       "CollegeState             0\n",
       "GraduationYear           0\n",
       "English                  0\n",
       "Logical                  0\n",
       "Quant                    0\n",
       "Domain                   0\n",
       "ComputerProgramming      0\n",
       "ElectronicsAndSemicon    0\n",
       "ComputerScience          0\n",
       "MechanicalEngg           0\n",
       "ElectricalEngg           0\n",
       "TelecomEngg              0\n",
       "CivilEngg                0\n",
       "conscientiousness        0\n",
       "agreeableness            0\n",
       "extraversion             0\n",
       "nueroticism              0\n",
       "openess_to_experience    0\n",
       "dtype: int64"
      ]
     },
     "execution_count": 14,
     "metadata": {},
     "output_type": "execute_result"
    }
   ],
   "source": [
    "# Null values\n",
    "\n",
    "df.isnull().sum()"
   ]
  },
  {
   "cell_type": "code",
   "execution_count": 15,
   "metadata": {},
   "outputs": [],
   "source": [
    "df['Domain'] = df['Domain'].replace({-1:np.nan})\n",
    "df['ComputerProgramming'] = df['ComputerProgramming'].replace({-1:0})\n",
    "df['ElectronicsAndSemicon'] = df['ElectronicsAndSemicon'].replace({-1:0})\n",
    "df['ComputerScience'] = df['ComputerScience'].replace({-1:0})\n",
    "df['MechanicalEngg'] = df['MechanicalEngg'].replace({-1:0})\n",
    "df['ElectricalEngg'] = df['ElectricalEngg'].replace({-1:0})\n",
    "df['TelecomEngg'] = df['TelecomEngg'].replace({-1:0})\n",
    "df['CivilEngg'] = df['CivilEngg'].replace({-1:0})"
   ]
  },
  {
   "cell_type": "code",
   "execution_count": 16,
   "metadata": {},
   "outputs": [],
   "source": [
    "df['JobCity'] = df['JobCity'].replace(-1,np.nan)"
   ]
  },
  {
   "cell_type": "code",
   "execution_count": 17,
   "metadata": {},
   "outputs": [
    {
     "data": {
      "text/html": [
       "<div>\n",
       "<style scoped>\n",
       "    .dataframe tbody tr th:only-of-type {\n",
       "        vertical-align: middle;\n",
       "    }\n",
       "\n",
       "    .dataframe tbody tr th {\n",
       "        vertical-align: top;\n",
       "    }\n",
       "\n",
       "    .dataframe thead th {\n",
       "        text-align: right;\n",
       "    }\n",
       "</style>\n",
       "<table border=\"1\" class=\"dataframe\">\n",
       "  <thead>\n",
       "    <tr style=\"text-align: right;\">\n",
       "      <th></th>\n",
       "      <th>ID</th>\n",
       "      <th>Salary</th>\n",
       "      <th>DOJ</th>\n",
       "      <th>DOL</th>\n",
       "      <th>Designation</th>\n",
       "      <th>JobCity</th>\n",
       "      <th>Gender</th>\n",
       "      <th>DOB</th>\n",
       "      <th>10percentage</th>\n",
       "      <th>10board</th>\n",
       "      <th>...</th>\n",
       "      <th>ComputerScience</th>\n",
       "      <th>MechanicalEngg</th>\n",
       "      <th>ElectricalEngg</th>\n",
       "      <th>TelecomEngg</th>\n",
       "      <th>CivilEngg</th>\n",
       "      <th>conscientiousness</th>\n",
       "      <th>agreeableness</th>\n",
       "      <th>extraversion</th>\n",
       "      <th>nueroticism</th>\n",
       "      <th>openess_to_experience</th>\n",
       "    </tr>\n",
       "  </thead>\n",
       "  <tbody>\n",
       "    <tr>\n",
       "      <td>0</td>\n",
       "      <td>203097</td>\n",
       "      <td>420000</td>\n",
       "      <td>2012-06-01</td>\n",
       "      <td>2024-02-23</td>\n",
       "      <td>senior quality engineer</td>\n",
       "      <td>Bangalore</td>\n",
       "      <td>f</td>\n",
       "      <td>1990-02-19</td>\n",
       "      <td>84.3</td>\n",
       "      <td>board ofsecondary education,ap</td>\n",
       "      <td>...</td>\n",
       "      <td>0</td>\n",
       "      <td>0</td>\n",
       "      <td>0</td>\n",
       "      <td>0</td>\n",
       "      <td>0</td>\n",
       "      <td>0.9737</td>\n",
       "      <td>0.8128</td>\n",
       "      <td>0.5269</td>\n",
       "      <td>1.35490</td>\n",
       "      <td>-0.4455</td>\n",
       "    </tr>\n",
       "    <tr>\n",
       "      <td>1</td>\n",
       "      <td>579905</td>\n",
       "      <td>500000</td>\n",
       "      <td>2013-09-01</td>\n",
       "      <td>2024-02-23</td>\n",
       "      <td>assistant manager</td>\n",
       "      <td>Indore</td>\n",
       "      <td>m</td>\n",
       "      <td>1989-10-04</td>\n",
       "      <td>85.4</td>\n",
       "      <td>cbse</td>\n",
       "      <td>...</td>\n",
       "      <td>0</td>\n",
       "      <td>0</td>\n",
       "      <td>0</td>\n",
       "      <td>0</td>\n",
       "      <td>0</td>\n",
       "      <td>-0.7335</td>\n",
       "      <td>0.3789</td>\n",
       "      <td>1.2396</td>\n",
       "      <td>-0.10760</td>\n",
       "      <td>0.8637</td>\n",
       "    </tr>\n",
       "    <tr>\n",
       "      <td>2</td>\n",
       "      <td>810601</td>\n",
       "      <td>325000</td>\n",
       "      <td>2014-06-01</td>\n",
       "      <td>2024-02-23</td>\n",
       "      <td>systems engineer</td>\n",
       "      <td>Chennai</td>\n",
       "      <td>f</td>\n",
       "      <td>1992-08-03</td>\n",
       "      <td>85.0</td>\n",
       "      <td>cbse</td>\n",
       "      <td>...</td>\n",
       "      <td>0</td>\n",
       "      <td>0</td>\n",
       "      <td>0</td>\n",
       "      <td>0</td>\n",
       "      <td>0</td>\n",
       "      <td>0.2718</td>\n",
       "      <td>1.7109</td>\n",
       "      <td>0.1637</td>\n",
       "      <td>-0.86820</td>\n",
       "      <td>0.6721</td>\n",
       "    </tr>\n",
       "    <tr>\n",
       "      <td>3</td>\n",
       "      <td>267447</td>\n",
       "      <td>1100000</td>\n",
       "      <td>2011-07-01</td>\n",
       "      <td>2024-02-23</td>\n",
       "      <td>senior software engineer</td>\n",
       "      <td>Gurgaon</td>\n",
       "      <td>m</td>\n",
       "      <td>1989-12-05</td>\n",
       "      <td>85.6</td>\n",
       "      <td>cbse</td>\n",
       "      <td>...</td>\n",
       "      <td>0</td>\n",
       "      <td>0</td>\n",
       "      <td>0</td>\n",
       "      <td>0</td>\n",
       "      <td>0</td>\n",
       "      <td>0.0464</td>\n",
       "      <td>0.3448</td>\n",
       "      <td>-0.3440</td>\n",
       "      <td>-0.40780</td>\n",
       "      <td>-0.9194</td>\n",
       "    </tr>\n",
       "    <tr>\n",
       "      <td>4</td>\n",
       "      <td>343523</td>\n",
       "      <td>200000</td>\n",
       "      <td>2014-03-01</td>\n",
       "      <td>2015-03-01</td>\n",
       "      <td>get</td>\n",
       "      <td>Manesar</td>\n",
       "      <td>m</td>\n",
       "      <td>1991-02-27</td>\n",
       "      <td>78.0</td>\n",
       "      <td>cbse</td>\n",
       "      <td>...</td>\n",
       "      <td>0</td>\n",
       "      <td>0</td>\n",
       "      <td>0</td>\n",
       "      <td>0</td>\n",
       "      <td>0</td>\n",
       "      <td>-0.8810</td>\n",
       "      <td>-0.2793</td>\n",
       "      <td>-1.0697</td>\n",
       "      <td>0.09163</td>\n",
       "      <td>-0.1295</td>\n",
       "    </tr>\n",
       "  </tbody>\n",
       "</table>\n",
       "<p>5 rows × 38 columns</p>\n",
       "</div>"
      ],
      "text/plain": [
       "       ID   Salary        DOJ        DOL               Designation    JobCity  \\\n",
       "0  203097   420000 2012-06-01 2024-02-23   senior quality engineer  Bangalore   \n",
       "1  579905   500000 2013-09-01 2024-02-23         assistant manager     Indore   \n",
       "2  810601   325000 2014-06-01 2024-02-23          systems engineer    Chennai   \n",
       "3  267447  1100000 2011-07-01 2024-02-23  senior software engineer    Gurgaon   \n",
       "4  343523   200000 2014-03-01 2015-03-01                       get    Manesar   \n",
       "\n",
       "  Gender        DOB  10percentage                         10board  ...  \\\n",
       "0      f 1990-02-19          84.3  board ofsecondary education,ap  ...   \n",
       "1      m 1989-10-04          85.4                            cbse  ...   \n",
       "2      f 1992-08-03          85.0                            cbse  ...   \n",
       "3      m 1989-12-05          85.6                            cbse  ...   \n",
       "4      m 1991-02-27          78.0                            cbse  ...   \n",
       "\n",
       "   ComputerScience  MechanicalEngg ElectricalEngg  TelecomEngg  CivilEngg  \\\n",
       "0                0               0              0            0          0   \n",
       "1                0               0              0            0          0   \n",
       "2                0               0              0            0          0   \n",
       "3                0               0              0            0          0   \n",
       "4                0               0              0            0          0   \n",
       "\n",
       "  conscientiousness agreeableness  extraversion  nueroticism  \\\n",
       "0            0.9737        0.8128        0.5269      1.35490   \n",
       "1           -0.7335        0.3789        1.2396     -0.10760   \n",
       "2            0.2718        1.7109        0.1637     -0.86820   \n",
       "3            0.0464        0.3448       -0.3440     -0.40780   \n",
       "4           -0.8810       -0.2793       -1.0697      0.09163   \n",
       "\n",
       "   openess_to_experience  \n",
       "0                -0.4455  \n",
       "1                 0.8637  \n",
       "2                 0.6721  \n",
       "3                -0.9194  \n",
       "4                -0.1295  \n",
       "\n",
       "[5 rows x 38 columns]"
      ]
     },
     "execution_count": 17,
     "metadata": {},
     "output_type": "execute_result"
    }
   ],
   "source": [
    "df.head()"
   ]
  },
  {
   "cell_type": "code",
   "execution_count": 18,
   "metadata": {},
   "outputs": [
    {
     "data": {
      "text/html": [
       "<div>\n",
       "<style scoped>\n",
       "    .dataframe tbody tr th:only-of-type {\n",
       "        vertical-align: middle;\n",
       "    }\n",
       "\n",
       "    .dataframe tbody tr th {\n",
       "        vertical-align: top;\n",
       "    }\n",
       "\n",
       "    .dataframe thead th {\n",
       "        text-align: right;\n",
       "    }\n",
       "</style>\n",
       "<table border=\"1\" class=\"dataframe\">\n",
       "  <thead>\n",
       "    <tr style=\"text-align: right;\">\n",
       "      <th></th>\n",
       "      <th>ID</th>\n",
       "      <th>Salary</th>\n",
       "      <th>10percentage</th>\n",
       "      <th>12graduation</th>\n",
       "      <th>12percentage</th>\n",
       "      <th>CollegeID</th>\n",
       "      <th>CollegeTier</th>\n",
       "      <th>collegeGPA</th>\n",
       "      <th>CollegeCityID</th>\n",
       "      <th>CollegeCityTier</th>\n",
       "      <th>...</th>\n",
       "      <th>ComputerScience</th>\n",
       "      <th>MechanicalEngg</th>\n",
       "      <th>ElectricalEngg</th>\n",
       "      <th>TelecomEngg</th>\n",
       "      <th>CivilEngg</th>\n",
       "      <th>conscientiousness</th>\n",
       "      <th>agreeableness</th>\n",
       "      <th>extraversion</th>\n",
       "      <th>nueroticism</th>\n",
       "      <th>openess_to_experience</th>\n",
       "    </tr>\n",
       "  </thead>\n",
       "  <tbody>\n",
       "    <tr>\n",
       "      <td>count</td>\n",
       "      <td>3.998000e+03</td>\n",
       "      <td>3.998000e+03</td>\n",
       "      <td>3998.000000</td>\n",
       "      <td>3998.000000</td>\n",
       "      <td>3998.000000</td>\n",
       "      <td>3998.000000</td>\n",
       "      <td>3998.000000</td>\n",
       "      <td>3998.000000</td>\n",
       "      <td>3998.000000</td>\n",
       "      <td>3998.000000</td>\n",
       "      <td>...</td>\n",
       "      <td>3998.000000</td>\n",
       "      <td>3998.000000</td>\n",
       "      <td>3998.000000</td>\n",
       "      <td>3998.000000</td>\n",
       "      <td>3998.000000</td>\n",
       "      <td>3998.000000</td>\n",
       "      <td>3998.000000</td>\n",
       "      <td>3998.000000</td>\n",
       "      <td>3998.000000</td>\n",
       "      <td>3998.000000</td>\n",
       "    </tr>\n",
       "    <tr>\n",
       "      <td>mean</td>\n",
       "      <td>6.637945e+05</td>\n",
       "      <td>3.076998e+05</td>\n",
       "      <td>77.925443</td>\n",
       "      <td>2008.087544</td>\n",
       "      <td>74.466366</td>\n",
       "      <td>5156.851426</td>\n",
       "      <td>1.925713</td>\n",
       "      <td>71.486171</td>\n",
       "      <td>5156.851426</td>\n",
       "      <td>0.300400</td>\n",
       "      <td>...</td>\n",
       "      <td>91.516758</td>\n",
       "      <td>23.915958</td>\n",
       "      <td>17.438469</td>\n",
       "      <td>32.757629</td>\n",
       "      <td>3.673337</td>\n",
       "      <td>-0.037831</td>\n",
       "      <td>0.146496</td>\n",
       "      <td>0.002763</td>\n",
       "      <td>-0.169033</td>\n",
       "      <td>-0.138110</td>\n",
       "    </tr>\n",
       "    <tr>\n",
       "      <td>std</td>\n",
       "      <td>3.632182e+05</td>\n",
       "      <td>2.127375e+05</td>\n",
       "      <td>9.850162</td>\n",
       "      <td>1.653599</td>\n",
       "      <td>10.999933</td>\n",
       "      <td>4802.261482</td>\n",
       "      <td>0.262270</td>\n",
       "      <td>8.167338</td>\n",
       "      <td>4802.261482</td>\n",
       "      <td>0.458489</td>\n",
       "      <td>...</td>\n",
       "      <td>174.867677</td>\n",
       "      <td>97.893295</td>\n",
       "      <td>87.394072</td>\n",
       "      <td>104.568796</td>\n",
       "      <td>36.559052</td>\n",
       "      <td>1.028666</td>\n",
       "      <td>0.941782</td>\n",
       "      <td>0.951471</td>\n",
       "      <td>1.007580</td>\n",
       "      <td>1.008075</td>\n",
       "    </tr>\n",
       "    <tr>\n",
       "      <td>min</td>\n",
       "      <td>1.124400e+04</td>\n",
       "      <td>3.500000e+04</td>\n",
       "      <td>43.000000</td>\n",
       "      <td>1995.000000</td>\n",
       "      <td>40.000000</td>\n",
       "      <td>2.000000</td>\n",
       "      <td>1.000000</td>\n",
       "      <td>6.450000</td>\n",
       "      <td>2.000000</td>\n",
       "      <td>0.000000</td>\n",
       "      <td>...</td>\n",
       "      <td>0.000000</td>\n",
       "      <td>0.000000</td>\n",
       "      <td>0.000000</td>\n",
       "      <td>0.000000</td>\n",
       "      <td>0.000000</td>\n",
       "      <td>-4.126700</td>\n",
       "      <td>-5.781600</td>\n",
       "      <td>-4.600900</td>\n",
       "      <td>-2.643000</td>\n",
       "      <td>-7.375700</td>\n",
       "    </tr>\n",
       "    <tr>\n",
       "      <td>25%</td>\n",
       "      <td>3.342842e+05</td>\n",
       "      <td>1.800000e+05</td>\n",
       "      <td>71.680000</td>\n",
       "      <td>2007.000000</td>\n",
       "      <td>66.000000</td>\n",
       "      <td>494.000000</td>\n",
       "      <td>2.000000</td>\n",
       "      <td>66.407500</td>\n",
       "      <td>494.000000</td>\n",
       "      <td>0.000000</td>\n",
       "      <td>...</td>\n",
       "      <td>0.000000</td>\n",
       "      <td>0.000000</td>\n",
       "      <td>0.000000</td>\n",
       "      <td>0.000000</td>\n",
       "      <td>0.000000</td>\n",
       "      <td>-0.713525</td>\n",
       "      <td>-0.287100</td>\n",
       "      <td>-0.604800</td>\n",
       "      <td>-0.868200</td>\n",
       "      <td>-0.669200</td>\n",
       "    </tr>\n",
       "    <tr>\n",
       "      <td>50%</td>\n",
       "      <td>6.396000e+05</td>\n",
       "      <td>3.000000e+05</td>\n",
       "      <td>79.150000</td>\n",
       "      <td>2008.000000</td>\n",
       "      <td>74.400000</td>\n",
       "      <td>3879.000000</td>\n",
       "      <td>2.000000</td>\n",
       "      <td>71.720000</td>\n",
       "      <td>3879.000000</td>\n",
       "      <td>0.000000</td>\n",
       "      <td>...</td>\n",
       "      <td>0.000000</td>\n",
       "      <td>0.000000</td>\n",
       "      <td>0.000000</td>\n",
       "      <td>0.000000</td>\n",
       "      <td>0.000000</td>\n",
       "      <td>0.046400</td>\n",
       "      <td>0.212400</td>\n",
       "      <td>0.091400</td>\n",
       "      <td>-0.234400</td>\n",
       "      <td>-0.094300</td>\n",
       "    </tr>\n",
       "    <tr>\n",
       "      <td>75%</td>\n",
       "      <td>9.904800e+05</td>\n",
       "      <td>3.700000e+05</td>\n",
       "      <td>85.670000</td>\n",
       "      <td>2009.000000</td>\n",
       "      <td>82.600000</td>\n",
       "      <td>8818.000000</td>\n",
       "      <td>2.000000</td>\n",
       "      <td>76.327500</td>\n",
       "      <td>8818.000000</td>\n",
       "      <td>1.000000</td>\n",
       "      <td>...</td>\n",
       "      <td>0.000000</td>\n",
       "      <td>0.000000</td>\n",
       "      <td>0.000000</td>\n",
       "      <td>0.000000</td>\n",
       "      <td>0.000000</td>\n",
       "      <td>0.702700</td>\n",
       "      <td>0.812800</td>\n",
       "      <td>0.672000</td>\n",
       "      <td>0.526200</td>\n",
       "      <td>0.502400</td>\n",
       "    </tr>\n",
       "    <tr>\n",
       "      <td>max</td>\n",
       "      <td>1.298275e+06</td>\n",
       "      <td>4.000000e+06</td>\n",
       "      <td>97.760000</td>\n",
       "      <td>2013.000000</td>\n",
       "      <td>98.700000</td>\n",
       "      <td>18409.000000</td>\n",
       "      <td>2.000000</td>\n",
       "      <td>99.930000</td>\n",
       "      <td>18409.000000</td>\n",
       "      <td>1.000000</td>\n",
       "      <td>...</td>\n",
       "      <td>715.000000</td>\n",
       "      <td>623.000000</td>\n",
       "      <td>676.000000</td>\n",
       "      <td>548.000000</td>\n",
       "      <td>516.000000</td>\n",
       "      <td>1.995300</td>\n",
       "      <td>1.904800</td>\n",
       "      <td>2.535400</td>\n",
       "      <td>3.352500</td>\n",
       "      <td>1.822400</td>\n",
       "    </tr>\n",
       "  </tbody>\n",
       "</table>\n",
       "<p>8 rows × 27 columns</p>\n",
       "</div>"
      ],
      "text/plain": [
       "                 ID        Salary  10percentage  12graduation  12percentage  \\\n",
       "count  3.998000e+03  3.998000e+03   3998.000000   3998.000000   3998.000000   \n",
       "mean   6.637945e+05  3.076998e+05     77.925443   2008.087544     74.466366   \n",
       "std    3.632182e+05  2.127375e+05      9.850162      1.653599     10.999933   \n",
       "min    1.124400e+04  3.500000e+04     43.000000   1995.000000     40.000000   \n",
       "25%    3.342842e+05  1.800000e+05     71.680000   2007.000000     66.000000   \n",
       "50%    6.396000e+05  3.000000e+05     79.150000   2008.000000     74.400000   \n",
       "75%    9.904800e+05  3.700000e+05     85.670000   2009.000000     82.600000   \n",
       "max    1.298275e+06  4.000000e+06     97.760000   2013.000000     98.700000   \n",
       "\n",
       "          CollegeID  CollegeTier   collegeGPA  CollegeCityID  CollegeCityTier  \\\n",
       "count   3998.000000  3998.000000  3998.000000    3998.000000      3998.000000   \n",
       "mean    5156.851426     1.925713    71.486171    5156.851426         0.300400   \n",
       "std     4802.261482     0.262270     8.167338    4802.261482         0.458489   \n",
       "min        2.000000     1.000000     6.450000       2.000000         0.000000   \n",
       "25%      494.000000     2.000000    66.407500     494.000000         0.000000   \n",
       "50%     3879.000000     2.000000    71.720000    3879.000000         0.000000   \n",
       "75%     8818.000000     2.000000    76.327500    8818.000000         1.000000   \n",
       "max    18409.000000     2.000000    99.930000   18409.000000         1.000000   \n",
       "\n",
       "       ...  ComputerScience  MechanicalEngg  ElectricalEngg  TelecomEngg  \\\n",
       "count  ...      3998.000000     3998.000000     3998.000000  3998.000000   \n",
       "mean   ...        91.516758       23.915958       17.438469    32.757629   \n",
       "std    ...       174.867677       97.893295       87.394072   104.568796   \n",
       "min    ...         0.000000        0.000000        0.000000     0.000000   \n",
       "25%    ...         0.000000        0.000000        0.000000     0.000000   \n",
       "50%    ...         0.000000        0.000000        0.000000     0.000000   \n",
       "75%    ...         0.000000        0.000000        0.000000     0.000000   \n",
       "max    ...       715.000000      623.000000      676.000000   548.000000   \n",
       "\n",
       "         CivilEngg  conscientiousness  agreeableness  extraversion  \\\n",
       "count  3998.000000        3998.000000    3998.000000   3998.000000   \n",
       "mean      3.673337          -0.037831       0.146496      0.002763   \n",
       "std      36.559052           1.028666       0.941782      0.951471   \n",
       "min       0.000000          -4.126700      -5.781600     -4.600900   \n",
       "25%       0.000000          -0.713525      -0.287100     -0.604800   \n",
       "50%       0.000000           0.046400       0.212400      0.091400   \n",
       "75%       0.000000           0.702700       0.812800      0.672000   \n",
       "max     516.000000           1.995300       1.904800      2.535400   \n",
       "\n",
       "       nueroticism  openess_to_experience  \n",
       "count  3998.000000            3998.000000  \n",
       "mean     -0.169033              -0.138110  \n",
       "std       1.007580               1.008075  \n",
       "min      -2.643000              -7.375700  \n",
       "25%      -0.868200              -0.669200  \n",
       "50%      -0.234400              -0.094300  \n",
       "75%       0.526200               0.502400  \n",
       "max       3.352500               1.822400  \n",
       "\n",
       "[8 rows x 27 columns]"
      ]
     },
     "execution_count": 18,
     "metadata": {},
     "output_type": "execute_result"
    }
   ],
   "source": [
    "df.describe()"
   ]
  },
  {
   "cell_type": "markdown",
   "metadata": {},
   "source": [
    "## Univariate Analysis"
   ]
  },
  {
   "cell_type": "code",
   "execution_count": 19,
   "metadata": {},
   "outputs": [],
   "source": [
    "# Numerical Column\n",
    "\n",
    "discrete_df = df.select_dtypes(include=['object'])\n",
    "\n",
    "numerical_df = df.select_dtypes(include=['int64', 'float64'])"
   ]
  },
  {
   "cell_type": "code",
   "execution_count": 20,
   "metadata": {},
   "outputs": [],
   "source": [
    "def numerical_univariate_analysis(numerical_data):\n",
    "    for col_name in numerical_data:\n",
    "        print(\"*\"*10, col_name, \"*\"*10)\n",
    "        print(numerical_data[col_name].agg(['min', 'max', 'mean', 'median', 'std', 'skew', 'kurt']))\n",
    "        print()"
   ]
  },
  {
   "cell_type": "code",
   "execution_count": 21,
   "metadata": {},
   "outputs": [
    {
     "name": "stdout",
     "output_type": "stream",
     "text": [
      "********** Salary **********\n",
      "min       3.500000e+04\n",
      "max       4.000000e+06\n",
      "mean      3.076998e+05\n",
      "median    3.000000e+05\n",
      "std       2.127375e+05\n",
      "skew      6.451081e+00\n",
      "kurt      8.093000e+01\n",
      "Name: Salary, dtype: float64\n",
      "\n"
     ]
    }
   ],
   "source": [
    "numerical_univariate_analysis(df[['Salary']])"
   ]
  },
  {
   "cell_type": "code",
   "execution_count": 22,
   "metadata": {},
   "outputs": [
    {
     "data": {
      "text/plain": [
       "<matplotlib.axes._subplots.AxesSubplot at 0x2a33be98f88>"
      ]
     },
     "execution_count": 22,
     "metadata": {},
     "output_type": "execute_result"
    },
    {
     "data": {
      "image/png": "[encoded data removed]",
      "text/plain": [
       "<Figure size 432x288 with 1 Axes>"
      ]
     },
     "metadata": {
      "needs_background": "light"
     },
     "output_type": "display_data"
    }
   ],
   "source": [
    "df['Salary'].plot(kind = 'kde')"
   ]
  },
  {
   "cell_type": "code",
   "execution_count": null,
   "metadata": {},
   "outputs": [],
   "source": []
  },
  {
   "cell_type": "code",
   "execution_count": 23,
   "metadata": {},
   "outputs": [
    {
     "data": {
      "text/html": [
       "<div>\n",
       "<style scoped>\n",
       "    .dataframe tbody tr th:only-of-type {\n",
       "        vertical-align: middle;\n",
       "    }\n",
       "\n",
       "    .dataframe tbody tr th {\n",
       "        vertical-align: top;\n",
       "    }\n",
       "\n",
       "    .dataframe thead th {\n",
       "        text-align: right;\n",
       "    }\n",
       "</style>\n",
       "<table border=\"1\" class=\"dataframe\">\n",
       "  <thead>\n",
       "    <tr style=\"text-align: right;\">\n",
       "      <th></th>\n",
       "      <th>ID</th>\n",
       "      <th>Salary</th>\n",
       "      <th>DOJ</th>\n",
       "      <th>DOL</th>\n",
       "      <th>Designation</th>\n",
       "      <th>JobCity</th>\n",
       "      <th>Gender</th>\n",
       "      <th>DOB</th>\n",
       "      <th>10percentage</th>\n",
       "      <th>10board</th>\n",
       "      <th>...</th>\n",
       "      <th>ComputerScience</th>\n",
       "      <th>MechanicalEngg</th>\n",
       "      <th>ElectricalEngg</th>\n",
       "      <th>TelecomEngg</th>\n",
       "      <th>CivilEngg</th>\n",
       "      <th>conscientiousness</th>\n",
       "      <th>agreeableness</th>\n",
       "      <th>extraversion</th>\n",
       "      <th>nueroticism</th>\n",
       "      <th>openess_to_experience</th>\n",
       "    </tr>\n",
       "  </thead>\n",
       "  <tbody>\n",
       "    <tr>\n",
       "      <td>0</td>\n",
       "      <td>203097</td>\n",
       "      <td>420000</td>\n",
       "      <td>2012-06-01</td>\n",
       "      <td>2024-02-23</td>\n",
       "      <td>senior quality engineer</td>\n",
       "      <td>Bangalore</td>\n",
       "      <td>f</td>\n",
       "      <td>1990-02-19</td>\n",
       "      <td>84.3</td>\n",
       "      <td>board ofsecondary education,ap</td>\n",
       "      <td>...</td>\n",
       "      <td>0</td>\n",
       "      <td>0</td>\n",
       "      <td>0</td>\n",
       "      <td>0</td>\n",
       "      <td>0</td>\n",
       "      <td>0.9737</td>\n",
       "      <td>0.8128</td>\n",
       "      <td>0.5269</td>\n",
       "      <td>1.35490</td>\n",
       "      <td>-0.4455</td>\n",
       "    </tr>\n",
       "    <tr>\n",
       "      <td>1</td>\n",
       "      <td>579905</td>\n",
       "      <td>500000</td>\n",
       "      <td>2013-09-01</td>\n",
       "      <td>2024-02-23</td>\n",
       "      <td>assistant manager</td>\n",
       "      <td>Indore</td>\n",
       "      <td>m</td>\n",
       "      <td>1989-10-04</td>\n",
       "      <td>85.4</td>\n",
       "      <td>cbse</td>\n",
       "      <td>...</td>\n",
       "      <td>0</td>\n",
       "      <td>0</td>\n",
       "      <td>0</td>\n",
       "      <td>0</td>\n",
       "      <td>0</td>\n",
       "      <td>-0.7335</td>\n",
       "      <td>0.3789</td>\n",
       "      <td>1.2396</td>\n",
       "      <td>-0.10760</td>\n",
       "      <td>0.8637</td>\n",
       "    </tr>\n",
       "    <tr>\n",
       "      <td>2</td>\n",
       "      <td>810601</td>\n",
       "      <td>325000</td>\n",
       "      <td>2014-06-01</td>\n",
       "      <td>2024-02-23</td>\n",
       "      <td>systems engineer</td>\n",
       "      <td>Chennai</td>\n",
       "      <td>f</td>\n",
       "      <td>1992-08-03</td>\n",
       "      <td>85.0</td>\n",
       "      <td>cbse</td>\n",
       "      <td>...</td>\n",
       "      <td>0</td>\n",
       "      <td>0</td>\n",
       "      <td>0</td>\n",
       "      <td>0</td>\n",
       "      <td>0</td>\n",
       "      <td>0.2718</td>\n",
       "      <td>1.7109</td>\n",
       "      <td>0.1637</td>\n",
       "      <td>-0.86820</td>\n",
       "      <td>0.6721</td>\n",
       "    </tr>\n",
       "    <tr>\n",
       "      <td>3</td>\n",
       "      <td>267447</td>\n",
       "      <td>1100000</td>\n",
       "      <td>2011-07-01</td>\n",
       "      <td>2024-02-23</td>\n",
       "      <td>senior software engineer</td>\n",
       "      <td>Gurgaon</td>\n",
       "      <td>m</td>\n",
       "      <td>1989-12-05</td>\n",
       "      <td>85.6</td>\n",
       "      <td>cbse</td>\n",
       "      <td>...</td>\n",
       "      <td>0</td>\n",
       "      <td>0</td>\n",
       "      <td>0</td>\n",
       "      <td>0</td>\n",
       "      <td>0</td>\n",
       "      <td>0.0464</td>\n",
       "      <td>0.3448</td>\n",
       "      <td>-0.3440</td>\n",
       "      <td>-0.40780</td>\n",
       "      <td>-0.9194</td>\n",
       "    </tr>\n",
       "    <tr>\n",
       "      <td>4</td>\n",
       "      <td>343523</td>\n",
       "      <td>200000</td>\n",
       "      <td>2014-03-01</td>\n",
       "      <td>2015-03-01</td>\n",
       "      <td>get</td>\n",
       "      <td>Manesar</td>\n",
       "      <td>m</td>\n",
       "      <td>1991-02-27</td>\n",
       "      <td>78.0</td>\n",
       "      <td>cbse</td>\n",
       "      <td>...</td>\n",
       "      <td>0</td>\n",
       "      <td>0</td>\n",
       "      <td>0</td>\n",
       "      <td>0</td>\n",
       "      <td>0</td>\n",
       "      <td>-0.8810</td>\n",
       "      <td>-0.2793</td>\n",
       "      <td>-1.0697</td>\n",
       "      <td>0.09163</td>\n",
       "      <td>-0.1295</td>\n",
       "    </tr>\n",
       "  </tbody>\n",
       "</table>\n",
       "<p>5 rows × 38 columns</p>\n",
       "</div>"
      ],
      "text/plain": [
       "       ID   Salary        DOJ        DOL               Designation    JobCity  \\\n",
       "0  203097   420000 2012-06-01 2024-02-23   senior quality engineer  Bangalore   \n",
       "1  579905   500000 2013-09-01 2024-02-23         assistant manager     Indore   \n",
       "2  810601   325000 2014-06-01 2024-02-23          systems engineer    Chennai   \n",
       "3  267447  1100000 2011-07-01 2024-02-23  senior software engineer    Gurgaon   \n",
       "4  343523   200000 2014-03-01 2015-03-01                       get    Manesar   \n",
       "\n",
       "  Gender        DOB  10percentage                         10board  ...  \\\n",
       "0      f 1990-02-19          84.3  board ofsecondary education,ap  ...   \n",
       "1      m 1989-10-04          85.4                            cbse  ...   \n",
       "2      f 1992-08-03          85.0                            cbse  ...   \n",
       "3      m 1989-12-05          85.6                            cbse  ...   \n",
       "4      m 1991-02-27          78.0                            cbse  ...   \n",
       "\n",
       "   ComputerScience  MechanicalEngg ElectricalEngg  TelecomEngg  CivilEngg  \\\n",
       "0                0               0              0            0          0   \n",
       "1                0               0              0            0          0   \n",
       "2                0               0              0            0          0   \n",
       "3                0               0              0            0          0   \n",
       "4                0               0              0            0          0   \n",
       "\n",
       "  conscientiousness agreeableness  extraversion  nueroticism  \\\n",
       "0            0.9737        0.8128        0.5269      1.35490   \n",
       "1           -0.7335        0.3789        1.2396     -0.10760   \n",
       "2            0.2718        1.7109        0.1637     -0.86820   \n",
       "3            0.0464        0.3448       -0.3440     -0.40780   \n",
       "4           -0.8810       -0.2793       -1.0697      0.09163   \n",
       "\n",
       "   openess_to_experience  \n",
       "0                -0.4455  \n",
       "1                 0.8637  \n",
       "2                 0.6721  \n",
       "3                -0.9194  \n",
       "4                -0.1295  \n",
       "\n",
       "[5 rows x 38 columns]"
      ]
     },
     "execution_count": 23,
     "metadata": {},
     "output_type": "execute_result"
    }
   ],
   "source": [
    "df.head()"
   ]
  },
  {
   "cell_type": "code",
   "execution_count": 24,
   "metadata": {},
   "outputs": [
    {
     "data": {
      "text/plain": [
       "<matplotlib.axes._subplots.AxesSubplot at 0x2a33bcc4348>"
      ]
     },
     "execution_count": 24,
     "metadata": {},
     "output_type": "execute_result"
    },
    {
     "data": {
      "image/png": "[encoded data removed]",
      "text/plain": [
       "<Figure size 432x288 with 1 Axes>"
      ]
     },
     "metadata": {
      "needs_background": "light"
     },
     "output_type": "display_data"
    }
   ],
   "source": [
    "df['Salary'].plot(kind = 'box')"
   ]
  },
  {
   "cell_type": "code",
   "execution_count": 25,
   "metadata": {},
   "outputs": [
    {
     "data": {
      "text/plain": [
       "<matplotlib.axes._subplots.AxesSubplot at 0x2a33bc3ecc8>"
      ]
     },
     "execution_count": 25,
     "metadata": {},
     "output_type": "execute_result"
    },
    {
     "data": {
      "image/png": "[encoded data removed]",
      "text/plain": [
       "<Figure size 432x288 with 1 Axes>"
      ]
     },
     "metadata": {
      "needs_background": "light"
     },
     "output_type": "display_data"
    }
   ],
   "source": [
    "df['Salary'].plot(kind = 'hist')"
   ]
  },
  {
   "cell_type": "code",
   "execution_count": 26,
   "metadata": {},
   "outputs": [
    {
     "data": {
      "image/png": "[encoded data removed]",
      "text/plain": [
       "<Figure size 432x288 with 1 Axes>"
      ]
     },
     "metadata": {
      "needs_background": "light"
     },
     "output_type": "display_data"
    }
   ],
   "source": [
    "from scipy import stats\n",
    "\n",
    "stats.probplot(df['Salary'], dist = 'norm', plot = plt)\n",
    "\n",
    "plt.grid()"
   ]
  },
  {
   "cell_type": "code",
   "execution_count": 27,
   "metadata": {},
   "outputs": [
    {
     "data": {
      "text/plain": [
       "Index(['ID', 'Salary', 'DOJ', 'DOL', 'Designation', 'JobCity', 'Gender', 'DOB',\n",
       "       '10percentage', '10board', '12graduation', '12percentage', '12board',\n",
       "       'CollegeID', 'CollegeTier', 'Degree', 'Specialization', 'collegeGPA',\n",
       "       'CollegeCityID', 'CollegeCityTier', 'CollegeState', 'GraduationYear',\n",
       "       'English', 'Logical', 'Quant', 'Domain', 'ComputerProgramming',\n",
       "       'ElectronicsAndSemicon', 'ComputerScience', 'MechanicalEngg',\n",
       "       'ElectricalEngg', 'TelecomEngg', 'CivilEngg', 'conscientiousness',\n",
       "       'agreeableness', 'extraversion', 'nueroticism',\n",
       "       'openess_to_experience'],\n",
       "      dtype='object')"
      ]
     },
     "execution_count": 27,
     "metadata": {},
     "output_type": "execute_result"
    }
   ],
   "source": [
    "df.columns"
   ]
  },
  {
   "cell_type": "markdown",
   "metadata": {},
   "source": [
    "### 10percentage"
   ]
  },
  {
   "cell_type": "code",
   "execution_count": 28,
   "metadata": {},
   "outputs": [
    {
     "name": "stdout",
     "output_type": "stream",
     "text": [
      "********** 10percentage **********\n",
      "min       43.000000\n",
      "max       97.760000\n",
      "mean      77.925443\n",
      "median    79.150000\n",
      "std        9.850162\n",
      "skew      -0.591019\n",
      "kurt      -0.110284\n",
      "Name: 10percentage, dtype: float64\n",
      "\n"
     ]
    }
   ],
   "source": [
    "numerical_univariate_analysis(df[['10percentage']])"
   ]
  },
  {
   "cell_type": "code",
   "execution_count": 29,
   "metadata": {},
   "outputs": [
    {
     "data": {
      "text/plain": [
       "<matplotlib.axes._subplots.AxesSubplot at 0x2a33b6c6b08>"
      ]
     },
     "execution_count": 29,
     "metadata": {},
     "output_type": "execute_result"
    },
    {
     "data": {
      "image/png": "[encoded data removed]",
      "text/plain": [
       "<Figure size 432x288 with 1 Axes>"
      ]
     },
     "metadata": {
      "needs_background": "light"
     },
     "output_type": "display_data"
    }
   ],
   "source": [
    "df['10percentage'].plot(kind = 'kde')"
   ]
  },
  {
   "cell_type": "code",
   "execution_count": 30,
   "metadata": {},
   "outputs": [
    {
     "data": {
      "text/plain": [
       "<matplotlib.axes._subplots.AxesSubplot at 0x2a33b99b9c8>"
      ]
     },
     "execution_count": 30,
     "metadata": {},
     "output_type": "execute_result"
    },
    {
     "data": {
      "image/png": "[encoded data removed]",
      "text/plain": [
       "<Figure size 432x288 with 1 Axes>"
      ]
     },
     "metadata": {
      "needs_background": "light"
     },
     "output_type": "display_data"
    }
   ],
   "source": [
    "df['10percentage'].plot(kind = 'box')"
   ]
  },
  {
   "cell_type": "code",
   "execution_count": 31,
   "metadata": {},
   "outputs": [
    {
     "data": {
      "text/plain": [
       "<matplotlib.axes._subplots.AxesSubplot at 0x2a33b7a72c8>"
      ]
     },
     "execution_count": 31,
     "metadata": {},
     "output_type": "execute_result"
    },
    {
     "data": {
      "image/png": "[encoded data removed]",
      "text/plain": [
       "<Figure size 432x288 with 1 Axes>"
      ]
     },
     "metadata": {
      "needs_background": "light"
     },
     "output_type": "display_data"
    }
   ],
   "source": [
    "df['10percentage'].plot(kind = 'hist')"
   ]
  },
  {
   "cell_type": "code",
   "execution_count": 32,
   "metadata": {},
   "outputs": [
    {
     "data": {
      "image/png": "[encoded data removed]",
      "text/plain": [
       "<Figure size 432x288 with 1 Axes>"
      ]
     },
     "metadata": {
      "needs_background": "light"
     },
     "output_type": "display_data"
    }
   ],
   "source": [
    "stats.probplot(df['10percentage'], dist = 'norm', plot = plt)\n",
    "\n",
    "plt.grid()"
   ]
  },
  {
   "cell_type": "markdown",
   "metadata": {},
   "source": [
    "### 12percentage"
   ]
  },
  {
   "cell_type": "code",
   "execution_count": 33,
   "metadata": {},
   "outputs": [
    {
     "name": "stdout",
     "output_type": "stream",
     "text": [
      "********** 12percentage **********\n",
      "min       40.000000\n",
      "max       98.700000\n",
      "mean      74.466366\n",
      "median    74.400000\n",
      "std       10.999933\n",
      "skew      -0.032607\n",
      "kurt      -0.630737\n",
      "Name: 12percentage, dtype: float64\n",
      "\n"
     ]
    }
   ],
   "source": [
    "numerical_univariate_analysis(df[['12percentage']])"
   ]
  },
  {
   "cell_type": "code",
   "execution_count": 34,
   "metadata": {},
   "outputs": [
    {
     "data": {
      "text/plain": [
       "<matplotlib.axes._subplots.AxesSubplot at 0x2a33b8aa208>"
      ]
     },
     "execution_count": 34,
     "metadata": {},
     "output_type": "execute_result"
    },
    {
     "data": {
      "image/png": "[encoded data removed]",
      "text/plain": [
       "<Figure size 432x288 with 1 Axes>"
      ]
     },
     "metadata": {
      "needs_background": "light"
     },
     "output_type": "display_data"
    }
   ],
   "source": [
    "df['12percentage'].plot(kind = 'kde')"
   ]
  },
  {
   "cell_type": "code",
   "execution_count": 35,
   "metadata": {},
   "outputs": [
    {
     "data": {
      "text/plain": [
       "<matplotlib.axes._subplots.AxesSubplot at 0x2a33b837c08>"
      ]
     },
     "execution_count": 35,
     "metadata": {},
     "output_type": "execute_result"
    },
    {
     "data": {
      "image/png": "[encoded data removed]",
      "text/plain": [
       "<Figure size 432x288 with 1 Axes>"
      ]
     },
     "metadata": {
      "needs_background": "light"
     },
     "output_type": "display_data"
    }
   ],
   "source": [
    "df['12percentage'].plot(kind = 'box')"
   ]
  },
  {
   "cell_type": "code",
   "execution_count": 36,
   "metadata": {},
   "outputs": [
    {
     "data": {
      "text/plain": [
       "<matplotlib.axes._subplots.AxesSubplot at 0x2a33b7ec908>"
      ]
     },
     "execution_count": 36,
     "metadata": {},
     "output_type": "execute_result"
    },
    {
     "data": {
      "image/png": "[encoded data removed]",
      "text/plain": [
       "<Figure size 432x288 with 1 Axes>"
      ]
     },
     "metadata": {
      "needs_background": "light"
     },
     "output_type": "display_data"
    }
   ],
   "source": [
    "df['12percentage'].plot(kind = 'hist')"
   ]
  },
  {
   "cell_type": "code",
   "execution_count": 37,
   "metadata": {},
   "outputs": [
    {
     "data": {
      "image/png": "[encoded data removed]",
      "text/plain": [
       "<Figure size 432x288 with 1 Axes>"
      ]
     },
     "metadata": {
      "needs_background": "light"
     },
     "output_type": "display_data"
    }
   ],
   "source": [
    "stats.probplot(df['12percentage'], dist = 'norm', plot = plt)\n",
    "\n",
    "plt.grid()"
   ]
  },
  {
   "cell_type": "markdown",
   "metadata": {},
   "source": [
    "### CollegeGPV"
   ]
  },
  {
   "cell_type": "code",
   "execution_count": 38,
   "metadata": {},
   "outputs": [
    {
     "name": "stdout",
     "output_type": "stream",
     "text": [
      "********** collegeGPA **********\n",
      "min        6.450000\n",
      "max       99.930000\n",
      "mean      71.486171\n",
      "median    71.720000\n",
      "std        8.167338\n",
      "skew      -1.249209\n",
      "kurt      10.234244\n",
      "Name: collegeGPA, dtype: float64\n",
      "\n"
     ]
    }
   ],
   "source": [
    "numerical_univariate_analysis(df[['collegeGPA']])"
   ]
  },
  {
   "cell_type": "code",
   "execution_count": 39,
   "metadata": {},
   "outputs": [
    {
     "data": {
      "text/plain": [
       "<matplotlib.axes._subplots.AxesSubplot at 0x2a33b731a48>"
      ]
     },
     "execution_count": 39,
     "metadata": {},
     "output_type": "execute_result"
    },
    {
     "data": {
      "image/png": "[encoded data removed]",
      "text/plain": [
       "<Figure size 432x288 with 1 Axes>"
      ]
     },
     "metadata": {
      "needs_background": "light"
     },
     "output_type": "display_data"
    }
   ],
   "source": [
    "df['collegeGPA'].plot(kind = 'kde')"
   ]
  },
  {
   "cell_type": "code",
   "execution_count": 40,
   "metadata": {},
   "outputs": [
    {
     "data": {
      "text/plain": [
       "<matplotlib.axes._subplots.AxesSubplot at 0x2a33b873188>"
      ]
     },
     "execution_count": 40,
     "metadata": {},
     "output_type": "execute_result"
    },
    {
     "data": {
      "image/png": "[encoded data removed]",
      "text/plain": [
       "<Figure size 432x288 with 1 Axes>"
      ]
     },
     "metadata": {
      "needs_background": "light"
     },
     "output_type": "display_data"
    }
   ],
   "source": [
    "df['collegeGPA'].plot(kind = 'box')"
   ]
  },
  {
   "cell_type": "code",
   "execution_count": 41,
   "metadata": {},
   "outputs": [
    {
     "data": {
      "text/plain": [
       "<matplotlib.axes._subplots.AxesSubplot at 0x2a33b6b3d48>"
      ]
     },
     "execution_count": 41,
     "metadata": {},
     "output_type": "execute_result"
    },
    {
     "data": {
      "image/png": "[encoded data removed]",
      "text/plain": [
       "<Figure size 432x288 with 1 Axes>"
      ]
     },
     "metadata": {
      "needs_background": "light"
     },
     "output_type": "display_data"
    }
   ],
   "source": [
    "df['collegeGPA'].plot(kind = 'hist')"
   ]
  },
  {
   "cell_type": "code",
   "execution_count": 42,
   "metadata": {},
   "outputs": [
    {
     "data": {
      "image/png": "[encoded data removed]",
      "text/plain": [
       "<Figure size 432x288 with 1 Axes>"
      ]
     },
     "metadata": {
      "needs_background": "light"
     },
     "output_type": "display_data"
    }
   ],
   "source": [
    "stats.probplot(df['collegeGPA'], dist = 'norm', plot = plt)\n",
    "\n",
    "plt.grid()"
   ]
  },
  {
   "cell_type": "code",
   "execution_count": null,
   "metadata": {},
   "outputs": [],
   "source": []
  },
  {
   "cell_type": "markdown",
   "metadata": {},
   "source": [
    "### English"
   ]
  },
  {
   "cell_type": "code",
   "execution_count": 43,
   "metadata": {},
   "outputs": [
    {
     "name": "stdout",
     "output_type": "stream",
     "text": [
      "********** English **********\n",
      "min       180.000000\n",
      "max       875.000000\n",
      "mean      501.649075\n",
      "median    500.000000\n",
      "std       104.940021\n",
      "skew        0.191997\n",
      "kurt       -0.254133\n",
      "Name: English, dtype: float64\n",
      "\n"
     ]
    }
   ],
   "source": [
    "numerical_univariate_analysis(df[['English']])"
   ]
  },
  {
   "cell_type": "code",
   "execution_count": 44,
   "metadata": {},
   "outputs": [
    {
     "data": {
      "text/plain": [
       "<matplotlib.axes._subplots.AxesSubplot at 0x2a33b756608>"
      ]
     },
     "execution_count": 44,
     "metadata": {},
     "output_type": "execute_result"
    },
    {
     "data": {
      "image/png": "[encoded data removed]",
      "text/plain": [
       "<Figure size 432x288 with 1 Axes>"
      ]
     },
     "metadata": {
      "needs_background": "light"
     },
     "output_type": "display_data"
    }
   ],
   "source": [
    "df['English'].plot(kind = 'kde')"
   ]
  },
  {
   "cell_type": "code",
   "execution_count": 45,
   "metadata": {},
   "outputs": [
    {
     "data": {
      "text/plain": [
       "<matplotlib.axes._subplots.AxesSubplot at 0x2a33b5744c8>"
      ]
     },
     "execution_count": 45,
     "metadata": {},
     "output_type": "execute_result"
    },
    {
     "data": {
      "image/png": "[encoded data removed]",
      "text/plain": [
       "<Figure size 432x288 with 1 Axes>"
      ]
     },
     "metadata": {
      "needs_background": "light"
     },
     "output_type": "display_data"
    }
   ],
   "source": [
    "df['English'].plot(kind = 'box')"
   ]
  },
  {
   "cell_type": "code",
   "execution_count": 46,
   "metadata": {},
   "outputs": [
    {
     "data": {
      "text/plain": [
       "<matplotlib.axes._subplots.AxesSubplot at 0x2a33bda3188>"
      ]
     },
     "execution_count": 46,
     "metadata": {},
     "output_type": "execute_result"
    },
    {
     "data": {
      "image/png": "[encoded data removed]",
      "text/plain": [
       "<Figure size 432x288 with 1 Axes>"
      ]
     },
     "metadata": {
      "needs_background": "light"
     },
     "output_type": "display_data"
    }
   ],
   "source": [
    "df['English'].plot(kind = 'hist')"
   ]
  },
  {
   "cell_type": "code",
   "execution_count": 47,
   "metadata": {},
   "outputs": [
    {
     "data": {
      "image/png": "[encoded data removed]",
      "text/plain": [
       "<Figure size 432x288 with 1 Axes>"
      ]
     },
     "metadata": {
      "needs_background": "light"
     },
     "output_type": "display_data"
    }
   ],
   "source": [
    "stats.probplot(df['English'], dist = 'norm', plot = plt)\n",
    "\n",
    "plt.grid()"
   ]
  },
  {
   "cell_type": "markdown",
   "metadata": {},
   "source": [
    "### Quant"
   ]
  },
  {
   "cell_type": "code",
   "execution_count": 48,
   "metadata": {},
   "outputs": [
    {
     "name": "stdout",
     "output_type": "stream",
     "text": [
      "********** Quant **********\n",
      "min       120.000000\n",
      "max       900.000000\n",
      "mean      513.378189\n",
      "median    515.000000\n",
      "std       122.302332\n",
      "skew       -0.019399\n",
      "kurt       -0.102472\n",
      "Name: Quant, dtype: float64\n",
      "\n"
     ]
    }
   ],
   "source": [
    "numerical_univariate_analysis(df[['Quant']])"
   ]
  },
  {
   "cell_type": "code",
   "execution_count": 49,
   "metadata": {},
   "outputs": [
    {
     "data": {
      "text/plain": [
       "<matplotlib.axes._subplots.AxesSubplot at 0x2a33be1e348>"
      ]
     },
     "execution_count": 49,
     "metadata": {},
     "output_type": "execute_result"
    },
    {
     "data": {
      "image/png": "[encoded data removed]",
      "text/plain": [
       "<Figure size 432x288 with 1 Axes>"
      ]
     },
     "metadata": {
      "needs_background": "light"
     },
     "output_type": "display_data"
    }
   ],
   "source": [
    "df['Quant'].plot(kind = 'kde')"
   ]
  },
  {
   "cell_type": "code",
   "execution_count": 50,
   "metadata": {},
   "outputs": [
    {
     "data": {
      "text/plain": [
       "<matplotlib.axes._subplots.AxesSubplot at 0x2a33beda1c8>"
      ]
     },
     "execution_count": 50,
     "metadata": {},
     "output_type": "execute_result"
    },
    {
     "data": {
      "image/png": "[encoded data removed]",
      "text/plain": [
       "<Figure size 432x288 with 1 Axes>"
      ]
     },
     "metadata": {
      "needs_background": "light"
     },
     "output_type": "display_data"
    }
   ],
   "source": [
    "df['Quant'].plot(kind = 'box')"
   ]
  },
  {
   "cell_type": "code",
   "execution_count": 51,
   "metadata": {},
   "outputs": [
    {
     "data": {
      "text/plain": [
       "<matplotlib.axes._subplots.AxesSubplot at 0x2a33bd1ff88>"
      ]
     },
     "execution_count": 51,
     "metadata": {},
     "output_type": "execute_result"
    },
    {
     "data": {
      "image/png": "[encoded data removed]",
      "text/plain": [
       "<Figure size 432x288 with 1 Axes>"
      ]
     },
     "metadata": {
      "needs_background": "light"
     },
     "output_type": "display_data"
    }
   ],
   "source": [
    "df['Quant'].plot(kind = 'hist')"
   ]
  },
  {
   "cell_type": "code",
   "execution_count": 52,
   "metadata": {},
   "outputs": [
    {
     "data": {
      "image/png": "[encoded data removed]",
      "text/plain": [
       "<Figure size 432x288 with 1 Axes>"
      ]
     },
     "metadata": {
      "needs_background": "light"
     },
     "output_type": "display_data"
    }
   ],
   "source": [
    "stats.probplot(df['Quant'], dist = 'norm', plot = plt)\n",
    "\n",
    "plt.grid()"
   ]
  },
  {
   "cell_type": "markdown",
   "metadata": {},
   "source": [
    "### Logical"
   ]
  },
  {
   "cell_type": "code",
   "execution_count": 53,
   "metadata": {},
   "outputs": [
    {
     "name": "stdout",
     "output_type": "stream",
     "text": [
      "********** Logical **********\n",
      "min       195.000000\n",
      "max       795.000000\n",
      "mean      501.598799\n",
      "median    505.000000\n",
      "std        86.783297\n",
      "skew       -0.216602\n",
      "kurt       -0.224761\n",
      "Name: Logical, dtype: float64\n",
      "\n"
     ]
    }
   ],
   "source": [
    "numerical_univariate_analysis(df[['Logical']])"
   ]
  },
  {
   "cell_type": "code",
   "execution_count": 54,
   "metadata": {},
   "outputs": [
    {
     "data": {
      "text/plain": [
       "<matplotlib.axes._subplots.AxesSubplot at 0x2a33d002a88>"
      ]
     },
     "execution_count": 54,
     "metadata": {},
     "output_type": "execute_result"
    },
    {
     "data": {
      "image/png": "[encoded data removed]",
      "text/plain": [
       "<Figure size 432x288 with 1 Axes>"
      ]
     },
     "metadata": {
      "needs_background": "light"
     },
     "output_type": "display_data"
    }
   ],
   "source": [
    "df['Logical'].plot(kind = 'kde')"
   ]
  },
  {
   "cell_type": "code",
   "execution_count": 55,
   "metadata": {},
   "outputs": [
    {
     "data": {
      "text/plain": [
       "<matplotlib.axes._subplots.AxesSubplot at 0x2a33d0853c8>"
      ]
     },
     "execution_count": 55,
     "metadata": {},
     "output_type": "execute_result"
    },
    {
     "data": {
      "image/png": "[encoded data removed]",
      "text/plain": [
       "<Figure size 432x288 with 1 Axes>"
      ]
     },
     "metadata": {
      "needs_background": "light"
     },
     "output_type": "display_data"
    }
   ],
   "source": [
    "df['Logical'].plot(kind = 'box')"
   ]
  },
  {
   "cell_type": "code",
   "execution_count": 56,
   "metadata": {},
   "outputs": [
    {
     "data": {
      "text/plain": [
       "<matplotlib.axes._subplots.AxesSubplot at 0x2a33d0f11c8>"
      ]
     },
     "execution_count": 56,
     "metadata": {},
     "output_type": "execute_result"
    },
    {
     "data": {
      "image/png": "[encoded data removed]",
      "text/plain": [
       "<Figure size 432x288 with 1 Axes>"
      ]
     },
     "metadata": {
      "needs_background": "light"
     },
     "output_type": "display_data"
    }
   ],
   "source": [
    "df['Logical'].plot(kind = 'hist')"
   ]
  },
  {
   "cell_type": "code",
   "execution_count": 57,
   "metadata": {},
   "outputs": [
    {
     "data": {
      "image/png": "[encoded data removed]",
      "text/plain": [
       "<Figure size 432x288 with 1 Axes>"
      ]
     },
     "metadata": {
      "needs_background": "light"
     },
     "output_type": "display_data"
    }
   ],
   "source": [
    "stats.probplot(df['Logical'], dist = 'norm', plot = plt)\n",
    "\n",
    "plt.grid()"
   ]
  },
  {
   "cell_type": "markdown",
   "metadata": {},
   "source": [
    "### ComputerProgramming"
   ]
  },
  {
   "cell_type": "code",
   "execution_count": 58,
   "metadata": {},
   "outputs": [
    {
     "name": "stdout",
     "output_type": "stream",
     "text": [
      "********** ComputerProgramming **********\n",
      "min         0.000000\n",
      "max       840.000000\n",
      "mean      353.319910\n",
      "median    415.000000\n",
      "std       204.981129\n",
      "skew       -0.776093\n",
      "kurt       -0.667741\n",
      "Name: ComputerProgramming, dtype: float64\n",
      "\n"
     ]
    }
   ],
   "source": [
    "numerical_univariate_analysis(df[['ComputerProgramming']])"
   ]
  },
  {
   "cell_type": "code",
   "execution_count": 59,
   "metadata": {},
   "outputs": [
    {
     "data": {
      "text/plain": [
       "<matplotlib.axes._subplots.AxesSubplot at 0x2a33bd021c8>"
      ]
     },
     "execution_count": 59,
     "metadata": {},
     "output_type": "execute_result"
    },
    {
     "data": {
      "image/png": "[encoded data removed]",
      "text/plain": [
       "<Figure size 432x288 with 1 Axes>"
      ]
     },
     "metadata": {
      "needs_background": "light"
     },
     "output_type": "display_data"
    }
   ],
   "source": [
    "df['ComputerProgramming'].plot(kind = 'kde')"
   ]
  },
  {
   "cell_type": "code",
   "execution_count": 60,
   "metadata": {},
   "outputs": [
    {
     "data": {
      "text/plain": [
       "<matplotlib.axes._subplots.AxesSubplot at 0x2a33cffd088>"
      ]
     },
     "execution_count": 60,
     "metadata": {},
     "output_type": "execute_result"
    },
    {
     "data": {
      "image/png": "[encoded data removed]",
      "text/plain": [
       "<Figure size 432x288 with 1 Axes>"
      ]
     },
     "metadata": {
      "needs_background": "light"
     },
     "output_type": "display_data"
    }
   ],
   "source": [
    "df['ComputerProgramming'].plot(kind = 'box')"
   ]
  },
  {
   "cell_type": "code",
   "execution_count": 61,
   "metadata": {},
   "outputs": [
    {
     "data": {
      "text/plain": [
       "<matplotlib.axes._subplots.AxesSubplot at 0x2a33bd95e08>"
      ]
     },
     "execution_count": 61,
     "metadata": {},
     "output_type": "execute_result"
    },
    {
     "data": {
      "image/png": "[encoded data removed]",
      "text/plain": [
       "<Figure size 432x288 with 1 Axes>"
      ]
     },
     "metadata": {
      "needs_background": "light"
     },
     "output_type": "display_data"
    }
   ],
   "source": [
    "df['ComputerProgramming'].plot(kind = 'hist')"
   ]
  },
  {
   "cell_type": "code",
   "execution_count": 62,
   "metadata": {},
   "outputs": [
    {
     "data": {
      "image/png": "[encoded data removed]",
      "text/plain": [
       "<Figure size 432x288 with 1 Axes>"
      ]
     },
     "metadata": {
      "needs_background": "light"
     },
     "output_type": "display_data"
    }
   ],
   "source": [
    "stats.probplot(df['ComputerProgramming'], dist = 'norm', plot = plt)\n",
    "\n",
    "plt.grid()"
   ]
  },
  {
   "cell_type": "markdown",
   "metadata": {},
   "source": [
    "### ElectronicsAndSemicon"
   ]
  },
  {
   "cell_type": "code",
   "execution_count": 63,
   "metadata": {},
   "outputs": [
    {
     "name": "stdout",
     "output_type": "stream",
     "text": [
      "********** ElectronicsAndSemicon **********\n",
      "min         0.000000\n",
      "max       612.000000\n",
      "mean       96.042271\n",
      "median      0.000000\n",
      "std       157.806602\n",
      "skew        1.197314\n",
      "kurt       -0.205359\n",
      "Name: ElectronicsAndSemicon, dtype: float64\n",
      "\n"
     ]
    }
   ],
   "source": [
    "numerical_univariate_analysis(df[['ElectronicsAndSemicon']])"
   ]
  },
  {
   "cell_type": "code",
   "execution_count": 64,
   "metadata": {},
   "outputs": [
    {
     "data": {
      "text/plain": [
       "<matplotlib.axes._subplots.AxesSubplot at 0x2a33d256748>"
      ]
     },
     "execution_count": 64,
     "metadata": {},
     "output_type": "execute_result"
    },
    {
     "data": {
      "image/png": "[encoded data removed]",
      "text/plain": [
       "<Figure size 432x288 with 1 Axes>"
      ]
     },
     "metadata": {
      "needs_background": "light"
     },
     "output_type": "display_data"
    }
   ],
   "source": [
    "df['ElectronicsAndSemicon'].plot(kind = 'kde')"
   ]
  },
  {
   "cell_type": "code",
   "execution_count": 65,
   "metadata": {},
   "outputs": [
    {
     "data": {
      "text/plain": [
       "<matplotlib.axes._subplots.AxesSubplot at 0x2a33d28f9c8>"
      ]
     },
     "execution_count": 65,
     "metadata": {},
     "output_type": "execute_result"
    },
    {
     "data": {
      "image/png": "[encoded data removed]",
      "text/plain": [
       "<Figure size 432x288 with 1 Axes>"
      ]
     },
     "metadata": {
      "needs_background": "light"
     },
     "output_type": "display_data"
    }
   ],
   "source": [
    "df['ElectronicsAndSemicon'].plot(kind = 'box')"
   ]
  },
  {
   "cell_type": "code",
   "execution_count": 66,
   "metadata": {},
   "outputs": [
    {
     "data": {
      "text/plain": [
       "<matplotlib.axes._subplots.AxesSubplot at 0x2a33d324fc8>"
      ]
     },
     "execution_count": 66,
     "metadata": {},
     "output_type": "execute_result"
    },
    {
     "data": {
      "image/png": "[encoded data removed]",
      "text/plain": [
       "<Figure size 432x288 with 1 Axes>"
      ]
     },
     "metadata": {
      "needs_background": "light"
     },
     "output_type": "display_data"
    }
   ],
   "source": [
    "df['ElectronicsAndSemicon'].plot(kind = 'hist')"
   ]
  },
  {
   "cell_type": "code",
   "execution_count": 67,
   "metadata": {},
   "outputs": [
    {
     "data": {
      "image/png": "[encoded data removed]",
      "text/plain": [
       "<Figure size 432x288 with 1 Axes>"
      ]
     },
     "metadata": {
      "needs_background": "light"
     },
     "output_type": "display_data"
    }
   ],
   "source": [
    "stats.probplot(df['ElectronicsAndSemicon'], dist = 'norm', plot = plt)\n",
    "\n",
    "plt.grid()"
   ]
  },
  {
   "cell_type": "markdown",
   "metadata": {},
   "source": [
    "## Categorical"
   ]
  },
  {
   "cell_type": "markdown",
   "metadata": {},
   "source": [
    "### Designation"
   ]
  },
  {
   "cell_type": "code",
   "execution_count": 68,
   "metadata": {},
   "outputs": [],
   "source": [
    "def discrete_univariate_analysis(discrete_data):\n",
    "    for col_name in discrete_data:\n",
    "        print(\"*\"*10, col_name, \"*\"*10)\n",
    "        print(discrete_data[col_name].agg(['count', 'nunique', 'unique']))\n",
    "        print('Value Counts: \\n', discrete_data[col_name].value_counts())\n",
    "        print()"
   ]
  },
  {
   "cell_type": "code",
   "execution_count": 69,
   "metadata": {},
   "outputs": [
    {
     "name": "stdout",
     "output_type": "stream",
     "text": [
      "********** Designation **********\n",
      "count                                                   3998\n",
      "nunique                                                  419\n",
      "unique     [senior quality engineer, assistant manager, s...\n",
      "Name: Designation, dtype: object\n",
      "Value Counts: \n",
      " software engineer                      539\n",
      "software developer                     265\n",
      "system engineer                        205\n",
      "programmer analyst                     139\n",
      "systems engineer                       118\n",
      "                                      ... \n",
      "aircraft technician                      1\n",
      "junior manager                           1\n",
      "full-time loss prevention associate      1\n",
      "software designer                        1\n",
      "software test engineerte                 1\n",
      "Name: Designation, Length: 419, dtype: int64\n",
      "\n"
     ]
    }
   ],
   "source": [
    "discrete_univariate_analysis(df[['Designation']])"
   ]
  },
  {
   "cell_type": "code",
   "execution_count": 70,
   "metadata": {},
   "outputs": [
    {
     "data": {
      "text/plain": [
       "<matplotlib.axes._subplots.AxesSubplot at 0x2a33d405b08>"
      ]
     },
     "execution_count": 70,
     "metadata": {},
     "output_type": "execute_result"
    },
    {
     "data": {
      "image/png": "[encoded data removed]",
      "text/plain": [
       "<Figure size 432x288 with 1 Axes>"
      ]
     },
     "metadata": {
      "needs_background": "light"
     },
     "output_type": "display_data"
    }
   ],
   "source": [
    "df['Designation'].value_counts().nlargest(10).sort_values(ascending = True).plot(kind = 'barh')"
   ]
  },
  {
   "cell_type": "markdown",
   "metadata": {},
   "source": [
    "### JobCity"
   ]
  },
  {
   "cell_type": "code",
   "execution_count": 71,
   "metadata": {},
   "outputs": [
    {
     "name": "stdout",
     "output_type": "stream",
     "text": [
      "********** JobCity **********\n",
      "count                                                   3537\n",
      "nunique                                                  338\n",
      "unique     [Bangalore, Indore, Chennai, Gurgaon, Manesar,...\n",
      "Name: JobCity, dtype: object\n",
      "Value Counts: \n",
      " Bangalore       627\n",
      "Noida           368\n",
      "Hyderabad       335\n",
      "Pune            290\n",
      "Chennai         272\n",
      "               ... \n",
      "Khopoli           1\n",
      "Karad             1\n",
      " Pune             1\n",
      "Yamuna Nagar      1\n",
      "Delhi/NCR         1\n",
      "Name: JobCity, Length: 338, dtype: int64\n",
      "\n"
     ]
    }
   ],
   "source": [
    "discrete_univariate_analysis(df[['JobCity']])"
   ]
  },
  {
   "cell_type": "code",
   "execution_count": 72,
   "metadata": {},
   "outputs": [
    {
     "data": {
      "text/plain": [
       "array(['Bangalore', 'Indore', 'Chennai', 'Gurgaon', 'Manesar',\n",
       "       'Hyderabad', 'Banglore', 'Noida', 'Kolkata', 'Pune', nan, 'mohali',\n",
       "       'Jhansi', 'Delhi', 'Hyderabad ', 'Bangalore ', 'noida', 'delhi',\n",
       "       'Bhubaneswar', 'Navi Mumbai', 'Mumbai', 'New Delhi', 'Mangalore',\n",
       "       'Rewari', 'Gaziabaad', 'Bhiwadi', 'Mysore', 'Rajkot',\n",
       "       'Greater Noida', 'Jaipur', 'noida ', 'HYDERABAD', 'mysore',\n",
       "       'THANE', 'Maharajganj', 'Thiruvananthapuram', 'Punchkula',\n",
       "       'Bhubaneshwar', 'Pune ', 'coimbatore', 'Dhanbad', 'Lucknow',\n",
       "       'Trivandrum', 'kolkata', 'mumbai', 'Gandhi Nagar', 'Una',\n",
       "       'Daman and Diu', 'chennai', 'GURGOAN', 'vsakhapttnam', 'pune',\n",
       "       'Nagpur', 'Bhagalpur', 'new delhi - jaisalmer', 'Coimbatore',\n",
       "       'Ahmedabad', 'Kochi/Cochin', 'Bankura', 'Bengaluru', 'Mysore ',\n",
       "       'Kanpur ', 'jaipur', 'Gurgaon ', 'bangalore', 'CHENNAI',\n",
       "       'Vijayawada', 'Kochi', 'Beawar', 'Alwar', 'NOIDA', 'Greater noida',\n",
       "       'Siliguri ', 'raipur', 'gurgaon', 'Bhopal', 'Faridabad', 'Jodhpur',\n",
       "       'udaipur', 'Muzaffarpur', 'Kolkata`', 'Bulandshahar', 'Haridwar',\n",
       "       'Raigarh', 'Visakhapatnam', 'Jabalpur', 'hyderabad', 'Unnao',\n",
       "       'KOLKATA', 'Thane', 'Aurangabad', 'Belgaum', 'gurgoan', 'Dehradun',\n",
       "       'Rudrapur', 'Jamshedpur', 'vizag', 'Nouda', 'Dharamshala',\n",
       "       'Banagalore', 'Hissar', 'Ranchi', 'BANGALORE', 'Madurai', 'Gurga',\n",
       "       'Chandigarh', 'Australia', ' Chennai', 'CHEYYAR', 'Mumbai ',\n",
       "       'sonepat', 'Ghaziabad', 'Pantnagar', 'Siliguri', 'mumbai ',\n",
       "       'Jagdalpur', 'Chennai ', 'angul', 'Baroda', ' ariyalur', 'Jowai',\n",
       "       'Kochi/Cochin, Chennai and Coimbatore', 'bhubaneswar', 'Neemrana',\n",
       "       'VIZAG', 'Tirupathi', 'Lucknow ', 'Ahmedabad ', 'Bhubneshwar',\n",
       "       'Noida ', 'pune ', 'Calicut', 'Gandhinagar', 'LUCKNOW', 'Dubai',\n",
       "       'bengaluru', 'MUMBAI', 'Ahmednagar', 'Nashik', 'New delhi',\n",
       "       'Bellary', 'Ludhiana', 'New Delhi ', 'Muzaffarnagar', 'BHOPAL',\n",
       "       'Gurgoan', 'Gagret', 'Indirapuram, Ghaziabad', 'Gwalior',\n",
       "       'new delhi', 'TRIVANDRUM', 'Chennai & Mumbai', 'Rajasthan',\n",
       "       'Sonipat', 'Bareli', 'Kanpur', 'Hospete', 'Miryalaguda', ' mumbai',\n",
       "       'Dharuhera', 'lucknow', 'meerut', 'dehradun', 'Ganjam', 'Hubli',\n",
       "       'bangalore ', 'NAVI MUMBAI', 'ncr', 'Agra', 'Trichy',\n",
       "       'kudankulam ,tarapur', 'Ongole', 'Sambalpur', 'Pondicherry',\n",
       "       'Bundi', 'SADULPUR,RAJGARH,DISTT-CHURU,RAJASTHAN', 'AM', 'Bikaner',\n",
       "       'Vadodara', 'BAngalore', 'india', 'Asansol', 'Tirunelvelli',\n",
       "       'Ernakulam', 'DELHI', 'Bilaspur', 'Chandrapur', 'Nanded',\n",
       "       'Dharmapuri', 'Vandavasi', 'Rohtak', 'trivandrum', 'Nagpur ',\n",
       "       'Udaipur', 'Patna', 'banglore', 'indore', 'Salem', 'Nasikcity',\n",
       "       'Gandhinagar ', 'Technopark, Trivandrum', 'Bharuch', 'Tornagallu',\n",
       "       'Raipur', 'Kolkata ', 'Jaspur', 'Burdwan', 'Bhubaneswar ',\n",
       "       'Shimla', 'ahmedabad', 'Gajiabaad', 'Jammu', 'Shahdol',\n",
       "       'Muvattupuzha', 'Al Jubail,Saudi Arabia', 'Kalmar, Sweden',\n",
       "       'Secunderabad', 'A-64,sec-64,noida', 'Ratnagiri', 'Jhajjar',\n",
       "       'Gulbarga', 'hyderabad(bhadurpally)', 'Nalagarh', 'Chandigarh ',\n",
       "       'Jaipur ', 'Jeddah Saudi Arabia', ' Delhi', 'PATNA', 'SHAHDOL',\n",
       "       'Chennai, Bangalore', 'Bhopal ', 'Jamnagar', 'PUNE', 'Tirupati',\n",
       "       'Gonda', 'jamnagar', 'chennai ', 'orissa', 'kharagpur',\n",
       "       'Trivandrum ', 'Navi Mumbai , Hyderabad', 'Joshimath',\n",
       "       'chandigarh', 'Bathinda', 'Johannesburg', 'kala amb ', 'Karnal',\n",
       "       'LONDON', 'Kota', 'Panchkula', 'Baddi HP', 'Nagari',\n",
       "       'Mettur, Tamil Nadu ', 'Durgapur', 'pondi', 'Surat', 'Kurnool',\n",
       "       'kolhapur', 'Madurai ', 'GREATER NOIDA', 'Bhilai', ' Pune',\n",
       "       'hderabad', 'KOTA', 'thane', 'Vizag', 'Bahadurgarh',\n",
       "       'Rayagada, Odisha', 'kakinada', 'GURGAON', 'Varanasi', 'punr',\n",
       "       'Nellore', 'patna', 'Meerut', 'hyderabad ', 'Sahibabad', 'Howrah',\n",
       "       'BHUBANESWAR', 'Trichur', 'Ambala', 'Khopoli', 'keral', 'Roorkee',\n",
       "       'Greater NOIDA', 'Navi mumbai', 'ghaziabad', 'Allahabad',\n",
       "       'Delhi/NCR', 'Panchkula ', 'Ranchi ', 'Jalandhar', 'manesar',\n",
       "       'vapi', 'PILANI', 'muzzafarpur', 'RAS AL KHAIMAH', 'bihar',\n",
       "       'singaruli', 'KANPUR', 'Banglore ', 'pondy', 'Mohali', 'Phagwara',\n",
       "       ' Mumbai', ' bangalore', 'GURAGAON', 'Baripada', 'MEERUT',\n",
       "       'Yamuna Nagar', 'shahibabad', 'sampla', 'Guwahati', 'Rourkela',\n",
       "       'Banaglore', 'Vellore', 'Dausa', 'latur (Maharashtra )',\n",
       "       'NEW DELHI', 'kanpur', 'Mainpuri', 'karnal', 'Dammam', 'Haldia',\n",
       "       'sambalpur', 'RAE BARELI', 'ranchi', 'jAipur', 'BANGLORE',\n",
       "       'Patiala', 'Gorakhpur', 'new dehli', 'BANGALORE ', 'Ambala City',\n",
       "       'Karad', 'Rajpura', 'Pilani', 'haryana', 'Asifabadbanglore'],\n",
       "      dtype=object)"
      ]
     },
     "execution_count": 72,
     "metadata": {},
     "output_type": "execute_result"
    }
   ],
   "source": [
    "df['JobCity'].unique()"
   ]
  },
  {
   "cell_type": "code",
   "execution_count": 73,
   "metadata": {},
   "outputs": [
    {
     "data": {
      "text/plain": [
       "Bangalore             627\n",
       "NaN                   461\n",
       "Noida                 368\n",
       "Hyderabad             335\n",
       "Pune                  290\n",
       "Chennai               272\n",
       "Gurgaon               198\n",
       "New Delhi             196\n",
       "Mumbai                108\n",
       "Kolkata                98\n",
       "Jaipur                 46\n",
       "Lucknow                36\n",
       "Mysore                 36\n",
       "Navi Mumbai            32\n",
       "chennai                27\n",
       "Chandigarh             26\n",
       "Greater Noida          26\n",
       "pune                   26\n",
       "Indore                 24\n",
       "Bhubaneswar            22\n",
       "Coimbatore             20\n",
       "Faridabad              18\n",
       "Bhopal                 17\n",
       "Ahmedabad              17\n",
       "hyderabad              16\n",
       "Ghaziabad              15\n",
       "bangalore              15\n",
       "Bangalore              14\n",
       "Kochi/Cochin           13\n",
       "kolkata                13\n",
       "mohali                 12\n",
       "Delhi                  12\n",
       "noida                  12\n",
       "Mangalore              11\n",
       "gurgaon                10\n",
       "Hyderabad              10\n",
       "Banglore                9\n",
       "Dehradun                9\n",
       "Nagpur                  9\n",
       "Bhubaneshwar            9\n",
       "KOLKATA                 7\n",
       "Chennai                 7\n",
       "Gurgaon                 7\n",
       "Jabalpur                7\n",
       "Visakhapatnam           7\n",
       "Thiruvananthapuram      7\n",
       "NOIDA                   6\n",
       "Kanpur                  6\n",
       "HYDERABAD               6\n",
       "Pondicherry             6\n",
       "Name: JobCity, dtype: int64"
      ]
     },
     "execution_count": 73,
     "metadata": {},
     "output_type": "execute_result"
    }
   ],
   "source": [
    "jobcity = df['JobCity'].value_counts(dropna = False)\n",
    "\n",
    "jobcity.head(50)"
   ]
  },
  {
   "cell_type": "markdown",
   "metadata": {},
   "source": [
    "## Levenshtein Distance"
   ]
  },
  {
   "cell_type": "code",
   "execution_count": 74,
   "metadata": {},
   "outputs": [],
   "source": [
    "# levenshtein distance\n",
    "\n",
    "import Levenshtein\n",
    "\n",
    "from fuzzywuzzy import process"
   ]
  },
  {
   "cell_type": "code",
   "execution_count": 75,
   "metadata": {},
   "outputs": [],
   "source": [
    "def correct_spelling_errors(target_word=\"\",choices=[], threshold=80):\n",
    "    match, score = process.extractOne(target_word, choices)\n",
    "    if score >= threshold:\n",
    "        return match\n",
    "    else:\n",
    "        return target_word"
   ]
  },
  {
   "cell_type": "code",
   "execution_count": 76,
   "metadata": {},
   "outputs": [],
   "source": [
    "choices = ['Bangalore', 'Indore', 'Chennai', 'Gurgaon', 'Manesar',\n",
    "       'Hyderabad', 'Noida', 'Kolkata', 'Pune', 'nan', 'mohali','Jhansi', 'Delhi', \n",
    "       'Bhubaneswar', 'Navi Mumbai', 'Mumbai', 'New Delhi', 'Mangalore',\n",
    "       'Rewari', 'Gaziabaad', 'Bhiwadi', 'Mysore', 'Rajkot','Greater Noida', 'Jaipur', \n",
    "       'Maharajganj', 'Thiruvananthapuram', 'Punchkula','Coimbatore', 'Dhanbad', 'Lucknow',\n",
    "       'Trivandrum',  'Gandhi Nagar', 'Una', 'Daman and Diu','Nagpur', 'Bhagalpur', 'new delhi - jaisalmer',\n",
    "       'Ahmedabad', 'Kochi/Cochin', 'Bankura','Kanpur','Vijayawada', 'Kochi', 'Beawar', 'Alwar', \n",
    "       'Siliguri ', 'raipur',  'Bhopal', 'Faridabad', 'Jodhpur','Udaipur', 'Muzaffarpur', 'Bulandshahar', 'Haridwar',\n",
    "       'Raigarh', 'Visakhapatnam', 'Jabalpur', 'Unnao','Thane', 'Aurangabad', 'Belgaum', 'Dehradun',\n",
    "       'Rudrapur', 'Jamshedpur', 'Vizag', 'Dharamshala', 'Hissar', 'Ranchi', 'Madurai', 'Chandigarh', 'Australia', 'CHEYYAR',\n",
    "       'Ghaziabad', 'Pantnagar', 'Siliguri','Jagdalpur', 'angul', 'Baroda', 'Ariyalur', 'Jowai',\n",
    "       'Kochi/Cochin', 'Chennai and Coimbatore', 'Neemrana',\n",
    "       'Tirupathi', 'Lucknow ', 'Ahmedabad ','Calicut', 'Dubai', 'Ahmednagar', 'Nashik',\n",
    "       'Bellary', 'Ludhiana', 'Muzaffarnagar', 'Gagret', 'Indirapuram',  'Gwalior', 'Chennai & Mumbai', 'Rajasthan',\n",
    "       'Sonipat', 'Bareli', 'Hospete', 'Miryalaguda', 'Dharuhera', 'meerut', 'Dehradun', 'Ganjam', 'Hubli','ncr', 'Agra', 'Trichy',\n",
    "       'kudankulam ,tarapur', 'Ongole', 'Sambalpur', 'Pondicherry', 'Bundi', 'SADULPUR,RAJGARH,DISTT-CHURU,RAJASTHAN', 'AM', 'Bikaner',\n",
    "       'Vadodara', 'india', 'Asansol', 'Tirunelvelli', 'Ernakulam', 'Bilaspur', 'Chandrapur', 'Nanded',\n",
    "       'Dharmapuri', 'Vandavasi', 'Rohtak', 'Udaipur', 'Patna', 'Salem', 'Nasikcity',\n",
    "       'Technopark', 'Trivandrum', 'Bharuch', 'Tornagallu', 'Raipur', 'Jaspur', 'Burdwan', 'Shimla', 'Jammu', 'Shahdol',\n",
    "       'Muvattupuzha', 'Al Jubail,Saudi Arabia', 'Kalmar, Sweden','Secunderabad', 'A-64,sec-64,noida', 'Ratnagiri', 'Jhajjar',\n",
    "       'Gulbarga', 'hyderabad(bhadurpally)', 'Nalagarh', 'Chandigarh ','Jeddah Saudi Arabia', 'SHAHDOL',\n",
    "       'Jamnagar', 'Tirupati', 'Gonda', 'orissa', 'kharagpur','Joshimath', 'chandigarh', 'Bathinda', 'Johannesburg', 'kala amb ', 'Karnal',\n",
    "       'LONDON', 'Kota', 'Panchkula', 'Baddi HP', 'Nagari','Mettur, Tamil Nadu ', 'Durgapur', 'pondi', 'Surat', 'Kurnool',\n",
    "       'kolhapur', 'Bhilai', 'Vizag', 'Bahadurgarh', 'Rayagada, Odisha', 'kakinada', 'Varanasi', \n",
    "       'Nellore', 'patna', 'Meerut', 'Sahibabad', 'Howrah','Trichur', 'Ambala', 'Khopoli', 'kerala', 'Roorkee', 'Allahabad',\n",
    "       'Delhi/NCR', 'Panchkula ', 'Ranchi ', 'Jalandhar', 'manesar',\n",
    "       'vapi', 'PILANI', 'muzzafarpur', 'RAS AL KHAIMAH', 'bihar', 'singaruli', 'pondy', 'Mohali', 'Phagwara',\n",
    "       'Baripada', 'MEERUT','Yamuna Nagar', 'shahibabad', 'sampla', 'Guwahati', 'Rourkela', 'Vellore', 'Dausa', 'latur (Maharashtra )',\n",
    "       'Mainpuri', 'karnal', 'Dammam', 'Haldia','sambalpur', 'RAE BARELI', 'ranchi',\n",
    "       'Patiala', 'Gorakhpur', 'Karad', 'Rajpura', 'Pilani', 'haryana', 'Asifabadbanglore']"
   ]
  },
  {
   "cell_type": "code",
   "execution_count": 77,
   "metadata": {},
   "outputs": [
    {
     "data": {
      "text/plain": [
       "'Hyderabad'"
      ]
     },
     "execution_count": 77,
     "metadata": {},
     "output_type": "execute_result"
    }
   ],
   "source": [
    "correct_spelling_errors(target_word='Hyderbad', choices=choices)"
   ]
  },
  {
   "cell_type": "code",
   "execution_count": 78,
   "metadata": {},
   "outputs": [],
   "source": [
    "df['JobCity'] = df['JobCity'].apply(lambda City: correct_spelling_errors(str(City), choices))"
   ]
  },
  {
   "cell_type": "code",
   "execution_count": 79,
   "metadata": {},
   "outputs": [
    {
     "data": {
      "text/plain": [
       "211"
      ]
     },
     "execution_count": 79,
     "metadata": {},
     "output_type": "execute_result"
    }
   ],
   "source": [
    "df[\"JobCity\"].nunique()"
   ]
  },
  {
   "cell_type": "code",
   "execution_count": 80,
   "metadata": {},
   "outputs": [
    {
     "data": {
      "text/plain": [
       "<matplotlib.axes._subplots.AxesSubplot at 0x2a33d489808>"
      ]
     },
     "execution_count": 80,
     "metadata": {},
     "output_type": "execute_result"
    },
    {
     "data": {
      "image/png": "[encoded data removed]",
      "text/plain": [
       "<Figure size 432x288 with 1 Axes>"
      ]
     },
     "metadata": {
      "needs_background": "light"
     },
     "output_type": "display_data"
    }
   ],
   "source": [
    "df['JobCity'].value_counts().nlargest(10).sort_values(ascending = True).plot(kind = 'barh')"
   ]
  },
  {
   "cell_type": "markdown",
   "metadata": {},
   "source": [
    "### Gender"
   ]
  },
  {
   "cell_type": "code",
   "execution_count": 81,
   "metadata": {},
   "outputs": [
    {
     "data": {
      "text/plain": [
       "m    3041\n",
       "f     957\n",
       "Name: Gender, dtype: int64"
      ]
     },
     "execution_count": 81,
     "metadata": {},
     "output_type": "execute_result"
    }
   ],
   "source": [
    "df['Gender'].value_counts()"
   ]
  },
  {
   "cell_type": "code",
   "execution_count": 82,
   "metadata": {},
   "outputs": [
    {
     "data": {
      "text/plain": [
       "<matplotlib.axes._subplots.AxesSubplot at 0x2a33d5c8048>"
      ]
     },
     "execution_count": 82,
     "metadata": {},
     "output_type": "execute_result"
    },
    {
     "data": {
      "image/png": "[encoded data removed]",
      "text/plain": [
       "<Figure size 432x288 with 1 Axes>"
      ]
     },
     "metadata": {
      "needs_background": "light"
     },
     "output_type": "display_data"
    }
   ],
   "source": [
    "df['Gender'].value_counts().plot(kind = 'bar')"
   ]
  },
  {
   "cell_type": "markdown",
   "metadata": {},
   "source": [
    "### 10board"
   ]
  },
  {
   "cell_type": "code",
   "execution_count": 83,
   "metadata": {},
   "outputs": [
    {
     "name": "stdout",
     "output_type": "stream",
     "text": [
      "********** 10board **********\n",
      "count                                                   3998\n",
      "nunique                                                  275\n",
      "unique     [board ofsecondary education,ap, cbse, state b...\n",
      "Name: 10board, dtype: object\n",
      "Value Counts: \n",
      " cbse                               1395\n",
      "state board                        1164\n",
      "0                                   350\n",
      "icse                                281\n",
      "ssc                                 122\n",
      "                                   ... \n",
      "up board allahabad                    1\n",
      "rbse,ajmer                            1\n",
      "stmary's convent inter college        1\n",
      "board of intermediate education       1\n",
      "rbse (state board)                    1\n",
      "Name: 10board, Length: 275, dtype: int64\n",
      "\n"
     ]
    }
   ],
   "source": [
    "discrete_univariate_analysis(df[['10board']])"
   ]
  },
  {
   "cell_type": "code",
   "execution_count": 84,
   "metadata": {},
   "outputs": [
    {
     "data": {
      "text/plain": [
       "<matplotlib.axes._subplots.AxesSubplot at 0x2a33d631f08>"
      ]
     },
     "execution_count": 84,
     "metadata": {},
     "output_type": "execute_result"
    },
    {
     "data": {
      "image/png": "[encoded data removed]",
      "text/plain": [
       "<Figure size 432x288 with 1 Axes>"
      ]
     },
     "metadata": {
      "needs_background": "light"
     },
     "output_type": "display_data"
    }
   ],
   "source": [
    "df['10board'].value_counts().nlargest(10).sort_values(ascending = True).plot(kind = 'barh')"
   ]
  },
  {
   "cell_type": "markdown",
   "metadata": {},
   "source": [
    "### 12board"
   ]
  },
  {
   "cell_type": "code",
   "execution_count": 85,
   "metadata": {},
   "outputs": [
    {
     "name": "stdout",
     "output_type": "stream",
     "text": [
      "********** 12board **********\n",
      "count                                                   3998\n",
      "nunique                                                  340\n",
      "unique     [board of intermediate education,ap, cbse, sta...\n",
      "Name: 12board, dtype: object\n",
      "Value Counts: \n",
      " cbse                                                            1400\n",
      "state board                                                     1254\n",
      "0                                                                359\n",
      "icse                                                             129\n",
      "up board                                                          87\n",
      "                                                                ... \n",
      "himachal pradesh board of school education                         1\n",
      "maharashtra board, pune                                            1\n",
      " upboard                                                           1\n",
      "stjoseph of cluny matrhrsecschool,neyveli,cuddalore district       1\n",
      "kerala                                                             1\n",
      "Name: 12board, Length: 340, dtype: int64\n",
      "\n"
     ]
    }
   ],
   "source": [
    "discrete_univariate_analysis(df[['12board']])"
   ]
  },
  {
   "cell_type": "code",
   "execution_count": 86,
   "metadata": {},
   "outputs": [
    {
     "data": {
      "text/plain": [
       "<matplotlib.axes._subplots.AxesSubplot at 0x2a33d6ad048>"
      ]
     },
     "execution_count": 86,
     "metadata": {},
     "output_type": "execute_result"
    },
    {
     "data": {
      "image/png": "[encoded data removed]",
      "text/plain": [
       "<Figure size 432x288 with 1 Axes>"
      ]
     },
     "metadata": {
      "needs_background": "light"
     },
     "output_type": "display_data"
    }
   ],
   "source": [
    "df['12board'].value_counts().nlargest(10).sort_values(ascending = True).plot(kind = 'barh')"
   ]
  },
  {
   "cell_type": "markdown",
   "metadata": {},
   "source": [
    "### Degree"
   ]
  },
  {
   "cell_type": "code",
   "execution_count": 87,
   "metadata": {},
   "outputs": [
    {
     "data": {
      "text/plain": [
       "B.Tech/B.E.      3700\n",
       "MCA               243\n",
       "M.Tech./M.E.       53\n",
       "M.Sc. (Tech.)       2\n",
       "Name: Degree, dtype: int64"
      ]
     },
     "execution_count": 87,
     "metadata": {},
     "output_type": "execute_result"
    }
   ],
   "source": [
    "df['Degree'].value_counts()"
   ]
  },
  {
   "cell_type": "code",
   "execution_count": 88,
   "metadata": {},
   "outputs": [
    {
     "data": {
      "text/plain": [
       "<matplotlib.axes._subplots.AxesSubplot at 0x2a33e6fdf48>"
      ]
     },
     "execution_count": 88,
     "metadata": {},
     "output_type": "execute_result"
    },
    {
     "data": {
      "image/png": "[encoded data removed]",
      "text/plain": [
       "<Figure size 432x288 with 1 Axes>"
      ]
     },
     "metadata": {
      "needs_background": "light"
     },
     "output_type": "display_data"
    }
   ],
   "source": [
    "df['Degree'].value_counts().sort_values(ascending = False).plot(kind = 'bar')"
   ]
  },
  {
   "cell_type": "markdown",
   "metadata": {},
   "source": [
    "### GraduationYear"
   ]
  },
  {
   "cell_type": "code",
   "execution_count": 89,
   "metadata": {},
   "outputs": [
    {
     "name": "stdout",
     "output_type": "stream",
     "text": [
      "********** GraduationYear **********\n",
      "count                                                   3998\n",
      "nunique                                                   11\n",
      "unique     [2011, 2012, 2014, 2016, 2013, 2010, 2015, 200...\n",
      "Name: GraduationYear, dtype: object\n",
      "Value Counts: \n",
      " 2013    1181\n",
      "2014    1036\n",
      "2012     847\n",
      "2011     507\n",
      "2010     292\n",
      "2015      94\n",
      "2009      24\n",
      "2017       8\n",
      "2016       7\n",
      "2007       1\n",
      "0          1\n",
      "Name: GraduationYear, dtype: int64\n",
      "\n"
     ]
    }
   ],
   "source": [
    "discrete_univariate_analysis(df[['GraduationYear']])"
   ]
  },
  {
   "cell_type": "code",
   "execution_count": 90,
   "metadata": {},
   "outputs": [
    {
     "data": {
      "text/plain": [
       "<matplotlib.axes._subplots.AxesSubplot at 0x2a33e775388>"
      ]
     },
     "execution_count": 90,
     "metadata": {},
     "output_type": "execute_result"
    },
    {
     "data": {
      "image/png": "[encoded data removed]",
      "text/plain": [
       "<Figure size 432x288 with 1 Axes>"
      ]
     },
     "metadata": {
      "needs_background": "light"
     },
     "output_type": "display_data"
    }
   ],
   "source": [
    "df['GraduationYear'].value_counts().sort_values(ascending = True).plot(kind = 'barh')"
   ]
  },
  {
   "cell_type": "code",
   "execution_count": null,
   "metadata": {},
   "outputs": [],
   "source": []
  },
  {
   "cell_type": "markdown",
   "metadata": {},
   "source": [
    "## Bivariate Analysis"
   ]
  },
  {
   "cell_type": "markdown",
   "metadata": {},
   "source": [
    "### Numrical vs Numerical data"
   ]
  },
  {
   "cell_type": "code",
   "execution_count": 91,
   "metadata": {},
   "outputs": [
    {
     "data": {
      "text/plain": [
       "Index(['ID', 'Salary', 'DOJ', 'DOL', 'Designation', 'JobCity', 'Gender', 'DOB',\n",
       "       '10percentage', '10board', '12graduation', '12percentage', '12board',\n",
       "       'CollegeID', 'CollegeTier', 'Degree', 'Specialization', 'collegeGPA',\n",
       "       'CollegeCityID', 'CollegeCityTier', 'CollegeState', 'GraduationYear',\n",
       "       'English', 'Logical', 'Quant', 'Domain', 'ComputerProgramming',\n",
       "       'ElectronicsAndSemicon', 'ComputerScience', 'MechanicalEngg',\n",
       "       'ElectricalEngg', 'TelecomEngg', 'CivilEngg', 'conscientiousness',\n",
       "       'agreeableness', 'extraversion', 'nueroticism',\n",
       "       'openess_to_experience'],\n",
       "      dtype='object')"
      ]
     },
     "execution_count": 91,
     "metadata": {},
     "output_type": "execute_result"
    }
   ],
   "source": [
    "df.columns"
   ]
  },
  {
   "cell_type": "code",
   "execution_count": 92,
   "metadata": {},
   "outputs": [
    {
     "data": {
      "text/html": [
       "<div>\n",
       "<style scoped>\n",
       "    .dataframe tbody tr th:only-of-type {\n",
       "        vertical-align: middle;\n",
       "    }\n",
       "\n",
       "    .dataframe tbody tr th {\n",
       "        vertical-align: top;\n",
       "    }\n",
       "\n",
       "    .dataframe thead th {\n",
       "        text-align: right;\n",
       "    }\n",
       "</style>\n",
       "<table border=\"1\" class=\"dataframe\">\n",
       "  <thead>\n",
       "    <tr style=\"text-align: right;\">\n",
       "      <th></th>\n",
       "      <th>ID</th>\n",
       "      <th>Salary</th>\n",
       "      <th>10percentage</th>\n",
       "      <th>12graduation</th>\n",
       "      <th>12percentage</th>\n",
       "      <th>CollegeID</th>\n",
       "      <th>CollegeTier</th>\n",
       "      <th>collegeGPA</th>\n",
       "      <th>CollegeCityID</th>\n",
       "      <th>CollegeCityTier</th>\n",
       "      <th>...</th>\n",
       "      <th>ComputerScience</th>\n",
       "      <th>MechanicalEngg</th>\n",
       "      <th>ElectricalEngg</th>\n",
       "      <th>TelecomEngg</th>\n",
       "      <th>CivilEngg</th>\n",
       "      <th>conscientiousness</th>\n",
       "      <th>agreeableness</th>\n",
       "      <th>extraversion</th>\n",
       "      <th>nueroticism</th>\n",
       "      <th>openess_to_experience</th>\n",
       "    </tr>\n",
       "  </thead>\n",
       "  <tbody>\n",
       "    <tr>\n",
       "      <td>ID</td>\n",
       "      <td>1.000000</td>\n",
       "      <td>-0.247294</td>\n",
       "      <td>0.044547</td>\n",
       "      <td>0.673102</td>\n",
       "      <td>0.007069</td>\n",
       "      <td>0.284540</td>\n",
       "      <td>0.035160</td>\n",
       "      <td>0.047144</td>\n",
       "      <td>0.284540</td>\n",
       "      <td>-0.035977</td>\n",
       "      <td>...</td>\n",
       "      <td>0.482563</td>\n",
       "      <td>-0.026141</td>\n",
       "      <td>0.104436</td>\n",
       "      <td>-0.049257</td>\n",
       "      <td>-0.017859</td>\n",
       "      <td>0.175557</td>\n",
       "      <td>0.024837</td>\n",
       "      <td>0.120979</td>\n",
       "      <td>-0.146289</td>\n",
       "      <td>0.031359</td>\n",
       "    </tr>\n",
       "    <tr>\n",
       "      <td>Salary</td>\n",
       "      <td>-0.247294</td>\n",
       "      <td>1.000000</td>\n",
       "      <td>0.177373</td>\n",
       "      <td>-0.161383</td>\n",
       "      <td>0.170254</td>\n",
       "      <td>-0.118690</td>\n",
       "      <td>-0.179332</td>\n",
       "      <td>0.130103</td>\n",
       "      <td>-0.118690</td>\n",
       "      <td>0.015384</td>\n",
       "      <td>...</td>\n",
       "      <td>-0.100674</td>\n",
       "      <td>0.018493</td>\n",
       "      <td>-0.047578</td>\n",
       "      <td>-0.022671</td>\n",
       "      <td>0.037648</td>\n",
       "      <td>-0.064148</td>\n",
       "      <td>0.057423</td>\n",
       "      <td>-0.010213</td>\n",
       "      <td>-0.054685</td>\n",
       "      <td>-0.011312</td>\n",
       "    </tr>\n",
       "    <tr>\n",
       "      <td>10percentage</td>\n",
       "      <td>0.044547</td>\n",
       "      <td>0.177373</td>\n",
       "      <td>1.000000</td>\n",
       "      <td>0.269957</td>\n",
       "      <td>0.643378</td>\n",
       "      <td>0.021082</td>\n",
       "      <td>-0.126042</td>\n",
       "      <td>0.312538</td>\n",
       "      <td>0.021082</td>\n",
       "      <td>0.116707</td>\n",
       "      <td>...</td>\n",
       "      <td>-0.018892</td>\n",
       "      <td>0.050397</td>\n",
       "      <td>0.074427</td>\n",
       "      <td>0.049393</td>\n",
       "      <td>0.030012</td>\n",
       "      <td>0.067657</td>\n",
       "      <td>0.136645</td>\n",
       "      <td>-0.004679</td>\n",
       "      <td>-0.132496</td>\n",
       "      <td>0.036692</td>\n",
       "    </tr>\n",
       "    <tr>\n",
       "      <td>12graduation</td>\n",
       "      <td>0.673102</td>\n",
       "      <td>-0.161383</td>\n",
       "      <td>0.269957</td>\n",
       "      <td>1.000000</td>\n",
       "      <td>0.259166</td>\n",
       "      <td>0.254021</td>\n",
       "      <td>0.027691</td>\n",
       "      <td>0.086001</td>\n",
       "      <td>0.254021</td>\n",
       "      <td>-0.003016</td>\n",
       "      <td>...</td>\n",
       "      <td>0.293405</td>\n",
       "      <td>0.035465</td>\n",
       "      <td>0.123735</td>\n",
       "      <td>0.023480</td>\n",
       "      <td>-0.004725</td>\n",
       "      <td>0.103329</td>\n",
       "      <td>0.041182</td>\n",
       "      <td>0.061956</td>\n",
       "      <td>-0.074369</td>\n",
       "      <td>-0.015069</td>\n",
       "    </tr>\n",
       "    <tr>\n",
       "      <td>12percentage</td>\n",
       "      <td>0.007069</td>\n",
       "      <td>0.170254</td>\n",
       "      <td>0.643378</td>\n",
       "      <td>0.259166</td>\n",
       "      <td>1.000000</td>\n",
       "      <td>0.022336</td>\n",
       "      <td>-0.100771</td>\n",
       "      <td>0.346137</td>\n",
       "      <td>0.022336</td>\n",
       "      <td>0.130462</td>\n",
       "      <td>...</td>\n",
       "      <td>-0.043497</td>\n",
       "      <td>0.037663</td>\n",
       "      <td>0.064008</td>\n",
       "      <td>0.044232</td>\n",
       "      <td>0.005910</td>\n",
       "      <td>0.058299</td>\n",
       "      <td>0.103998</td>\n",
       "      <td>-0.007486</td>\n",
       "      <td>-0.094369</td>\n",
       "      <td>0.006332</td>\n",
       "    </tr>\n",
       "    <tr>\n",
       "      <td>CollegeID</td>\n",
       "      <td>0.284540</td>\n",
       "      <td>-0.118690</td>\n",
       "      <td>0.021082</td>\n",
       "      <td>0.254021</td>\n",
       "      <td>0.022336</td>\n",
       "      <td>1.000000</td>\n",
       "      <td>0.067054</td>\n",
       "      <td>0.017240</td>\n",
       "      <td>1.000000</td>\n",
       "      <td>0.007757</td>\n",
       "      <td>...</td>\n",
       "      <td>0.102270</td>\n",
       "      <td>-0.009300</td>\n",
       "      <td>0.022928</td>\n",
       "      <td>0.025613</td>\n",
       "      <td>0.005744</td>\n",
       "      <td>0.076432</td>\n",
       "      <td>-0.005264</td>\n",
       "      <td>0.005917</td>\n",
       "      <td>-0.008973</td>\n",
       "      <td>-0.010678</td>\n",
       "    </tr>\n",
       "    <tr>\n",
       "      <td>CollegeTier</td>\n",
       "      <td>0.035160</td>\n",
       "      <td>-0.179332</td>\n",
       "      <td>-0.126042</td>\n",
       "      <td>0.027691</td>\n",
       "      <td>-0.100771</td>\n",
       "      <td>0.067054</td>\n",
       "      <td>1.000000</td>\n",
       "      <td>-0.086781</td>\n",
       "      <td>0.067054</td>\n",
       "      <td>-0.101494</td>\n",
       "      <td>...</td>\n",
       "      <td>0.001023</td>\n",
       "      <td>-0.021574</td>\n",
       "      <td>0.002589</td>\n",
       "      <td>-0.000018</td>\n",
       "      <td>-0.033739</td>\n",
       "      <td>0.055174</td>\n",
       "      <td>-0.038055</td>\n",
       "      <td>0.009970</td>\n",
       "      <td>0.023778</td>\n",
       "      <td>-0.019179</td>\n",
       "    </tr>\n",
       "    <tr>\n",
       "      <td>collegeGPA</td>\n",
       "      <td>0.047144</td>\n",
       "      <td>0.130103</td>\n",
       "      <td>0.312538</td>\n",
       "      <td>0.086001</td>\n",
       "      <td>0.346137</td>\n",
       "      <td>0.017240</td>\n",
       "      <td>-0.086781</td>\n",
       "      <td>1.000000</td>\n",
       "      <td>0.017240</td>\n",
       "      <td>0.017471</td>\n",
       "      <td>...</td>\n",
       "      <td>0.007634</td>\n",
       "      <td>-0.031729</td>\n",
       "      <td>0.052271</td>\n",
       "      <td>-0.005186</td>\n",
       "      <td>-0.018925</td>\n",
       "      <td>0.069582</td>\n",
       "      <td>0.068282</td>\n",
       "      <td>-0.032684</td>\n",
       "      <td>-0.074859</td>\n",
       "      <td>0.028071</td>\n",
       "    </tr>\n",
       "    <tr>\n",
       "      <td>CollegeCityID</td>\n",
       "      <td>0.284540</td>\n",
       "      <td>-0.118690</td>\n",
       "      <td>0.021082</td>\n",
       "      <td>0.254021</td>\n",
       "      <td>0.022336</td>\n",
       "      <td>1.000000</td>\n",
       "      <td>0.067054</td>\n",
       "      <td>0.017240</td>\n",
       "      <td>1.000000</td>\n",
       "      <td>0.007757</td>\n",
       "      <td>...</td>\n",
       "      <td>0.102270</td>\n",
       "      <td>-0.009300</td>\n",
       "      <td>0.022928</td>\n",
       "      <td>0.025613</td>\n",
       "      <td>0.005744</td>\n",
       "      <td>0.076432</td>\n",
       "      <td>-0.005264</td>\n",
       "      <td>0.005917</td>\n",
       "      <td>-0.008973</td>\n",
       "      <td>-0.010678</td>\n",
       "    </tr>\n",
       "    <tr>\n",
       "      <td>CollegeCityTier</td>\n",
       "      <td>-0.035977</td>\n",
       "      <td>0.015384</td>\n",
       "      <td>0.116707</td>\n",
       "      <td>-0.003016</td>\n",
       "      <td>0.130462</td>\n",
       "      <td>0.007757</td>\n",
       "      <td>-0.101494</td>\n",
       "      <td>0.017471</td>\n",
       "      <td>0.007757</td>\n",
       "      <td>1.000000</td>\n",
       "      <td>...</td>\n",
       "      <td>-0.010652</td>\n",
       "      <td>-0.052398</td>\n",
       "      <td>0.010305</td>\n",
       "      <td>0.049883</td>\n",
       "      <td>-0.033399</td>\n",
       "      <td>0.014763</td>\n",
       "      <td>0.005565</td>\n",
       "      <td>-0.008203</td>\n",
       "      <td>0.004442</td>\n",
       "      <td>-0.016790</td>\n",
       "    </tr>\n",
       "    <tr>\n",
       "      <td>GraduationYear</td>\n",
       "      <td>0.027539</td>\n",
       "      <td>-0.010053</td>\n",
       "      <td>-0.013799</td>\n",
       "      <td>0.014457</td>\n",
       "      <td>-0.012933</td>\n",
       "      <td>-0.000172</td>\n",
       "      <td>-0.005557</td>\n",
       "      <td>0.008706</td>\n",
       "      <td>-0.000172</td>\n",
       "      <td>0.008152</td>\n",
       "      <td>...</td>\n",
       "      <td>0.024086</td>\n",
       "      <td>-0.066852</td>\n",
       "      <td>0.008524</td>\n",
       "      <td>0.004225</td>\n",
       "      <td>0.001696</td>\n",
       "      <td>-0.013235</td>\n",
       "      <td>-0.002877</td>\n",
       "      <td>0.008397</td>\n",
       "      <td>-0.000417</td>\n",
       "      <td>0.016855</td>\n",
       "    </tr>\n",
       "    <tr>\n",
       "      <td>English</td>\n",
       "      <td>0.135505</td>\n",
       "      <td>0.178219</td>\n",
       "      <td>0.350780</td>\n",
       "      <td>0.147925</td>\n",
       "      <td>0.212888</td>\n",
       "      <td>-0.022792</td>\n",
       "      <td>-0.183843</td>\n",
       "      <td>0.106478</td>\n",
       "      <td>-0.022792</td>\n",
       "      <td>0.050462</td>\n",
       "      <td>...</td>\n",
       "      <td>0.059568</td>\n",
       "      <td>-0.002460</td>\n",
       "      <td>0.032454</td>\n",
       "      <td>-0.005795</td>\n",
       "      <td>-0.007708</td>\n",
       "      <td>0.034943</td>\n",
       "      <td>0.194990</td>\n",
       "      <td>0.018755</td>\n",
       "      <td>-0.155528</td>\n",
       "      <td>0.067979</td>\n",
       "    </tr>\n",
       "    <tr>\n",
       "      <td>Logical</td>\n",
       "      <td>0.102215</td>\n",
       "      <td>0.179275</td>\n",
       "      <td>0.316014</td>\n",
       "      <td>0.105887</td>\n",
       "      <td>0.243571</td>\n",
       "      <td>-0.047094</td>\n",
       "      <td>-0.182811</td>\n",
       "      <td>0.196610</td>\n",
       "      <td>-0.047094</td>\n",
       "      <td>0.020353</td>\n",
       "      <td>...</td>\n",
       "      <td>0.044564</td>\n",
       "      <td>-0.009829</td>\n",
       "      <td>0.012029</td>\n",
       "      <td>-0.012908</td>\n",
       "      <td>-0.011267</td>\n",
       "      <td>0.025876</td>\n",
       "      <td>0.167207</td>\n",
       "      <td>-0.006949</td>\n",
       "      <td>-0.178781</td>\n",
       "      <td>0.048420</td>\n",
       "    </tr>\n",
       "    <tr>\n",
       "      <td>Quant</td>\n",
       "      <td>-0.055134</td>\n",
       "      <td>0.230627</td>\n",
       "      <td>0.317640</td>\n",
       "      <td>0.001379</td>\n",
       "      <td>0.312413</td>\n",
       "      <td>-0.114672</td>\n",
       "      <td>-0.251103</td>\n",
       "      <td>0.217380</td>\n",
       "      <td>-0.114672</td>\n",
       "      <td>0.007896</td>\n",
       "      <td>...</td>\n",
       "      <td>-0.043280</td>\n",
       "      <td>0.019981</td>\n",
       "      <td>0.021015</td>\n",
       "      <td>0.021419</td>\n",
       "      <td>0.000554</td>\n",
       "      <td>-0.005639</td>\n",
       "      <td>0.103443</td>\n",
       "      <td>-0.028616</td>\n",
       "      <td>-0.131895</td>\n",
       "      <td>0.020377</td>\n",
       "    </tr>\n",
       "    <tr>\n",
       "      <td>Domain</td>\n",
       "      <td>-0.036248</td>\n",
       "      <td>0.178581</td>\n",
       "      <td>0.154626</td>\n",
       "      <td>-0.038150</td>\n",
       "      <td>0.165198</td>\n",
       "      <td>-0.097975</td>\n",
       "      <td>-0.129227</td>\n",
       "      <td>0.176149</td>\n",
       "      <td>-0.097975</td>\n",
       "      <td>0.003552</td>\n",
       "      <td>...</td>\n",
       "      <td>0.069824</td>\n",
       "      <td>0.012800</td>\n",
       "      <td>0.017571</td>\n",
       "      <td>-0.074179</td>\n",
       "      <td>-0.006449</td>\n",
       "      <td>-0.010057</td>\n",
       "      <td>0.095926</td>\n",
       "      <td>-0.029739</td>\n",
       "      <td>-0.102004</td>\n",
       "      <td>0.020398</td>\n",
       "    </tr>\n",
       "    <tr>\n",
       "      <td>ComputerProgramming</td>\n",
       "      <td>0.018886</td>\n",
       "      <td>0.115772</td>\n",
       "      <td>0.053722</td>\n",
       "      <td>-0.047980</td>\n",
       "      <td>0.080914</td>\n",
       "      <td>-0.033816</td>\n",
       "      <td>-0.073766</td>\n",
       "      <td>0.136725</td>\n",
       "      <td>-0.033816</td>\n",
       "      <td>0.064238</td>\n",
       "      <td>...</td>\n",
       "      <td>0.253087</td>\n",
       "      <td>-0.284840</td>\n",
       "      <td>-0.138238</td>\n",
       "      <td>-0.248218</td>\n",
       "      <td>-0.088272</td>\n",
       "      <td>0.012848</td>\n",
       "      <td>0.077009</td>\n",
       "      <td>0.043463</td>\n",
       "      <td>-0.084425</td>\n",
       "      <td>0.043144</td>\n",
       "    </tr>\n",
       "    <tr>\n",
       "      <td>ElectronicsAndSemicon</td>\n",
       "      <td>-0.115556</td>\n",
       "      <td>0.000708</td>\n",
       "      <td>0.085193</td>\n",
       "      <td>-0.005882</td>\n",
       "      <td>0.117140</td>\n",
       "      <td>-0.020456</td>\n",
       "      <td>-0.031624</td>\n",
       "      <td>0.029902</td>\n",
       "      <td>-0.020456</td>\n",
       "      <td>0.041081</td>\n",
       "      <td>...</td>\n",
       "      <td>-0.273619</td>\n",
       "      <td>-0.109414</td>\n",
       "      <td>0.036957</td>\n",
       "      <td>0.387022</td>\n",
       "      <td>0.002830</td>\n",
       "      <td>-0.026483</td>\n",
       "      <td>-0.024258</td>\n",
       "      <td>-0.044464</td>\n",
       "      <td>0.021006</td>\n",
       "      <td>-0.013447</td>\n",
       "    </tr>\n",
       "    <tr>\n",
       "      <td>ComputerScience</td>\n",
       "      <td>0.482563</td>\n",
       "      <td>-0.100674</td>\n",
       "      <td>-0.018892</td>\n",
       "      <td>0.293405</td>\n",
       "      <td>-0.043497</td>\n",
       "      <td>0.102270</td>\n",
       "      <td>0.001023</td>\n",
       "      <td>0.007634</td>\n",
       "      <td>0.102270</td>\n",
       "      <td>-0.010652</td>\n",
       "      <td>...</td>\n",
       "      <td>1.000000</td>\n",
       "      <td>-0.124326</td>\n",
       "      <td>-0.083797</td>\n",
       "      <td>-0.148051</td>\n",
       "      <td>-0.052598</td>\n",
       "      <td>0.090143</td>\n",
       "      <td>0.039883</td>\n",
       "      <td>0.102145</td>\n",
       "      <td>-0.112665</td>\n",
       "      <td>0.058029</td>\n",
       "    </tr>\n",
       "    <tr>\n",
       "      <td>MechanicalEngg</td>\n",
       "      <td>-0.026141</td>\n",
       "      <td>0.018493</td>\n",
       "      <td>0.050397</td>\n",
       "      <td>0.035465</td>\n",
       "      <td>0.037663</td>\n",
       "      <td>-0.009300</td>\n",
       "      <td>-0.021574</td>\n",
       "      <td>-0.031729</td>\n",
       "      <td>-0.009300</td>\n",
       "      <td>-0.052398</td>\n",
       "      <td>...</td>\n",
       "      <td>-0.124326</td>\n",
       "      <td>1.000000</td>\n",
       "      <td>-0.040505</td>\n",
       "      <td>-0.070934</td>\n",
       "      <td>0.076138</td>\n",
       "      <td>-0.010853</td>\n",
       "      <td>-0.028570</td>\n",
       "      <td>-0.017756</td>\n",
       "      <td>0.036116</td>\n",
       "      <td>-0.027981</td>\n",
       "    </tr>\n",
       "    <tr>\n",
       "      <td>ElectricalEngg</td>\n",
       "      <td>0.104436</td>\n",
       "      <td>-0.047578</td>\n",
       "      <td>0.074427</td>\n",
       "      <td>0.123735</td>\n",
       "      <td>0.064008</td>\n",
       "      <td>0.022928</td>\n",
       "      <td>0.002589</td>\n",
       "      <td>0.052271</td>\n",
       "      <td>0.022928</td>\n",
       "      <td>0.010305</td>\n",
       "      <td>...</td>\n",
       "      <td>-0.083797</td>\n",
       "      <td>-0.040505</td>\n",
       "      <td>1.000000</td>\n",
       "      <td>-0.051468</td>\n",
       "      <td>-0.020054</td>\n",
       "      <td>0.029810</td>\n",
       "      <td>-0.015448</td>\n",
       "      <td>0.004464</td>\n",
       "      <td>-0.030869</td>\n",
       "      <td>-0.012584</td>\n",
       "    </tr>\n",
       "    <tr>\n",
       "      <td>TelecomEngg</td>\n",
       "      <td>-0.049257</td>\n",
       "      <td>-0.022671</td>\n",
       "      <td>0.049393</td>\n",
       "      <td>0.023480</td>\n",
       "      <td>0.044232</td>\n",
       "      <td>0.025613</td>\n",
       "      <td>-0.000018</td>\n",
       "      <td>-0.005186</td>\n",
       "      <td>0.025613</td>\n",
       "      <td>0.049883</td>\n",
       "      <td>...</td>\n",
       "      <td>-0.148051</td>\n",
       "      <td>-0.070934</td>\n",
       "      <td>-0.051468</td>\n",
       "      <td>1.000000</td>\n",
       "      <td>-0.031484</td>\n",
       "      <td>-0.004932</td>\n",
       "      <td>-0.014614</td>\n",
       "      <td>-0.039062</td>\n",
       "      <td>0.020634</td>\n",
       "      <td>-0.000138</td>\n",
       "    </tr>\n",
       "    <tr>\n",
       "      <td>CivilEngg</td>\n",
       "      <td>-0.017859</td>\n",
       "      <td>0.037648</td>\n",
       "      <td>0.030012</td>\n",
       "      <td>-0.004725</td>\n",
       "      <td>0.005910</td>\n",
       "      <td>0.005744</td>\n",
       "      <td>-0.033739</td>\n",
       "      <td>-0.018925</td>\n",
       "      <td>0.005744</td>\n",
       "      <td>-0.033399</td>\n",
       "      <td>...</td>\n",
       "      <td>-0.052598</td>\n",
       "      <td>0.076138</td>\n",
       "      <td>-0.020054</td>\n",
       "      <td>-0.031484</td>\n",
       "      <td>1.000000</td>\n",
       "      <td>-0.017525</td>\n",
       "      <td>-0.034233</td>\n",
       "      <td>-0.031828</td>\n",
       "      <td>0.010537</td>\n",
       "      <td>-0.031191</td>\n",
       "    </tr>\n",
       "    <tr>\n",
       "      <td>conscientiousness</td>\n",
       "      <td>0.175557</td>\n",
       "      <td>-0.064148</td>\n",
       "      <td>0.067657</td>\n",
       "      <td>0.103329</td>\n",
       "      <td>0.058299</td>\n",
       "      <td>0.076432</td>\n",
       "      <td>0.055174</td>\n",
       "      <td>0.069582</td>\n",
       "      <td>0.076432</td>\n",
       "      <td>0.014763</td>\n",
       "      <td>...</td>\n",
       "      <td>0.090143</td>\n",
       "      <td>-0.010853</td>\n",
       "      <td>0.029810</td>\n",
       "      <td>-0.004932</td>\n",
       "      <td>-0.017525</td>\n",
       "      <td>1.000000</td>\n",
       "      <td>0.481820</td>\n",
       "      <td>0.355537</td>\n",
       "      <td>-0.330312</td>\n",
       "      <td>0.395649</td>\n",
       "    </tr>\n",
       "    <tr>\n",
       "      <td>agreeableness</td>\n",
       "      <td>0.024837</td>\n",
       "      <td>0.057423</td>\n",
       "      <td>0.136645</td>\n",
       "      <td>0.041182</td>\n",
       "      <td>0.103998</td>\n",
       "      <td>-0.005264</td>\n",
       "      <td>-0.038055</td>\n",
       "      <td>0.068282</td>\n",
       "      <td>-0.005264</td>\n",
       "      <td>0.005565</td>\n",
       "      <td>...</td>\n",
       "      <td>0.039883</td>\n",
       "      <td>-0.028570</td>\n",
       "      <td>-0.015448</td>\n",
       "      <td>-0.014614</td>\n",
       "      <td>-0.034233</td>\n",
       "      <td>0.481820</td>\n",
       "      <td>1.000000</td>\n",
       "      <td>0.454369</td>\n",
       "      <td>-0.207480</td>\n",
       "      <td>0.591541</td>\n",
       "    </tr>\n",
       "    <tr>\n",
       "      <td>extraversion</td>\n",
       "      <td>0.120979</td>\n",
       "      <td>-0.010213</td>\n",
       "      <td>-0.004679</td>\n",
       "      <td>0.061956</td>\n",
       "      <td>-0.007486</td>\n",
       "      <td>0.005917</td>\n",
       "      <td>0.009970</td>\n",
       "      <td>-0.032684</td>\n",
       "      <td>0.005917</td>\n",
       "      <td>-0.008203</td>\n",
       "      <td>...</td>\n",
       "      <td>0.102145</td>\n",
       "      <td>-0.017756</td>\n",
       "      <td>0.004464</td>\n",
       "      <td>-0.039062</td>\n",
       "      <td>-0.031828</td>\n",
       "      <td>0.355537</td>\n",
       "      <td>0.454369</td>\n",
       "      <td>1.000000</td>\n",
       "      <td>-0.096491</td>\n",
       "      <td>0.435074</td>\n",
       "    </tr>\n",
       "    <tr>\n",
       "      <td>nueroticism</td>\n",
       "      <td>-0.146289</td>\n",
       "      <td>-0.054685</td>\n",
       "      <td>-0.132496</td>\n",
       "      <td>-0.074369</td>\n",
       "      <td>-0.094369</td>\n",
       "      <td>-0.008973</td>\n",
       "      <td>0.023778</td>\n",
       "      <td>-0.074859</td>\n",
       "      <td>-0.008973</td>\n",
       "      <td>0.004442</td>\n",
       "      <td>...</td>\n",
       "      <td>-0.112665</td>\n",
       "      <td>0.036116</td>\n",
       "      <td>-0.030869</td>\n",
       "      <td>0.020634</td>\n",
       "      <td>0.010537</td>\n",
       "      <td>-0.330312</td>\n",
       "      <td>-0.207480</td>\n",
       "      <td>-0.096491</td>\n",
       "      <td>1.000000</td>\n",
       "      <td>-0.065795</td>\n",
       "    </tr>\n",
       "    <tr>\n",
       "      <td>openess_to_experience</td>\n",
       "      <td>0.031359</td>\n",
       "      <td>-0.011312</td>\n",
       "      <td>0.036692</td>\n",
       "      <td>-0.015069</td>\n",
       "      <td>0.006332</td>\n",
       "      <td>-0.010678</td>\n",
       "      <td>-0.019179</td>\n",
       "      <td>0.028071</td>\n",
       "      <td>-0.010678</td>\n",
       "      <td>-0.016790</td>\n",
       "      <td>...</td>\n",
       "      <td>0.058029</td>\n",
       "      <td>-0.027981</td>\n",
       "      <td>-0.012584</td>\n",
       "      <td>-0.000138</td>\n",
       "      <td>-0.031191</td>\n",
       "      <td>0.395649</td>\n",
       "      <td>0.591541</td>\n",
       "      <td>0.435074</td>\n",
       "      <td>-0.065795</td>\n",
       "      <td>1.000000</td>\n",
       "    </tr>\n",
       "  </tbody>\n",
       "</table>\n",
       "<p>27 rows × 27 columns</p>\n",
       "</div>"
      ],
      "text/plain": [
       "                             ID    Salary  10percentage  12graduation  \\\n",
       "ID                     1.000000 -0.247294      0.044547      0.673102   \n",
       "Salary                -0.247294  1.000000      0.177373     -0.161383   \n",
       "10percentage           0.044547  0.177373      1.000000      0.269957   \n",
       "12graduation           0.673102 -0.161383      0.269957      1.000000   \n",
       "12percentage           0.007069  0.170254      0.643378      0.259166   \n",
       "CollegeID              0.284540 -0.118690      0.021082      0.254021   \n",
       "CollegeTier            0.035160 -0.179332     -0.126042      0.027691   \n",
       "collegeGPA             0.047144  0.130103      0.312538      0.086001   \n",
       "CollegeCityID          0.284540 -0.118690      0.021082      0.254021   \n",
       "CollegeCityTier       -0.035977  0.015384      0.116707     -0.003016   \n",
       "GraduationYear         0.027539 -0.010053     -0.013799      0.014457   \n",
       "English                0.135505  0.178219      0.350780      0.147925   \n",
       "Logical                0.102215  0.179275      0.316014      0.105887   \n",
       "Quant                 -0.055134  0.230627      0.317640      0.001379   \n",
       "Domain                -0.036248  0.178581      0.154626     -0.038150   \n",
       "ComputerProgramming    0.018886  0.115772      0.053722     -0.047980   \n",
       "ElectronicsAndSemicon -0.115556  0.000708      0.085193     -0.005882   \n",
       "ComputerScience        0.482563 -0.100674     -0.018892      0.293405   \n",
       "MechanicalEngg        -0.026141  0.018493      0.050397      0.035465   \n",
       "ElectricalEngg         0.104436 -0.047578      0.074427      0.123735   \n",
       "TelecomEngg           -0.049257 -0.022671      0.049393      0.023480   \n",
       "CivilEngg             -0.017859  0.037648      0.030012     -0.004725   \n",
       "conscientiousness      0.175557 -0.064148      0.067657      0.103329   \n",
       "agreeableness          0.024837  0.057423      0.136645      0.041182   \n",
       "extraversion           0.120979 -0.010213     -0.004679      0.061956   \n",
       "nueroticism           -0.146289 -0.054685     -0.132496     -0.074369   \n",
       "openess_to_experience  0.031359 -0.011312      0.036692     -0.015069   \n",
       "\n",
       "                       12percentage  CollegeID  CollegeTier  collegeGPA  \\\n",
       "ID                         0.007069   0.284540     0.035160    0.047144   \n",
       "Salary                     0.170254  -0.118690    -0.179332    0.130103   \n",
       "10percentage               0.643378   0.021082    -0.126042    0.312538   \n",
       "12graduation               0.259166   0.254021     0.027691    0.086001   \n",
       "12percentage               1.000000   0.022336    -0.100771    0.346137   \n",
       "CollegeID                  0.022336   1.000000     0.067054    0.017240   \n",
       "CollegeTier               -0.100771   0.067054     1.000000   -0.086781   \n",
       "collegeGPA                 0.346137   0.017240    -0.086781    1.000000   \n",
       "CollegeCityID              0.022336   1.000000     0.067054    0.017240   \n",
       "CollegeCityTier            0.130462   0.007757    -0.101494    0.017471   \n",
       "GraduationYear            -0.012933  -0.000172    -0.005557    0.008706   \n",
       "English                    0.212888  -0.022792    -0.183843    0.106478   \n",
       "Logical                    0.243571  -0.047094    -0.182811    0.196610   \n",
       "Quant                      0.312413  -0.114672    -0.251103    0.217380   \n",
       "Domain                     0.165198  -0.097975    -0.129227    0.176149   \n",
       "ComputerProgramming        0.080914  -0.033816    -0.073766    0.136725   \n",
       "ElectronicsAndSemicon      0.117140  -0.020456    -0.031624    0.029902   \n",
       "ComputerScience           -0.043497   0.102270     0.001023    0.007634   \n",
       "MechanicalEngg             0.037663  -0.009300    -0.021574   -0.031729   \n",
       "ElectricalEngg             0.064008   0.022928     0.002589    0.052271   \n",
       "TelecomEngg                0.044232   0.025613    -0.000018   -0.005186   \n",
       "CivilEngg                  0.005910   0.005744    -0.033739   -0.018925   \n",
       "conscientiousness          0.058299   0.076432     0.055174    0.069582   \n",
       "agreeableness              0.103998  -0.005264    -0.038055    0.068282   \n",
       "extraversion              -0.007486   0.005917     0.009970   -0.032684   \n",
       "nueroticism               -0.094369  -0.008973     0.023778   -0.074859   \n",
       "openess_to_experience      0.006332  -0.010678    -0.019179    0.028071   \n",
       "\n",
       "                       CollegeCityID  CollegeCityTier  ...  ComputerScience  \\\n",
       "ID                          0.284540        -0.035977  ...         0.482563   \n",
       "Salary                     -0.118690         0.015384  ...        -0.100674   \n",
       "10percentage                0.021082         0.116707  ...        -0.018892   \n",
       "12graduation                0.254021        -0.003016  ...         0.293405   \n",
       "12percentage                0.022336         0.130462  ...        -0.043497   \n",
       "CollegeID                   1.000000         0.007757  ...         0.102270   \n",
       "CollegeTier                 0.067054        -0.101494  ...         0.001023   \n",
       "collegeGPA                  0.017240         0.017471  ...         0.007634   \n",
       "CollegeCityID               1.000000         0.007757  ...         0.102270   \n",
       "CollegeCityTier             0.007757         1.000000  ...        -0.010652   \n",
       "GraduationYear             -0.000172         0.008152  ...         0.024086   \n",
       "English                    -0.022792         0.050462  ...         0.059568   \n",
       "Logical                    -0.047094         0.020353  ...         0.044564   \n",
       "Quant                      -0.114672         0.007896  ...        -0.043280   \n",
       "Domain                     -0.097975         0.003552  ...         0.069824   \n",
       "ComputerProgramming        -0.033816         0.064238  ...         0.253087   \n",
       "ElectronicsAndSemicon      -0.020456         0.041081  ...        -0.273619   \n",
       "ComputerScience             0.102270        -0.010652  ...         1.000000   \n",
       "MechanicalEngg             -0.009300        -0.052398  ...        -0.124326   \n",
       "ElectricalEngg              0.022928         0.010305  ...        -0.083797   \n",
       "TelecomEngg                 0.025613         0.049883  ...        -0.148051   \n",
       "CivilEngg                   0.005744        -0.033399  ...        -0.052598   \n",
       "conscientiousness           0.076432         0.014763  ...         0.090143   \n",
       "agreeableness              -0.005264         0.005565  ...         0.039883   \n",
       "extraversion                0.005917        -0.008203  ...         0.102145   \n",
       "nueroticism                -0.008973         0.004442  ...        -0.112665   \n",
       "openess_to_experience      -0.010678        -0.016790  ...         0.058029   \n",
       "\n",
       "                       MechanicalEngg  ElectricalEngg  TelecomEngg  CivilEngg  \\\n",
       "ID                          -0.026141        0.104436    -0.049257  -0.017859   \n",
       "Salary                       0.018493       -0.047578    -0.022671   0.037648   \n",
       "10percentage                 0.050397        0.074427     0.049393   0.030012   \n",
       "12graduation                 0.035465        0.123735     0.023480  -0.004725   \n",
       "12percentage                 0.037663        0.064008     0.044232   0.005910   \n",
       "CollegeID                   -0.009300        0.022928     0.025613   0.005744   \n",
       "CollegeTier                 -0.021574        0.002589    -0.000018  -0.033739   \n",
       "collegeGPA                  -0.031729        0.052271    -0.005186  -0.018925   \n",
       "CollegeCityID               -0.009300        0.022928     0.025613   0.005744   \n",
       "CollegeCityTier             -0.052398        0.010305     0.049883  -0.033399   \n",
       "GraduationYear              -0.066852        0.008524     0.004225   0.001696   \n",
       "English                     -0.002460        0.032454    -0.005795  -0.007708   \n",
       "Logical                     -0.009829        0.012029    -0.012908  -0.011267   \n",
       "Quant                        0.019981        0.021015     0.021419   0.000554   \n",
       "Domain                       0.012800        0.017571    -0.074179  -0.006449   \n",
       "ComputerProgramming         -0.284840       -0.138238    -0.248218  -0.088272   \n",
       "ElectronicsAndSemicon       -0.109414        0.036957     0.387022   0.002830   \n",
       "ComputerScience             -0.124326       -0.083797    -0.148051  -0.052598   \n",
       "MechanicalEngg               1.000000       -0.040505    -0.070934   0.076138   \n",
       "ElectricalEngg              -0.040505        1.000000    -0.051468  -0.020054   \n",
       "TelecomEngg                 -0.070934       -0.051468     1.000000  -0.031484   \n",
       "CivilEngg                    0.076138       -0.020054    -0.031484   1.000000   \n",
       "conscientiousness           -0.010853        0.029810    -0.004932  -0.017525   \n",
       "agreeableness               -0.028570       -0.015448    -0.014614  -0.034233   \n",
       "extraversion                -0.017756        0.004464    -0.039062  -0.031828   \n",
       "nueroticism                  0.036116       -0.030869     0.020634   0.010537   \n",
       "openess_to_experience       -0.027981       -0.012584    -0.000138  -0.031191   \n",
       "\n",
       "                       conscientiousness  agreeableness  extraversion  \\\n",
       "ID                              0.175557       0.024837      0.120979   \n",
       "Salary                         -0.064148       0.057423     -0.010213   \n",
       "10percentage                    0.067657       0.136645     -0.004679   \n",
       "12graduation                    0.103329       0.041182      0.061956   \n",
       "12percentage                    0.058299       0.103998     -0.007486   \n",
       "CollegeID                       0.076432      -0.005264      0.005917   \n",
       "CollegeTier                     0.055174      -0.038055      0.009970   \n",
       "collegeGPA                      0.069582       0.068282     -0.032684   \n",
       "CollegeCityID                   0.076432      -0.005264      0.005917   \n",
       "CollegeCityTier                 0.014763       0.005565     -0.008203   \n",
       "GraduationYear                 -0.013235      -0.002877      0.008397   \n",
       "English                         0.034943       0.194990      0.018755   \n",
       "Logical                         0.025876       0.167207     -0.006949   \n",
       "Quant                          -0.005639       0.103443     -0.028616   \n",
       "Domain                         -0.010057       0.095926     -0.029739   \n",
       "ComputerProgramming             0.012848       0.077009      0.043463   \n",
       "ElectronicsAndSemicon          -0.026483      -0.024258     -0.044464   \n",
       "ComputerScience                 0.090143       0.039883      0.102145   \n",
       "MechanicalEngg                 -0.010853      -0.028570     -0.017756   \n",
       "ElectricalEngg                  0.029810      -0.015448      0.004464   \n",
       "TelecomEngg                    -0.004932      -0.014614     -0.039062   \n",
       "CivilEngg                      -0.017525      -0.034233     -0.031828   \n",
       "conscientiousness               1.000000       0.481820      0.355537   \n",
       "agreeableness                   0.481820       1.000000      0.454369   \n",
       "extraversion                    0.355537       0.454369      1.000000   \n",
       "nueroticism                    -0.330312      -0.207480     -0.096491   \n",
       "openess_to_experience           0.395649       0.591541      0.435074   \n",
       "\n",
       "                       nueroticism  openess_to_experience  \n",
       "ID                       -0.146289               0.031359  \n",
       "Salary                   -0.054685              -0.011312  \n",
       "10percentage             -0.132496               0.036692  \n",
       "12graduation             -0.074369              -0.015069  \n",
       "12percentage             -0.094369               0.006332  \n",
       "CollegeID                -0.008973              -0.010678  \n",
       "CollegeTier               0.023778              -0.019179  \n",
       "collegeGPA               -0.074859               0.028071  \n",
       "CollegeCityID            -0.008973              -0.010678  \n",
       "CollegeCityTier           0.004442              -0.016790  \n",
       "GraduationYear           -0.000417               0.016855  \n",
       "English                  -0.155528               0.067979  \n",
       "Logical                  -0.178781               0.048420  \n",
       "Quant                    -0.131895               0.020377  \n",
       "Domain                   -0.102004               0.020398  \n",
       "ComputerProgramming      -0.084425               0.043144  \n",
       "ElectronicsAndSemicon     0.021006              -0.013447  \n",
       "ComputerScience          -0.112665               0.058029  \n",
       "MechanicalEngg            0.036116              -0.027981  \n",
       "ElectricalEngg           -0.030869              -0.012584  \n",
       "TelecomEngg               0.020634              -0.000138  \n",
       "CivilEngg                 0.010537              -0.031191  \n",
       "conscientiousness        -0.330312               0.395649  \n",
       "agreeableness            -0.207480               0.591541  \n",
       "extraversion             -0.096491               0.435074  \n",
       "nueroticism               1.000000              -0.065795  \n",
       "openess_to_experience    -0.065795               1.000000  \n",
       "\n",
       "[27 rows x 27 columns]"
      ]
     },
     "execution_count": 92,
     "metadata": {},
     "output_type": "execute_result"
    }
   ],
   "source": [
    "df.corr()"
   ]
  },
  {
   "cell_type": "markdown",
   "metadata": {},
   "source": [
    "### Salary & 10percentage"
   ]
  },
  {
   "cell_type": "code",
   "execution_count": 93,
   "metadata": {},
   "outputs": [
    {
     "data": {
      "text/plain": [
       "<matplotlib.axes._subplots.AxesSubplot at 0x2a33d5b6588>"
      ]
     },
     "execution_count": 93,
     "metadata": {},
     "output_type": "execute_result"
    },
    {
     "data": {
      "image/png": "[encoded data removed]",
      "text/plain": [
       "<Figure size 288x288 with 1 Axes>"
      ]
     },
     "metadata": {
      "needs_background": "light"
     },
     "output_type": "display_data"
    }
   ],
   "source": [
    "df.plot(kind='scatter', x='Salary', y='10percentage', figsize=(4, 4))"
   ]
  },
  {
   "cell_type": "markdown",
   "metadata": {},
   "source": [
    "### Salary & 12percentage"
   ]
  },
  {
   "cell_type": "code",
   "execution_count": 94,
   "metadata": {},
   "outputs": [
    {
     "data": {
      "text/plain": [
       "<matplotlib.axes._subplots.AxesSubplot at 0x2a33d00de08>"
      ]
     },
     "execution_count": 94,
     "metadata": {},
     "output_type": "execute_result"
    },
    {
     "data": {
      "image/png": "[encoded data removed]",
      "text/plain": [
       "<Figure size 288x288 with 1 Axes>"
      ]
     },
     "metadata": {
      "needs_background": "light"
     },
     "output_type": "display_data"
    }
   ],
   "source": [
    "df.plot(kind='scatter', x='Salary', y='12percentage', figsize=(4, 4))"
   ]
  },
  {
   "cell_type": "markdown",
   "metadata": {},
   "source": [
    "### Salary & collegeGPA"
   ]
  },
  {
   "cell_type": "code",
   "execution_count": 95,
   "metadata": {},
   "outputs": [
    {
     "data": {
      "text/plain": [
       "<matplotlib.axes._subplots.AxesSubplot at 0x2a33d3aed08>"
      ]
     },
     "execution_count": 95,
     "metadata": {},
     "output_type": "execute_result"
    },
    {
     "data": {
      "image/png": "[encoded data removed]",
      "text/plain": [
       "<Figure size 288x288 with 1 Axes>"
      ]
     },
     "metadata": {
      "needs_background": "light"
     },
     "output_type": "display_data"
    }
   ],
   "source": [
    "df.plot(kind='scatter', x='Salary', y='collegeGPA', figsize=(4, 4))"
   ]
  },
  {
   "cell_type": "markdown",
   "metadata": {},
   "source": [
    "### Salary & ComputerProgramming"
   ]
  },
  {
   "cell_type": "code",
   "execution_count": 96,
   "metadata": {},
   "outputs": [
    {
     "data": {
      "text/plain": [
       "<matplotlib.axes._subplots.AxesSubplot at 0x2a33e7dbd08>"
      ]
     },
     "execution_count": 96,
     "metadata": {},
     "output_type": "execute_result"
    },
    {
     "data": {
      "image/png": "[encoded data removed]",
      "text/plain": [
       "<Figure size 288x288 with 1 Axes>"
      ]
     },
     "metadata": {
      "needs_background": "light"
     },
     "output_type": "display_data"
    }
   ],
   "source": [
    "df.plot(kind='scatter', x='Salary', y='ComputerProgramming', figsize=(4, 4))"
   ]
  },
  {
   "cell_type": "markdown",
   "metadata": {},
   "source": [
    "### Salary & English"
   ]
  },
  {
   "cell_type": "code",
   "execution_count": 97,
   "metadata": {},
   "outputs": [
    {
     "data": {
      "text/plain": [
       "<matplotlib.axes._subplots.AxesSubplot at 0x2a33e838408>"
      ]
     },
     "execution_count": 97,
     "metadata": {},
     "output_type": "execute_result"
    },
    {
     "data": {
      "image/png": "[encoded data removed]",
      "text/plain": [
       "<Figure size 288x288 with 1 Axes>"
      ]
     },
     "metadata": {
      "needs_background": "light"
     },
     "output_type": "display_data"
    }
   ],
   "source": [
    "df.plot(kind='scatter', x='Salary', y='English', figsize=(4, 4))"
   ]
  },
  {
   "cell_type": "markdown",
   "metadata": {},
   "source": [
    "## Categorical vs Categorical"
   ]
  },
  {
   "cell_type": "markdown",
   "metadata": {},
   "source": [
    "### Gender & Designation"
   ]
  },
  {
   "cell_type": "code",
   "execution_count": 98,
   "metadata": {},
   "outputs": [
    {
     "data": {
      "text/html": [
       "<div>\n",
       "<style scoped>\n",
       "    .dataframe tbody tr th:only-of-type {\n",
       "        vertical-align: middle;\n",
       "    }\n",
       "\n",
       "    .dataframe tbody tr th {\n",
       "        vertical-align: top;\n",
       "    }\n",
       "\n",
       "    .dataframe thead th {\n",
       "        text-align: right;\n",
       "    }\n",
       "</style>\n",
       "<table border=\"1\" class=\"dataframe\">\n",
       "  <thead>\n",
       "    <tr style=\"text-align: right;\">\n",
       "      <th>Gender</th>\n",
       "      <th>f</th>\n",
       "      <th>m</th>\n",
       "    </tr>\n",
       "    <tr>\n",
       "      <th>Designation</th>\n",
       "      <th></th>\n",
       "      <th></th>\n",
       "    </tr>\n",
       "  </thead>\n",
       "  <tbody>\n",
       "    <tr>\n",
       "      <td>.net developer</td>\n",
       "      <td>8</td>\n",
       "      <td>26</td>\n",
       "    </tr>\n",
       "    <tr>\n",
       "      <td>.net web developer</td>\n",
       "      <td>1</td>\n",
       "      <td>3</td>\n",
       "    </tr>\n",
       "    <tr>\n",
       "      <td>account executive</td>\n",
       "      <td>2</td>\n",
       "      <td>2</td>\n",
       "    </tr>\n",
       "    <tr>\n",
       "      <td>account manager</td>\n",
       "      <td>0</td>\n",
       "      <td>1</td>\n",
       "    </tr>\n",
       "    <tr>\n",
       "      <td>admin assistant</td>\n",
       "      <td>0</td>\n",
       "      <td>2</td>\n",
       "    </tr>\n",
       "    <tr>\n",
       "      <td>...</td>\n",
       "      <td>...</td>\n",
       "      <td>...</td>\n",
       "    </tr>\n",
       "    <tr>\n",
       "      <td>web designer and seo</td>\n",
       "      <td>1</td>\n",
       "      <td>0</td>\n",
       "    </tr>\n",
       "    <tr>\n",
       "      <td>web developer</td>\n",
       "      <td>17</td>\n",
       "      <td>37</td>\n",
       "    </tr>\n",
       "    <tr>\n",
       "      <td>web intern</td>\n",
       "      <td>1</td>\n",
       "      <td>0</td>\n",
       "    </tr>\n",
       "    <tr>\n",
       "      <td>website developer/tester</td>\n",
       "      <td>0</td>\n",
       "      <td>1</td>\n",
       "    </tr>\n",
       "    <tr>\n",
       "      <td>windows systems administrator</td>\n",
       "      <td>1</td>\n",
       "      <td>0</td>\n",
       "    </tr>\n",
       "  </tbody>\n",
       "</table>\n",
       "<p>419 rows × 2 columns</p>\n",
       "</div>"
      ],
      "text/plain": [
       "Gender                          f   m\n",
       "Designation                          \n",
       ".net developer                  8  26\n",
       ".net web developer              1   3\n",
       "account executive               2   2\n",
       "account manager                 0   1\n",
       "admin assistant                 0   2\n",
       "...                            ..  ..\n",
       "web designer and seo            1   0\n",
       "web developer                  17  37\n",
       "web intern                      1   0\n",
       "website developer/tester        0   1\n",
       "windows systems administrator   1   0\n",
       "\n",
       "[419 rows x 2 columns]"
      ]
     },
     "execution_count": 98,
     "metadata": {},
     "output_type": "execute_result"
    }
   ],
   "source": [
    "pd.crosstab(df['Designation'],df['Gender'])"
   ]
  },
  {
   "cell_type": "markdown",
   "metadata": {},
   "source": [
    "### Gender & Degree"
   ]
  },
  {
   "cell_type": "code",
   "execution_count": 99,
   "metadata": {},
   "outputs": [
    {
     "data": {
      "text/html": [
       "<div>\n",
       "<style scoped>\n",
       "    .dataframe tbody tr th:only-of-type {\n",
       "        vertical-align: middle;\n",
       "    }\n",
       "\n",
       "    .dataframe tbody tr th {\n",
       "        vertical-align: top;\n",
       "    }\n",
       "\n",
       "    .dataframe thead th {\n",
       "        text-align: right;\n",
       "    }\n",
       "</style>\n",
       "<table border=\"1\" class=\"dataframe\">\n",
       "  <thead>\n",
       "    <tr style=\"text-align: right;\">\n",
       "      <th>Gender</th>\n",
       "      <th>f</th>\n",
       "      <th>m</th>\n",
       "    </tr>\n",
       "    <tr>\n",
       "      <th>Degree</th>\n",
       "      <th></th>\n",
       "      <th></th>\n",
       "    </tr>\n",
       "  </thead>\n",
       "  <tbody>\n",
       "    <tr>\n",
       "      <td>B.Tech/B.E.</td>\n",
       "      <td>889</td>\n",
       "      <td>2811</td>\n",
       "    </tr>\n",
       "    <tr>\n",
       "      <td>M.Sc. (Tech.)</td>\n",
       "      <td>1</td>\n",
       "      <td>1</td>\n",
       "    </tr>\n",
       "    <tr>\n",
       "      <td>M.Tech./M.E.</td>\n",
       "      <td>9</td>\n",
       "      <td>44</td>\n",
       "    </tr>\n",
       "    <tr>\n",
       "      <td>MCA</td>\n",
       "      <td>58</td>\n",
       "      <td>185</td>\n",
       "    </tr>\n",
       "  </tbody>\n",
       "</table>\n",
       "</div>"
      ],
      "text/plain": [
       "Gender           f     m\n",
       "Degree                  \n",
       "B.Tech/B.E.    889  2811\n",
       "M.Sc. (Tech.)    1     1\n",
       "M.Tech./M.E.     9    44\n",
       "MCA             58   185"
      ]
     },
     "execution_count": 99,
     "metadata": {},
     "output_type": "execute_result"
    }
   ],
   "source": [
    "pd.crosstab(df['Degree'],df['Gender'])"
   ]
  },
  {
   "cell_type": "code",
   "execution_count": 100,
   "metadata": {},
   "outputs": [
    {
     "data": {
      "text/plain": [
       "<matplotlib.axes._subplots.AxesSubplot at 0x2a33e89d648>"
      ]
     },
     "execution_count": 100,
     "metadata": {},
     "output_type": "execute_result"
    },
    {
     "data": {
      "image/png": "[encoded data removed]",
      "text/plain": [
       "<Figure size 432x288 with 1 Axes>"
      ]
     },
     "metadata": {
      "needs_background": "light"
     },
     "output_type": "display_data"
    }
   ],
   "source": [
    "pd.crosstab(df['Degree'],df['Gender']).plot(kind = 'barh')"
   ]
  },
  {
   "cell_type": "markdown",
   "metadata": {},
   "source": [
    "## Numerical vs categorical"
   ]
  },
  {
   "cell_type": "code",
   "execution_count": 101,
   "metadata": {},
   "outputs": [
    {
     "data": {
      "text/plain": [
       "Index(['ID', 'Salary', 'DOJ', 'DOL', 'Designation', 'JobCity', 'Gender', 'DOB',\n",
       "       '10percentage', '10board', '12graduation', '12percentage', '12board',\n",
       "       'CollegeID', 'CollegeTier', 'Degree', 'Specialization', 'collegeGPA',\n",
       "       'CollegeCityID', 'CollegeCityTier', 'CollegeState', 'GraduationYear',\n",
       "       'English', 'Logical', 'Quant', 'Domain', 'ComputerProgramming',\n",
       "       'ElectronicsAndSemicon', 'ComputerScience', 'MechanicalEngg',\n",
       "       'ElectricalEngg', 'TelecomEngg', 'CivilEngg', 'conscientiousness',\n",
       "       'agreeableness', 'extraversion', 'nueroticism',\n",
       "       'openess_to_experience'],\n",
       "      dtype='object')"
      ]
     },
     "execution_count": 101,
     "metadata": {},
     "output_type": "execute_result"
    }
   ],
   "source": [
    "df.columns"
   ]
  },
  {
   "cell_type": "code",
   "execution_count": 102,
   "metadata": {},
   "outputs": [
    {
     "name": "stdout",
     "output_type": "stream",
     "text": [
      "<class 'pandas.core.frame.DataFrame'>\n",
      "RangeIndex: 3998 entries, 0 to 3997\n",
      "Data columns (total 38 columns):\n",
      "ID                       3998 non-null int64\n",
      "Salary                   3998 non-null int64\n",
      "DOJ                      3998 non-null datetime64[ns]\n",
      "DOL                      3998 non-null datetime64[ns]\n",
      "Designation              3998 non-null object\n",
      "JobCity                  3998 non-null object\n",
      "Gender                   3998 non-null object\n",
      "DOB                      3998 non-null datetime64[ns]\n",
      "10percentage             3998 non-null float64\n",
      "10board                  3998 non-null object\n",
      "12graduation             3998 non-null int64\n",
      "12percentage             3998 non-null float64\n",
      "12board                  3998 non-null object\n",
      "CollegeID                3998 non-null int64\n",
      "CollegeTier              3998 non-null int64\n",
      "Degree                   3998 non-null object\n",
      "Specialization           3998 non-null object\n",
      "collegeGPA               3998 non-null float64\n",
      "CollegeCityID            3998 non-null int64\n",
      "CollegeCityTier          3998 non-null int64\n",
      "CollegeState             3998 non-null object\n",
      "GraduationYear           3998 non-null int64\n",
      "English                  3998 non-null int64\n",
      "Logical                  3998 non-null int64\n",
      "Quant                    3998 non-null int64\n",
      "Domain                   3752 non-null float64\n",
      "ComputerProgramming      3998 non-null int64\n",
      "ElectronicsAndSemicon    3998 non-null int64\n",
      "ComputerScience          3998 non-null int64\n",
      "MechanicalEngg           3998 non-null int64\n",
      "ElectricalEngg           3998 non-null int64\n",
      "TelecomEngg              3998 non-null int64\n",
      "CivilEngg                3998 non-null int64\n",
      "conscientiousness        3998 non-null float64\n",
      "agreeableness            3998 non-null float64\n",
      "extraversion             3998 non-null float64\n",
      "nueroticism              3998 non-null float64\n",
      "openess_to_experience    3998 non-null float64\n",
      "dtypes: datetime64[ns](3), float64(9), int64(18), object(8)\n",
      "memory usage: 1.2+ MB\n"
     ]
    }
   ],
   "source": [
    "df.info()"
   ]
  },
  {
   "cell_type": "markdown",
   "metadata": {},
   "source": [
    "### Salary and Designation"
   ]
  },
  {
   "cell_type": "code",
   "execution_count": 103,
   "metadata": {},
   "outputs": [
    {
     "data": {
      "text/html": [
       "<div>\n",
       "<style scoped>\n",
       "    .dataframe tbody tr th:only-of-type {\n",
       "        vertical-align: middle;\n",
       "    }\n",
       "\n",
       "    .dataframe tbody tr th {\n",
       "        vertical-align: top;\n",
       "    }\n",
       "\n",
       "    .dataframe thead th {\n",
       "        text-align: right;\n",
       "    }\n",
       "</style>\n",
       "<table border=\"1\" class=\"dataframe\">\n",
       "  <thead>\n",
       "    <tr style=\"text-align: right;\">\n",
       "      <th></th>\n",
       "      <th>min</th>\n",
       "      <th>max</th>\n",
       "      <th>mean</th>\n",
       "      <th>median</th>\n",
       "    </tr>\n",
       "    <tr>\n",
       "      <th>Designation</th>\n",
       "      <th></th>\n",
       "      <th></th>\n",
       "      <th></th>\n",
       "      <th></th>\n",
       "    </tr>\n",
       "  </thead>\n",
       "  <tbody>\n",
       "    <tr>\n",
       "      <td>.net developer</td>\n",
       "      <td>35000</td>\n",
       "      <td>470000</td>\n",
       "      <td>223382.352941</td>\n",
       "      <td>200000</td>\n",
       "    </tr>\n",
       "    <tr>\n",
       "      <td>.net web developer</td>\n",
       "      <td>60000</td>\n",
       "      <td>305000</td>\n",
       "      <td>196250.000000</td>\n",
       "      <td>210000</td>\n",
       "    </tr>\n",
       "    <tr>\n",
       "      <td>account executive</td>\n",
       "      <td>85000</td>\n",
       "      <td>445000</td>\n",
       "      <td>287500.000000</td>\n",
       "      <td>310000</td>\n",
       "    </tr>\n",
       "    <tr>\n",
       "      <td>account manager</td>\n",
       "      <td>350000</td>\n",
       "      <td>350000</td>\n",
       "      <td>350000.000000</td>\n",
       "      <td>350000</td>\n",
       "    </tr>\n",
       "    <tr>\n",
       "      <td>admin assistant</td>\n",
       "      <td>100000</td>\n",
       "      <td>105000</td>\n",
       "      <td>102500.000000</td>\n",
       "      <td>102500</td>\n",
       "    </tr>\n",
       "    <tr>\n",
       "      <td>...</td>\n",
       "      <td>...</td>\n",
       "      <td>...</td>\n",
       "      <td>...</td>\n",
       "      <td>...</td>\n",
       "    </tr>\n",
       "    <tr>\n",
       "      <td>web designer and seo</td>\n",
       "      <td>200000</td>\n",
       "      <td>200000</td>\n",
       "      <td>200000.000000</td>\n",
       "      <td>200000</td>\n",
       "    </tr>\n",
       "    <tr>\n",
       "      <td>web developer</td>\n",
       "      <td>60000</td>\n",
       "      <td>340000</td>\n",
       "      <td>168981.481481</td>\n",
       "      <td>147500</td>\n",
       "    </tr>\n",
       "    <tr>\n",
       "      <td>web intern</td>\n",
       "      <td>205000</td>\n",
       "      <td>205000</td>\n",
       "      <td>205000.000000</td>\n",
       "      <td>205000</td>\n",
       "    </tr>\n",
       "    <tr>\n",
       "      <td>website developer/tester</td>\n",
       "      <td>200000</td>\n",
       "      <td>200000</td>\n",
       "      <td>200000.000000</td>\n",
       "      <td>200000</td>\n",
       "    </tr>\n",
       "    <tr>\n",
       "      <td>windows systems administrator</td>\n",
       "      <td>200000</td>\n",
       "      <td>200000</td>\n",
       "      <td>200000.000000</td>\n",
       "      <td>200000</td>\n",
       "    </tr>\n",
       "  </tbody>\n",
       "</table>\n",
       "<p>419 rows × 4 columns</p>\n",
       "</div>"
      ],
      "text/plain": [
       "                                  min     max           mean  median\n",
       "Designation                                                         \n",
       ".net developer                  35000  470000  223382.352941  200000\n",
       ".net web developer              60000  305000  196250.000000  210000\n",
       "account executive               85000  445000  287500.000000  310000\n",
       "account manager                350000  350000  350000.000000  350000\n",
       "admin assistant                100000  105000  102500.000000  102500\n",
       "...                               ...     ...            ...     ...\n",
       "web designer and seo           200000  200000  200000.000000  200000\n",
       "web developer                   60000  340000  168981.481481  147500\n",
       "web intern                     205000  205000  205000.000000  205000\n",
       "website developer/tester       200000  200000  200000.000000  200000\n",
       "windows systems administrator  200000  200000  200000.000000  200000\n",
       "\n",
       "[419 rows x 4 columns]"
      ]
     },
     "execution_count": 103,
     "metadata": {},
     "output_type": "execute_result"
    }
   ],
   "source": [
    "group = df.groupby('Designation')\n",
    "\n",
    "group['Salary'].agg(['min', 'max', 'mean', 'median'])"
   ]
  },
  {
   "cell_type": "markdown",
   "metadata": {},
   "source": [
    "### Salary & Gender"
   ]
  },
  {
   "cell_type": "code",
   "execution_count": 104,
   "metadata": {},
   "outputs": [
    {
     "name": "stderr",
     "output_type": "stream",
     "text": [
      "C:\\ProgramData\\Anaconda3\\lib\\site-packages\\numpy\\core\\_asarray.py:83: VisibleDeprecationWarning: Creating an ndarray from ragged nested sequences (which is a list-or-tuple of lists-or-tuples-or ndarrays with different lengths or shapes) is deprecated. If you meant to do this, you must specify 'dtype=object' when creating the ndarray\n",
      "  return array(a, dtype, copy=False, order=order)\n"
     ]
    },
    {
     "data": {
      "text/plain": [
       "<matplotlib.axes._subplots.AxesSubplot at 0x2a33e93d888>"
      ]
     },
     "execution_count": 104,
     "metadata": {},
     "output_type": "execute_result"
    },
    {
     "data": {
      "image/png": "[encoded data removed]",
      "text/plain": [
       "<Figure size 432x288 with 1 Axes>"
      ]
     },
     "metadata": {
      "needs_background": "light"
     },
     "output_type": "display_data"
    }
   ],
   "source": [
    "df.boxplot(by='Gender', column='Salary')"
   ]
  },
  {
   "cell_type": "markdown",
   "metadata": {},
   "source": [
    "### Degree and Salary"
   ]
  },
  {
   "cell_type": "code",
   "execution_count": 105,
   "metadata": {
    "scrolled": true
   },
   "outputs": [
    {
     "name": "stderr",
     "output_type": "stream",
     "text": [
      "C:\\ProgramData\\Anaconda3\\lib\\site-packages\\numpy\\core\\_asarray.py:83: VisibleDeprecationWarning: Creating an ndarray from ragged nested sequences (which is a list-or-tuple of lists-or-tuples-or ndarrays with different lengths or shapes) is deprecated. If you meant to do this, you must specify 'dtype=object' when creating the ndarray\n",
      "  return array(a, dtype, copy=False, order=order)\n"
     ]
    },
    {
     "data": {
      "text/plain": [
       "<matplotlib.axes._subplots.AxesSubplot at 0x2a33e9d5688>"
      ]
     },
     "execution_count": 105,
     "metadata": {},
     "output_type": "execute_result"
    },
    {
     "data": {
      "image/png": "[encoded data removed]",
      "text/plain": [
       "<Figure size 432x288 with 1 Axes>"
      ]
     },
     "metadata": {
      "needs_background": "light"
     },
     "output_type": "display_data"
    }
   ],
   "source": [
    "df.boxplot(by='Degree', column='Salary')"
   ]
  },
  {
   "cell_type": "markdown",
   "metadata": {},
   "source": [
    "## Research Question"
   ]
  },
  {
   "cell_type": "markdown",
   "metadata": {},
   "source": [
    "## Times of India article dated Jan 18, 2019 states that “After doing your Computer Science Engineering if you take up jobs as a Programming Analyst, Software Engineer, Hardware Engineer and Associate Engineer you can earn up to 2.5-3 lakhs as a fresh graduate.” "
   ]
  },
  {
   "cell_type": "code",
   "execution_count": 106,
   "metadata": {},
   "outputs": [
    {
     "data": {
      "text/plain": [
       ".net developer                   34\n",
       ".net web developer                4\n",
       "account executive                 4\n",
       "account manager                   1\n",
       "admin assistant                   2\n",
       "                                 ..\n",
       "web designer and seo              1\n",
       "web developer                    54\n",
       "web intern                        1\n",
       "website developer/tester          1\n",
       "windows systems administrator     1\n",
       "Name: Designation, Length: 419, dtype: int64"
      ]
     },
     "execution_count": 106,
     "metadata": {},
     "output_type": "execute_result"
    }
   ],
   "source": [
    "df['Designation'].value_counts().sort_index()"
   ]
  },
  {
   "cell_type": "code",
   "execution_count": 107,
   "metadata": {},
   "outputs": [],
   "source": [
    "df['Designation'] = df['Designation'].replace(['software engg','software eng','software engineer'],'software engineer')\n",
    "\n",
    "df['Designation'] = df['Designation'].replace(['programmer analyst','programmer analyst trainee'],'programmer analyst')"
   ]
  },
  {
   "cell_type": "code",
   "execution_count": 108,
   "metadata": {},
   "outputs": [],
   "source": [
    "df1 = df[(df[\"Designation\"].isin([\"programmer analyst\", \"software engineer\", \"hardware engineer\", \"associate engineer\"])) &\n",
    "                (df[\"Specialization\"].isin([\"computer science & engineering\", \"computer engineering\"]))]"
   ]
  },
  {
   "cell_type": "code",
   "execution_count": 109,
   "metadata": {},
   "outputs": [
    {
     "data": {
      "text/plain": [
       "<matplotlib.axes._subplots.AxesSubplot at 0x2a33e9cfd48>"
      ]
     },
     "execution_count": 109,
     "metadata": {},
     "output_type": "execute_result"
    },
    {
     "data": {
      "image/png": "[encoded data removed]",
      "text/plain": [
       "<Figure size 432x288 with 1 Axes>"
      ]
     },
     "metadata": {
      "needs_background": "light"
     },
     "output_type": "display_data"
    }
   ],
   "source": [
    "pd.crosstab(df1['Designation'],df1['Specialization'], normalize = 'index').plot(kind = 'barh')"
   ]
  },
  {
   "cell_type": "markdown",
   "metadata": {},
   "source": [
    "## Is there a relationship between gender and specialization? (i.e. Does the preference of Specialisation depend on the Gender?)\n"
   ]
  },
  {
   "cell_type": "code",
   "execution_count": 110,
   "metadata": {},
   "outputs": [
    {
     "data": {
      "image/png": "[encoded data removed]",
      "text/plain": [
       "<Figure size 432x288 with 1 Axes>"
      ]
     },
     "metadata": {
      "needs_background": "light"
     },
     "output_type": "display_data"
    }
   ],
   "source": [
    "grouped = df.groupby(['Specialization','Gender']).size().unstack()\n",
    "grouped['Total'] = grouped.sum(axis =1)\n",
    "top = grouped.nlargest(10,'Total')\n",
    "top.drop(columns = 'Total',inplace = True)\n",
    "\n",
    "top.plot(kind = 'barh',stacked = True)\n",
    "plt.xlabel('Specialization')\n",
    "plt.ylabel('Count')\n",
    "plt.xticks(rotation = 45)\n",
    "plt.legend(title = 'Gender')\n",
    "plt.show()"
   ]
  },
  {
   "cell_type": "markdown",
   "metadata": {},
   "source": [
    "### Conclusion\n",
    "- In this analysis Senior software engineers earns the greatest income, while spftware developers and Technical \n",
    "  Support Engineers makes less than the total average .\n",
    "- Females do receive less than the total average salary \n",
    "- 10percentage, 12th percentage and college GPA does not affect the salary\n"
   ]
  },
  {
   "cell_type": "code",
   "execution_count": null,
   "metadata": {},
   "outputs": [],
   "source": []
  }
 ],
 "metadata": {
  "kernelspec": {
   "display_name": "Python 3",
   "language": "python",
   "name": "python3"
  },
  "language_info": {
   "codemirror_mode": {
    "name": "ipython",
    "version": 3
   },
   "file_extension": ".py",
   "mimetype": "text/x-python",
   "name": "python",
   "nbconvert_exporter": "python",
   "pygments_lexer": "ipython3",
   "version": "3.7.4"
  }
 },
 "nbformat": 4,
 "nbformat_minor": 2
}
